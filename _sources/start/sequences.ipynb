{
 "cells": [
  {
   "cell_type": "markdown",
   "metadata": {},
   "source": [
    "# Collections of Data - Sequences"
   ]
  },
  {
   "cell_type": "markdown",
   "metadata": {},
   "source": [
    "Now we have a decent understanding of individual data values in Python. But, as a data scientist you'll need to work with an entire set of data values -- not just one!\n",
    "\n",
    "We can start heading towards the notion of a 'data set' by learning how to create collections of values."
   ]
  },
  {
   "cell_type": "markdown",
   "metadata": {},
   "source": [
    "## Lists"
   ]
  },
  {
   "cell_type": "markdown",
   "metadata": {},
   "source": [
    "In Python, the simplest way to make a collection is by creating a list. You can do this by surrounding a group of items with square brackets, `[ ]`, and separating each item with a comma `,`. Any data type is allowed inside a list (including other lists)!"
   ]
  },
  {
   "cell_type": "code",
   "execution_count": null,
   "metadata": {},
   "outputs": [],
   "source": [
    "my_amazing_list = ['one', True, 3, [5.0 - 1.0]]\n",
    "my_amazing_list"
   ]
  },
  {
   "cell_type": "code",
   "execution_count": null,
   "metadata": {},
   "outputs": [],
   "source": [
    "type(my_amazing_list)"
   ]
  },
  {
   "cell_type": "markdown",
   "metadata": {},
   "source": [
    "The end result is an ordered sequence of items that we can read from beginning to end. Each item has a position, called an **index** which starts at **0**. So the in the list above which as four elements, the first element has index 0 and the last element has index 3."
   ]
  },
  {
   "cell_type": "markdown",
   "metadata": {},
   "source": [
    "```{note}\n",
    "The index of items in a sequence starts at **0**. I know I just said it, but I wanted to say it again!\n",
    "```"
   ]
  },
  {
   "cell_type": "markdown",
   "metadata": {},
   "source": [
    "Now that your amazing list is created, you could even add, remove, reorder, and search for items in the list."
   ]
  },
  {
   "cell_type": "markdown",
   "metadata": {},
   "source": [
    "```{margin}\n",
    "If we can alter the contents of a collection, then the collection is often considered 'mutable' (it can mutate!)\n",
    "```"
   ]
  },
  {
   "cell_type": "markdown",
   "metadata": {},
   "source": [
    "### Functions on lists"
   ]
  },
  {
   "cell_type": "markdown",
   "metadata": {},
   "source": [
    "Collections are handy because they allow us to perform calculations that require multiple pieces of data to be computed.\n",
    "\n",
    "For instance, if you've been keeping track of the hours of sleep you get each night for the past week (Monday to Sunday), you might be interested in the shortest and longest amount of time you slept.  Neither of these calculations can be done easily with simple expressions, but they can be done easily calling a function on a list!\n",
    "\n",
    "Let's start by creating our collection of data and assigning it to a meaningful name."
   ]
  },
  {
   "cell_type": "code",
   "execution_count": null,
   "metadata": {},
   "outputs": [],
   "source": [
    "hours_slept = [8, 7, 7, 8, 5, 8, 9]"
   ]
  },
  {
   "cell_type": "markdown",
   "metadata": {},
   "source": [
    "Some functions are specifically designed to perform calculations on collections of values. For example, `max` and `min` are functions that will find the largest or smallest item in a list, respectively.\n",
    "\n",
    "If we're curious what the longest number of hours you slept last week was, we can pass our list into the `max` function."
   ]
  },
  {
   "cell_type": "code",
   "execution_count": null,
   "metadata": {},
   "outputs": [],
   "source": [
    "max([8, 7, 7, 8, 5, 8, 9])"
   ]
  },
  {
   "cell_type": "markdown",
   "metadata": {},
   "source": [
    "And if we want to find the shortest number of hours you slept, then we can use the `min` function on our list. It was tedious to type out all the hours when we calculated the max, so let's take the smarter route and just use the variable name of our collection instead."
   ]
  },
  {
   "cell_type": "code",
   "execution_count": null,
   "metadata": {},
   "outputs": [],
   "source": [
    "min(hours_slept)"
   ]
  },
  {
   "cell_type": "markdown",
   "metadata": {},
   "source": [
    "We can also calculate the total number of hours we slept last week by using `sum`, and we can find out the number of items in a list by using `len`. Feel free to play with these functions in the interactive notebook!"
   ]
  },
  {
   "cell_type": "markdown",
   "metadata": {},
   "source": [
    "````{hiddenanswer}\n",
    "---\n",
    "question: Using `sum` and `len` how would you write an expression that calculates the average number of hours you slept last week?\n",
    "answer: |\n",
    "    ```\n",
    "    sum(hours_slept) / len(hours_slept)\n",
    "    ```\n",
    "    7.857142857142857\n",
    "````"
   ]
  },
  {
   "cell_type": "markdown",
   "metadata": {},
   "source": [
    "Finally, just like strings had their own set of special functions (called methods), lists have their own set of methods.\n",
    "\n",
    "These methods allow us to do things like add (append) an item to the end of a list, or find and remove an item from a list. Just like with string methods, list methods are called by placing a dot after a list or the variable name of a list, and then calling a method name as a function.\n",
    "\n",
    "A lot of these methods don't return any value, but instead just modify the list directly -- so, we need to show the list again to see what the effect of the method was. If this is confusing, that's fine! We'll go over these methods at a later chapter when we learn about 'loops', but for now feel free to just play around with list methods."
   ]
  },
  {
   "cell_type": "code",
   "execution_count": null,
   "metadata": {},
   "outputs": [],
   "source": [
    "hours_slept = [8, 7, 7, 8, 5, 8, 9]\n",
    "hours_slept"
   ]
  },
  {
   "cell_type": "code",
   "execution_count": null,
   "metadata": {},
   "outputs": [],
   "source": [
    "hours_slept.append(3)"
   ]
  },
  {
   "cell_type": "code",
   "execution_count": null,
   "metadata": {},
   "outputs": [],
   "source": [
    "hours_slept"
   ]
  },
  {
   "cell_type": "code",
   "execution_count": null,
   "metadata": {},
   "outputs": [],
   "source": [
    "hours_slept.remove(8)"
   ]
  },
  {
   "cell_type": "code",
   "execution_count": null,
   "metadata": {},
   "outputs": [],
   "source": [
    "hours_slept"
   ]
  },
  {
   "cell_type": "markdown",
   "metadata": {},
   "source": [
    "### Selecting items from a list"
   ]
  },
  {
   "cell_type": "markdown",
   "metadata": {},
   "source": [
    "Recall that every item in a sequence has an **index** -- this is how the computer stores its position in the sequence. Indexing starts at 0.\n",
    "\n",
    "To grab a specific item from a list, we can use square brackets containing the index of the item we want."
   ]
  },
  {
   "cell_type": "code",
   "execution_count": null,
   "metadata": {},
   "outputs": [],
   "source": [
    "days_of_the_week = [\n",
    "    'Monday',\n",
    "    'Tuesday',\n",
    "    'Wednesday',\n",
    "    'Thursday',\n",
    "    'Friday',\n",
    "    'Saturday',\n",
    "    'Sunday'\n",
    "]"
   ]
  },
  {
   "cell_type": "code",
   "execution_count": null,
   "metadata": {},
   "outputs": [],
   "source": [
    "days_of_the_week[0]"
   ]
  },
  {
   "cell_type": "code",
   "execution_count": null,
   "metadata": {},
   "outputs": [],
   "source": [
    "days_of_the_week[len(days_of_the_week) - 1]"
   ]
  },
  {
   "cell_type": "markdown",
   "metadata": {},
   "source": [
    "Notice that if we try to select an item from an index that's outside of the list, we'll get a helpful `IndexError`."
   ]
  },
  {
   "cell_type": "code",
   "execution_count": null,
   "metadata": {
    "tags": [
     "raises-exception"
    ]
   },
   "outputs": [],
   "source": [
    "days_of_the_week[7]"
   ]
  },
  {
   "cell_type": "markdown",
   "metadata": {},
   "source": [
    "## Arrays"
   ]
  },
  {
   "cell_type": "markdown",
   "metadata": {},
   "source": [
    "Python’s lists are useful and easy to work with, but can be slow. As data scientists, we will eventually be working with sequences of millions, if not billions, of entries -- so speed is of the essence. Additionally, a lot of the calculations we've seen above aren't going to work if our list contains mixed types! After all, have you ever tried calculating the sum of `2` and `'orange'`?"
   ]
  },
  {
   "cell_type": "markdown",
   "metadata": {},
   "source": [
    "The numerical analysis library `numpy` fixes this by introducing a new type of sequence: *arrays*. Let's import the `numpy` library (calling it `np` just to make it quicker to type) and get started!"
   ]
  },
  {
   "cell_type": "code",
   "execution_count": null,
   "metadata": {},
   "outputs": [],
   "source": [
    "import numpy as np"
   ]
  },
  {
   "cell_type": "markdown",
   "metadata": {},
   "source": [
    "```{tip}\n",
    "Avoid the embrassment -- it's pronounced **\"num-pie\"**  \n",
    "<small>(not \"num-pee\")</small>\n",
    "```"
   ]
  },
  {
   "cell_type": "markdown",
   "metadata": {},
   "source": [
    "Arrays are stricter than lists, with two main restrictions that are instantly noticeable:\n",
    "\n",
    "1. They can only contain one type of data\n",
    "2. One created, we cannot directly add or remove items\n",
    "\n",
    "However, NumPy arrays offer incredible power and speed which have made them one of the most commonly used collections in data science."
   ]
  },
  {
   "cell_type": "markdown",
   "metadata": {},
   "source": [
    "A lot of the same concepts from lists carry over when trying to understand arrays. In fact, to create an array we pass in a list to the `np.array()` function."
   ]
  },
  {
   "cell_type": "code",
   "execution_count": null,
   "metadata": {},
   "outputs": [],
   "source": [
    "hours_slept_array = np.array([8, 7, 7, 8, 5, 8, 9])\n",
    "hours_slept_array"
   ]
  },
  {
   "cell_type": "markdown",
   "metadata": {},
   "source": [
    "Arrays can also contain other types of data, like strings or bools or other arrays, *but* remember that a single array can only contain a single type of data."
   ]
  },
  {
   "cell_type": "code",
   "execution_count": null,
   "metadata": {},
   "outputs": [],
   "source": [
    "np.array(['this', 'is', 'also', 'fine'])"
   ]
  },
  {
   "cell_type": "markdown",
   "metadata": {},
   "source": [
    "Remember what happened when we evaluated expressions that contained both ints and float? The result was always a float. The same thing will happen if we try to make an array containing ints and float -- remember, only one data type can be contained by an array."
   ]
  },
  {
   "cell_type": "code",
   "execution_count": null,
   "metadata": {},
   "outputs": [],
   "source": [
    "np.array([1, 2, 3.0])"
   ]
  },
  {
   "cell_type": "markdown",
   "metadata": {},
   "source": [
    "If possible, NumPy will always try to convert everything you give it to the same type. That means if you give it strings and numbers, it'll turn everything into strings!\n",
    "\n",
    "Why is this? Because you can always convert a number into a string (just place quotes around it!), but there are only a handful some strings that can be reliably converted into a number. For the sake of consistency, NumPy turns it all into strings."
   ]
  },
  {
   "cell_type": "markdown",
   "metadata": {},
   "source": [
    "```{margin}\n",
    "No need to be worried about the weird looking \"dtype\" -- that just tells us that the data type it contains are stored as unicode strings (`U`) with a maximum possible length of 21 characters (`21`).\n",
    "```"
   ]
  },
  {
   "cell_type": "code",
   "execution_count": null,
   "metadata": {},
   "outputs": [],
   "source": [
    "np.array([1, 2, '3'])"
   ]
  },
  {
   "cell_type": "markdown",
   "metadata": {},
   "source": [
    "### Functions on Arrays"
   ]
  },
  {
   "cell_type": "markdown",
   "metadata": {},
   "source": [
    "The functions we looked at that can be used on lists can also be used on arrays, but NumPy also comes full of additional functions and methods that perform a vast amount of useful calculations on arrays."
   ]
  },
  {
   "cell_type": "markdown",
   "metadata": {},
   "source": [
    "The NumPy functions can be called just like we called the math functions. Once we've imported the `numpy` library (abbreviated as `np`) we can just type `np.` followed by a function name to access the function."
   ]
  },
  {
   "cell_type": "markdown",
   "metadata": {},
   "source": [
    "The same functions we used to find the shortest, longest, and total amount of time slept can also be used on arrays. At a basic level, NumPy also offers their own version of these functions."
   ]
  },
  {
   "cell_type": "code",
   "execution_count": null,
   "metadata": {},
   "outputs": [],
   "source": [
    "min(hours_slept_array) == np.min(hours_slept_array)"
   ]
  },
  {
   "cell_type": "code",
   "execution_count": null,
   "metadata": {},
   "outputs": [],
   "source": [
    "max(hours_slept_array) == np.max(hours_slept_array)"
   ]
  },
  {
   "cell_type": "code",
   "execution_count": null,
   "metadata": {},
   "outputs": [],
   "source": [
    "sum(hours_slept_array) == np.sum(hours_slept_array)"
   ]
  },
  {
   "cell_type": "markdown",
   "metadata": {},
   "source": [
    "But what's the fun in that? NumPy also offers tons of functions that *aren't* built in the Python. For instance, you can use the `np.mean` function to calculate the average value of a sequence -- a metric which is extremely useful and common in data analysis."
   ]
  },
  {
   "cell_type": "code",
   "execution_count": null,
   "metadata": {},
   "outputs": [],
   "source": [
    "example_array = np.array([1, 1, 2, 3, 3])\n",
    "np.mean(example_array)"
   ]
  },
  {
   "cell_type": "markdown",
   "metadata": {},
   "source": [
    "There are loads of more complex calculations, such as the `np.cumsum` function which calculates the 'cumulative sum' of a sequence -- a running total of the sum of the sequence at each point along the sequence."
   ]
  },
  {
   "cell_type": "code",
   "execution_count": null,
   "metadata": {},
   "outputs": [],
   "source": [
    "np.cumsum(example_array)"
   ]
  },
  {
   "cell_type": "markdown",
   "metadata": {},
   "source": [
    "Just like strings and lists, arrays also own special methods that can perform calculations! All of the NumPy functions we've looked at so far can also be called using the same dot notation that we used with string and list methods."
   ]
  },
  {
   "cell_type": "code",
   "execution_count": null,
   "metadata": {},
   "outputs": [],
   "source": [
    "example_array.min()"
   ]
  },
  {
   "cell_type": "code",
   "execution_count": null,
   "metadata": {},
   "outputs": [],
   "source": [
    "example_array.max()"
   ]
  },
  {
   "cell_type": "code",
   "execution_count": null,
   "metadata": {},
   "outputs": [],
   "source": [
    "example_array.sum()"
   ]
  },
  {
   "cell_type": "code",
   "execution_count": null,
   "metadata": {},
   "outputs": [],
   "source": [
    "example_array.mean()"
   ]
  },
  {
   "cell_type": "code",
   "execution_count": null,
   "metadata": {},
   "outputs": [],
   "source": [
    "example_array.cumsum()"
   ]
  },
  {
   "cell_type": "markdown",
   "metadata": {},
   "source": [
    "A reference of common NumPy functions may be included at a later date."
   ]
  },
  {
   "cell_type": "markdown",
   "metadata": {},
   "source": [
    "### Selecting items from arrays"
   ]
  },
  {
   "cell_type": "markdown",
   "metadata": {},
   "source": [
    "You can select specific items from arrays the exact same way you did with lists, using square brackets and the index of the item you want to select."
   ]
  },
  {
   "cell_type": "code",
   "execution_count": null,
   "metadata": {},
   "outputs": [],
   "source": [
    "days_of_week_array = np.array(days_of_the_week)"
   ]
  },
  {
   "cell_type": "code",
   "execution_count": null,
   "metadata": {},
   "outputs": [],
   "source": [
    "days_of_week_array[0]"
   ]
  },
  {
   "cell_type": "code",
   "execution_count": null,
   "metadata": {},
   "outputs": [],
   "source": [
    "days_of_week_array[len(days_of_week_array) - 1]"
   ]
  },
  {
   "cell_type": "code",
   "execution_count": null,
   "metadata": {
    "tags": [
     "raises-exception"
    ]
   },
   "outputs": [],
   "source": [
    "days_of_week_array[7]"
   ]
  },
  {
   "cell_type": "markdown",
   "metadata": {},
   "source": [
    "### Element-wise arithmetic"
   ]
  },
  {
   "cell_type": "markdown",
   "metadata": {},
   "source": [
    "The power of arrays really starts to shine when math is involved. Arrays have the power to quickly perform operations over each element they contain."
   ]
  },
  {
   "cell_type": "markdown",
   "metadata": {},
   "source": [
    "For instance, we can convert an entire array of temperatures measured in Fahrenheit to Celsius by writing a single expression."
   ]
  },
  {
   "cell_type": "code",
   "execution_count": null,
   "metadata": {},
   "outputs": [],
   "source": [
    "temperatures_f = np.array([0.5, 32.0, 71.6, 212.0])"
   ]
  },
  {
   "cell_type": "code",
   "execution_count": null,
   "metadata": {},
   "outputs": [],
   "source": [
    "(temperatures_f - 32) * (5 / 9)"
   ]
  },
  {
   "cell_type": "markdown",
   "metadata": {},
   "source": [
    "In the above example, first `(temperatures_f - 32)` is evaluated and produces an array with 32 subtracted from every temperature. Then `(5 / 9)` is evaluated. Then then every element in the new array is multiplied by 5/9, producing the final output array."
   ]
  },
  {
   "cell_type": "markdown",
   "metadata": {},
   "source": [
    "[array operations between multiple arrays]"
   ]
  },
  {
   "cell_type": "markdown",
   "metadata": {},
   "source": [
    "## Ranges"
   ]
  },
  {
   "cell_type": "markdown",
   "metadata": {},
   "source": [
    "[compare to indices -- start at zero, exclude the last]\n",
    "[np.arange for element-wise arithmetic or floats]"
   ]
  },
  {
   "cell_type": "markdown",
   "metadata": {},
   "source": [
    "---\n",
    "## Summary\n",
    "\n",
    "To get multiple pieces of data in one place, we create a **collection**. If the collection has an order then it is a **sequence**.\n",
    "\n",
    "Each item in a sequence has an **index** -- its position, starting at zero.\n",
    "\n",
    "| Index | 0 | 1 | 2 | ... | n-1 |\n",
    "| --- | --- | --- | --- | --- | --- |\n",
    "| Sequence (length n) | [item, | item, | item, | ... | item]\n",
    "\n",
    "**Lists** are the most basic sequence, and are created by surrounding a group of items with square brackets and separating each item by commas: `[item, item, ...]`\n",
    "\n",
    "Any data type is allowed inside of lists, and the items can have different types.\n",
    "\n",
    "Some functions can be called on lists to perform calculations, such as `min` `max` `sum` and `len`.\n",
    "\n",
    "Lists own a handful of **methods** -- functions that belong solely to the data type of lists.\n",
    "\n",
    "Methods are called using **dot notation**, by placing a dot after a list or variable name of a list, then calling the function: `my_list.function_name(arguments, ...)`\n",
    "\n",
    "Some list methods allow you to add and remove items from lists.\n",
    "\n",
    "An item can be selected from a sequence by using brackets with the index of the item: `my_list[index]`\n",
    "\n",
    "**Arrays** are a sequence from the NumPy library, and are created by passing a list into the `np.array` function: `np.array([item, item, ...])` `np.array(my_list)`\n",
    "\n",
    "All items in an array must have the same data type.\n",
    "\n",
    "Functions that can be called on lists can also be called on arrays.\n",
    "\n",
    "NumPy offers lots of additional functions that can be called on sequences. These can be accessed using `np.function_name(arguments, ...)`.\n",
    "\n",
    "Arrays own a handful of methods, called using dot notation.\n",
    "\n",
    "Some array methods allow you to perform calculations on the array.\n",
    "\n",
    "An item can be selected from an array the same way as any sequence, by using brackets with the index of the item: `my_array[index]`\n",
    "\n",
    "Arrays support **element-wise arithmetic**, such as adding or multiplying all elements by a single number.\n",
    "\n",
    "Arrays of the same length support element-wise arithmetic between the two arrays, such as adding or multiplying each element in one array with each element in the same position of another array.\n",
    "\n",
    "A sequence of numbers with constant spacing can be easily constructed using a **range**: `range(endpoint)` `range(start, endpoint)` `range(start, endpoint, stepsize)`\n",
    "\n",
    "By default, ranges will start at 0 and have a step size of 1.\n",
    "\n",
    "A range will always *exclude* the endpoint -- so `range(3)` will count `0 1 2`.\n",
    "\n",
    "NumPy's `np.arange` function creates an array containing a range, with the same arguments and defaults: `np.arange(endpoint)` `np.arange(start, endpoint)` `np.arange(start, endpoint, stepsize)`\n",
    "\n",
    "If you want to use a range for element-wise arithmetic or if you want a range of floats, you should use `np.arange`."
   ]
  }
 ],
 "metadata": {
  "kernelspec": {
   "display_name": "Python 3",
   "language": "python",
   "name": "python3"
  },
  "language_info": {
   "codemirror_mode": {
    "name": "ipython",
    "version": 3
   },
   "file_extension": ".py",
   "mimetype": "text/x-python",
   "name": "python",
   "nbconvert_exporter": "python",
   "pygments_lexer": "ipython3",
   "version": "3.8.3"
  }
 },
 "nbformat": 4,
 "nbformat_minor": 4
}
