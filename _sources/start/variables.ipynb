{
 "cells": [
  {
   "cell_type": "markdown",
   "metadata": {},
   "source": [
    "# Variables\n",
    "\n",
    "So far, everything we have done in Python could have been done with the calculator on your phone. Now let's see how Python can do something that your phone's calculator probably can't do: save the result of an expression and recall it for use later.\n",
    "\n",
    "As always, remember that you can follow along by clicking the link under the rocket icon at the top of the page to launch the Jupyter notebook version of this page!"
   ]
  },
  {
   "cell_type": "markdown",
   "metadata": {},
   "source": [
    "## Giving Names to Values\n",
    "\n",
    "Values can be given names using `=`. For example:"
   ]
  },
  {
   "cell_type": "code",
   "execution_count": null,
   "metadata": {},
   "outputs": [],
   "source": [
    "the_answer_to_everything = 42"
   ]
  },
  {
   "cell_type": "markdown",
   "metadata": {},
   "source": [
    "This line of code stores the number `42` in a **variable** named `the_answer_to_everything`. We can later reference these values by name in expressions contained in other cells:"
   ]
  },
  {
   "cell_type": "code",
   "execution_count": null,
   "metadata": {},
   "outputs": [],
   "source": [
    "the_answer_to_everything + 12"
   ]
  },
  {
   "cell_type": "markdown",
   "metadata": {},
   "source": [
    "Multiple variables can be defined in the same cell:"
   ]
  },
  {
   "cell_type": "code",
   "execution_count": null,
   "metadata": {},
   "outputs": [],
   "source": [
    "a = 1\n",
    "b = 2\n",
    "c = 3"
   ]
  },
  {
   "cell_type": "markdown",
   "metadata": {},
   "source": [
    "And multiple variables can be used in the same expression:"
   ]
  },
  {
   "cell_type": "code",
   "execution_count": null,
   "metadata": {},
   "outputs": [],
   "source": [
    "a + b + c"
   ]
  },
  {
   "cell_type": "markdown",
   "metadata": {},
   "source": [
    "Notice that a cell containing only an assignment has no output:"
   ]
  },
  {
   "cell_type": "code",
   "execution_count": null,
   "metadata": {},
   "outputs": [],
   "source": [
    "number_of_seconds_in_a_year = 60 * 60 * 24 * 365"
   ]
  },
  {
   "cell_type": "markdown",
   "metadata": {},
   "source": [
    "This might seem strange: in the previous section, the result of our expressions was displayed as the cell's output. What gives?\n",
    "\n",
    "The reason we see no output is because the code `number_of_seconds_in_a_year = 60 * 60 * 24 * 365` is not an **expression**, it is a **statement**. While expressions have values, statements do not. When a notebook cell is run, the value of the last line in the cell is used as the output. But since an assignment statement has no value, there is no value to print.\n",
    "\n",
    "However, the line of code consisting only of a variable's name *is* an expression -- its value is the value of the variable. For instance:"
   ]
  },
  {
   "cell_type": "code",
   "execution_count": null,
   "metadata": {},
   "outputs": [],
   "source": [
    "number_of_seconds_in_a_year"
   ]
  },
  {
   "cell_type": "markdown",
   "metadata": {},
   "source": [
    "This suggests the following workaround to the fact that assignments result in no output:"
   ]
  },
  {
   "cell_type": "markdown",
   "metadata": {},
   "source": [
    "````{jupytertip}\n",
    "\n",
    "To have Jupyter display the value of a variable that has just been assigned, write the variable's name as the last line of the cell. For example:\n",
    "\n",
    "    number_of_seconds_in_a_year = 60 * 60 * 24 * 365\n",
    "    number_of_seconds_in_a_year\n",
    "\n",
    "\n",
    "````"
   ]
  },
  {
   "cell_type": "markdown",
   "metadata": {},
   "source": [
    "Testing it out:"
   ]
  },
  {
   "cell_type": "code",
   "execution_count": null,
   "metadata": {},
   "outputs": [],
   "source": [
    "number_of_seconds_in_a_year = 60 * 60 * 24 * 365\n",
    "number_of_seconds_in_a_year"
   ]
  },
  {
   "cell_type": "markdown",
   "metadata": {},
   "source": [
    "Valid names may include letters, underscores, and numbers -- but they must start with a letter or underscore. Names are **case-sensitive**, meaning that `My_variable` and `my_variable` are two different, distinct names."
   ]
  },
  {
   "cell_type": "markdown",
   "metadata": {},
   "source": [
    "You can experiment with variable assignments in order to get a better feeling for how Python works. For instance, suppose we define two variables, `a` and `b`, and a third variable `c` to be their sum:"
   ]
  },
  {
   "cell_type": "code",
   "execution_count": null,
   "metadata": {},
   "outputs": [],
   "source": [
    "a = 5\n",
    "b = 3\n",
    "c = a + b\n",
    "c"
   ]
  },
  {
   "cell_type": "markdown",
   "metadata": {},
   "source": [
    "We see that, as expected, the value of `c` is 8. Now suppose we create and run a new code cell containing:"
   ]
  },
  {
   "cell_type": "code",
   "execution_count": null,
   "metadata": {},
   "outputs": [],
   "source": [
    "a = 42"
   ]
  },
  {
   "cell_type": "markdown",
   "metadata": {},
   "source": [
    "If we were to print the value of `c`, what would we see? Would it still be 8? Or now it \"update\" to become 45 now that `a` has changed? Try it by creating a new cell and writing the necessary code. The answer is below:"
   ]
  },
  {
   "cell_type": "markdown",
   "metadata": {},
   "source": [
    "```{hiddenanswer}\n",
    "---\n",
    "question: Suppose we were to print the variable `c`. What would we observe its value to be?\n",
    "answer: 8. \n",
    "```"
   ]
  },
  {
   "cell_type": "markdown",
   "metadata": {},
   "source": [
    "## Notebook State\n",
    "\n",
    "A notebook "
   ]
  },
  {
   "cell_type": "markdown",
   "metadata": {},
   "source": [
    "## Example\n",
    "\n",
    "A lightyear is a unit of measurement equal to the distance that light travels in one Earth year. Because light is very fast, a lightyear is quite a large distance.\n",
    "\n",
    "Suppose we want to calculate the number of lightyears between the Earth and the Sun. Let's start by assuming that we know two things:\n",
    "\n",
    "1. The speed of light is 186,000 miles per second\n",
    "2. The Earth is 93 million miles away from the sun\n",
    "\n",
    "Here's our strategy: we'll first calculate how long a lightyear is in miles, then we'll divide 93 million miles by this number to find how many lightyears are between the Sun and the Earth.\n",
    "\n",
    "So how long is a lightyear, in miles? That is, how far does light travel in one year. Well, it travels 186,000 miles per second. There are 3600 seconds in an hour, so light travels"
   ]
  },
  {
   "cell_type": "markdown",
   "metadata": {
    "tags": [
     "hide-from-reader"
    ]
   },
   "source": [
    "```{margin}\n",
    "\n",
    "The underscore in `186_000` does nothing -- Python ignores it. But it makes it easier for us humans to see how large the number is. If you'd like, you can omit it entirely.\n",
    "```"
   ]
  },
  {
   "cell_type": "code",
   "execution_count": null,
   "metadata": {},
   "outputs": [],
   "source": [
    "186_000 * 3600"
   ]
  },
  {
   "cell_type": "markdown",
   "metadata": {},
   "source": [
    "miles in an hour. Since there are 24 hours in a day, light travels"
   ]
  },
  {
   "cell_type": "code",
   "execution_count": null,
   "metadata": {},
   "outputs": [],
   "source": [
    "186_000 * 3600 * 24"
   ]
  },
  {
   "cell_type": "markdown",
   "metadata": {},
   "source": [
    "hours in one day. And since there are 365 days in a (normal) year, light travels"
   ]
  },
  {
   "cell_type": "code",
   "execution_count": null,
   "metadata": {},
   "outputs": [],
   "source": [
    "186_000 * 3600 * 24 * 365"
   ]
  },
  {
   "cell_type": "markdown",
   "metadata": {},
   "source": [
    "miles in one year. Now we can get what we came for. Dividing 93 million by this number will give us the distance to the Sun in lightyears:"
   ]
  },
  {
   "cell_type": "code",
   "execution_count": null,
   "metadata": {},
   "outputs": [],
   "source": [
    "93_000_000 / 5865696000000"
   ]
  },
  {
   "cell_type": "markdown",
   "metadata": {},
   "source": [
    "The result is a relatively small number expressed in scientific notation. Remember that `1.585e-5` is shorthand for $1.585 \\times 10^{-5}$.\n",
    "\n",
    "Now suppose we want to calculate the distance from La Jolla to Berkeley in lightyears. We don't need to repeat the whole process above: we can just take the distance in miles (roughly 480 miles) and divide it by `5865696000000`. We get:"
   ]
  },
  {
   "cell_type": "code",
   "execution_count": null,
   "metadata": {},
   "outputs": [],
   "source": [
    "580 / 5865696000000"
   ]
  },
  {
   "cell_type": "markdown",
   "metadata": {},
   "source": [
    "Notice that we keep reusing this number, `5865696000000`, when performing our conversion. "
   ]
  }
 ],
 "metadata": {
  "kernelspec": {
   "display_name": "Python 3",
   "language": "python",
   "name": "python3"
  },
  "language_info": {
   "codemirror_mode": {
    "name": "ipython",
    "version": 3
   },
   "file_extension": ".py",
   "mimetype": "text/x-python",
   "name": "python",
   "nbconvert_exporter": "python",
   "pygments_lexer": "ipython3",
   "version": "3.7.3"
  }
 },
 "nbformat": 4,
 "nbformat_minor": 4
}
