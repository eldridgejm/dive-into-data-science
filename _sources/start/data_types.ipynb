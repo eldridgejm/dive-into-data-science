{
 "cells": [
  {
   "cell_type": "markdown",
   "metadata": {},
   "source": [
    "# Data Types"
   ]
  },
  {
   "cell_type": "markdown",
   "metadata": {},
   "source": [
    "In Python, everything is considered to be some *type* of object."
   ]
  },
  {
   "cell_type": "markdown",
   "metadata": {},
   "source": [
    "```{margin}\n",
    "An **object** is just Python's way of saying \"a thing\". Since everything is data in a computer's eyes we call the types of these objects 'data types'.\n",
    "```"
   ]
  },
  {
   "cell_type": "markdown",
   "metadata": {},
   "source": [
    "We can easily figure out what type of object something is by using the `type` function."
   ]
  },
  {
   "cell_type": "code",
   "execution_count": null,
   "metadata": {},
   "outputs": [],
   "source": [
    "type(1)"
   ]
  },
  {
   "cell_type": "code",
   "execution_count": null,
   "metadata": {},
   "outputs": [],
   "source": [
    "type('hello')"
   ]
  },
  {
   "cell_type": "code",
   "execution_count": null,
   "metadata": {},
   "outputs": [],
   "source": [
    "type(True)"
   ]
  },
  {
   "cell_type": "markdown",
   "metadata": {},
   "source": [
    "Even functions, like `sum`, are a type of object! We'll talk about this at the end."
   ]
  },
  {
   "cell_type": "code",
   "execution_count": null,
   "metadata": {},
   "outputs": [],
   "source": [
    "type(sum)"
   ]
  },
  {
   "cell_type": "markdown",
   "metadata": {},
   "source": [
    "## Primitives"
   ]
  },
  {
   "cell_type": "markdown",
   "metadata": {},
   "source": [
    "Some objects are really basic, you could even call them \"primitive\".\n",
    "\n",
    "The four primitive data types are:\n",
    "- Integers\n",
    "- Floats\n",
    "- Strings\n",
    "- Booleans\n",
    "\n",
    "and they correspond to the types of data we see most often: numbers, text, and true/false.\n",
    "\n",
    "These objects essentially have intrinsic value -- they are raw data."
   ]
  },
  {
   "cell_type": "markdown",
   "metadata": {},
   "source": [
    "### Numbers - Ints and Floats"
   ]
  },
  {
   "cell_type": "markdown",
   "metadata": {},
   "source": [
    "Turns out, there's actually a distinction between two main types of numbers **integers** and **floats**."
   ]
  },
  {
   "cell_type": "markdown",
   "metadata": {},
   "source": [
    "Just like in math class, **integers** must be whole numbers without any decimals or fractions. These can be big, small, positive, negative, or zero.  Integers have the type `int`."
   ]
  },
  {
   "cell_type": "code",
   "execution_count": null,
   "metadata": {},
   "outputs": [],
   "source": [
    "type(4)"
   ]
  },
  {
   "cell_type": "code",
   "execution_count": null,
   "metadata": {},
   "outputs": [],
   "source": [
    "type(0)"
   ]
  },
  {
   "cell_type": "code",
   "execution_count": null,
   "metadata": {},
   "outputs": [],
   "source": [
    "type(-10968298760848092360872)"
   ]
  },
  {
   "cell_type": "markdown",
   "metadata": {},
   "source": [
    "Real numbers are called **floats**, and are basically any number with a decimal point. Real numbers have the type the type `float`."
   ]
  },
  {
   "cell_type": "markdown",
   "metadata": {},
   "source": [
    "```{margin}\n",
    "The term 'float' comes from \"floating point number\", since they're respented by the computer as a value and the position of the decimal point -- so the decimal point can 'float' to any position in the value.\n",
    "```"
   ]
  },
  {
   "cell_type": "markdown",
   "metadata": {},
   "source": [
    "When floats get really big or really small they might be printed in scientific notation. You can write floats in scientific notation, too."
   ]
  },
  {
   "cell_type": "code",
   "execution_count": null,
   "metadata": {},
   "outputs": [],
   "source": [
    "type(4.0)"
   ]
  },
  {
   "cell_type": "code",
   "execution_count": null,
   "metadata": {},
   "outputs": [],
   "source": [
    "type(-5987.63644)"
   ]
  },
  {
   "cell_type": "code",
   "execution_count": null,
   "metadata": {},
   "outputs": [],
   "source": [
    "-12345678909876654321.0"
   ]
  },
  {
   "cell_type": "code",
   "execution_count": null,
   "metadata": {},
   "outputs": [],
   "source": [
    "type(1e-10)"
   ]
  },
  {
   "cell_type": "code",
   "execution_count": null,
   "metadata": {},
   "outputs": [],
   "source": [
    "type(1 / 1)"
   ]
  },
  {
   "cell_type": "markdown",
   "metadata": {},
   "source": [
    "Did you catch the strange thing that happened in the last code cell?"
   ]
  },
  {
   "cell_type": "markdown",
   "metadata": {},
   "source": [
    "#### When `int` and `float` mix"
   ]
  },
  {
   "cell_type": "markdown",
   "metadata": {},
   "source": [
    "Recall that expressions within parenthesis will be evaluated first, so the `type` function is actually being called on the result of the expression `1 / 1`.  But, wouldn't we expect that any number divided by itself is just 1... an integer?\n",
    "\n",
    "Python will always return a float if an expression involves a float, or if integers are being divided."
   ]
  },
  {
   "cell_type": "code",
   "execution_count": null,
   "metadata": {},
   "outputs": [],
   "source": [
    "1 + 2.0"
   ]
  },
  {
   "cell_type": "code",
   "execution_count": null,
   "metadata": {},
   "outputs": [],
   "source": [
    "4 / 2"
   ]
  },
  {
   "cell_type": "markdown",
   "metadata": {},
   "source": [
    "If we want to convert the result into specifically an int or a float, we can use the `int` or `float` functions."
   ]
  },
  {
   "cell_type": "code",
   "execution_count": null,
   "metadata": {},
   "outputs": [],
   "source": [
    "int(1 + 2.0)"
   ]
  },
  {
   "cell_type": "code",
   "execution_count": null,
   "metadata": {},
   "outputs": [],
   "source": [
    "float(1 + 2)"
   ]
  },
  {
   "cell_type": "markdown",
   "metadata": {},
   "source": [
    "But be aware that converting a float to an int will essentially just drop anything after the decimal point -- it will not round."
   ]
  },
  {
   "cell_type": "code",
   "execution_count": null,
   "metadata": {},
   "outputs": [],
   "source": [
    "int(1 + 2.5)"
   ]
  },
  {
   "cell_type": "markdown",
   "metadata": {},
   "source": [
    "#### A note on precision"
   ]
  },
  {
   "cell_type": "code",
   "execution_count": null,
   "metadata": {},
   "outputs": [],
   "source": [
    "12345678901234567890.1234567890123456789"
   ]
  },
  {
   "cell_type": "markdown",
   "metadata": {},
   "source": [
    "Integers can be any length (as long as you don't run out of memory on your computer!), and will remain precise to the nearest integer.\n",
    "\n",
    "Floats, however, only remain precise up to ~15-16 digits."
   ]
  },
  {
   "cell_type": "code",
   "execution_count": null,
   "metadata": {},
   "outputs": [],
   "source": [
    "# This integer can be as long as we want\n",
    "# and it'll still be precicse to the nearest integer.\n",
    "123456789012345678901234567890"
   ]
  },
  {
   "cell_type": "code",
   "execution_count": null,
   "metadata": {},
   "outputs": [],
   "source": [
    "# This float will cut off after the 16th digit\n",
    "1.23456789012345678901234567890"
   ]
  },
  {
   "cell_type": "code",
   "execution_count": null,
   "metadata": {},
   "outputs": [],
   "source": [
    "# Same with this one\n",
    "1234567890.12345678901234567890"
   ]
  },
  {
   "cell_type": "code",
   "execution_count": null,
   "metadata": {},
   "outputs": [],
   "source": [
    "# And this one\n",
    "12345678901234567890.1234567890"
   ]
  },
  {
   "cell_type": "markdown",
   "metadata": {},
   "source": [
    "Because floats lack some precision, small arithmetic errors called \"floating point errors\" can result from float operations."
   ]
  },
  {
   "cell_type": "code",
   "execution_count": null,
   "metadata": {},
   "outputs": [],
   "source": [
    "3.0 * 1.2"
   ]
  },
  {
   "cell_type": "markdown",
   "metadata": {},
   "source": [
    "This also means that sometimes something that *should* be zero doesn't seem to be zero, but instead appears to be a super small number."
   ]
  },
  {
   "cell_type": "code",
   "execution_count": null,
   "metadata": {},
   "outputs": [],
   "source": [
    "(3.0 * 1.2) - 3.6"
   ]
  },
  {
   "cell_type": "markdown",
   "metadata": {},
   "source": [
    "### Text - Strings"
   ]
  },
  {
   "cell_type": "markdown",
   "metadata": {},
   "source": [
    "**Strings** are what most programming languages call text. In Python, once text is surrounded by single quotes `' '` or double quotes `\" \"` then it's treated as a string. Strings have the type `str`."
   ]
  },
  {
   "cell_type": "code",
   "execution_count": null,
   "metadata": {},
   "outputs": [],
   "source": [
    "type('Word')"
   ]
  },
  {
   "cell_type": "code",
   "execution_count": null,
   "metadata": {},
   "outputs": [],
   "source": [
    "type(\"More than one word, and punc-tu-a-tion!\")"
   ]
  },
  {
   "cell_type": "markdown",
   "metadata": {},
   "source": [
    "What happens if you don't put anything inside of the quotes?"
   ]
  },
  {
   "cell_type": "code",
   "execution_count": null,
   "metadata": {},
   "outputs": [],
   "source": [
    "type('')"
   ]
  },
  {
   "cell_type": "markdown",
   "metadata": {},
   "source": [
    "This is fine! We call it an empty string."
   ]
  },
  {
   "cell_type": "markdown",
   "metadata": {},
   "source": [
    "#### Single vs. double quotes"
   ]
  },
  {
   "cell_type": "markdown",
   "metadata": {},
   "source": [
    "What if we wanted to turn the following into a string?\n",
    "> I'm having a great day\n",
    "\n",
    "Notice that the text itself includes a single quote (an apostrophe), so trying to wrap it in single quotes won't work. Python things that the string ends the moment a second single quote is found."
   ]
  },
  {
   "cell_type": "code",
   "execution_count": null,
   "metadata": {
    "tags": [
     "raises-exception"
    ]
   },
   "outputs": [],
   "source": [
    "'He asked if I'd like to use an apostrophe'"
   ]
  },
  {
   "cell_type": "markdown",
   "metadata": {},
   "source": [
    "The same problem arises if we try to use double quotes around text that includes double quotes."
   ]
  },
  {
   "cell_type": "code",
   "execution_count": null,
   "metadata": {
    "tags": [
     "raises-exception"
    ]
   },
   "outputs": [],
   "source": [
    "\"He said a \"double-quote\" was fine to use\""
   ]
  },
  {
   "cell_type": "markdown",
   "metadata": {},
   "source": [
    "There are two ways we can fix these issues.\n",
    "\n",
    "1. We can use whichever quotation mark *doesn't* show up in our text. Often times people wrap strings with double quotes since its common for apostrophes to show up in text."
   ]
  },
  {
   "cell_type": "code",
   "execution_count": null,
   "metadata": {},
   "outputs": [],
   "source": [
    "\"He asked if I'd like to use an apostrophe\""
   ]
  },
  {
   "cell_type": "code",
   "execution_count": null,
   "metadata": {},
   "outputs": [],
   "source": [
    "'He said a \"double-quote\" was fine to use'"
   ]
  },
  {
   "cell_type": "markdown",
   "metadata": {},
   "source": [
    "2. We can 'escape' the character by prefixing it with a backslash `\\`.  This will tell Python to treat the character differently than it normally would -- in this case, it tells Python not to end the string.\n",
    "\n",
    "    This is most helpful when both single quotes *and* double quotes appear in the string!"
   ]
  },
  {
   "cell_type": "code",
   "execution_count": null,
   "metadata": {},
   "outputs": [],
   "source": [
    "'He said, \"escaping isn\\'t so bad,\" and I believe him!'"
   ]
  },
  {
   "cell_type": "markdown",
   "metadata": {},
   "source": [
    "```{note}\n",
    "Using an escaped character is also used to input special characters like a new line `\\n` or a tab `\\t`\n",
    "```"
   ]
  },
  {
   "cell_type": "markdown",
   "metadata": {},
   "source": [
    "#### Combining strings"
   ]
  },
  {
   "cell_type": "markdown",
   "metadata": {},
   "source": [
    "Interestingly, we can add strings together using the addition operator `+`.  This basically glues the strings together, and is commonly called **concatenation**."
   ]
  },
  {
   "cell_type": "code",
   "execution_count": null,
   "metadata": {},
   "outputs": [],
   "source": [
    "\"one fish\" + \"two fish\" + \"three fish\""
   ]
  },
  {
   "cell_type": "markdown",
   "metadata": {},
   "source": [
    "````{hiddenanswer}\n",
    "---\n",
    "question: |\n",
    "    Given the following variables, write an expression that concatenates the two strings and adds a space in between. The output should be `'red fish blue fish'`\n",
    "\n",
    "    ```\n",
    "    string1 = \"red fish\"\n",
    "    string2 = \"blue fish\"\n",
    "    ```\n",
    "answer: |\n",
    "    ```\n",
    "    string1 + ' ' + string2\n",
    "    ```\n",
    "````"
   ]
  },
  {
   "cell_type": "markdown",
   "metadata": {},
   "source": [
    "#### String methods"
   ]
  },
  {
   "cell_type": "markdown",
   "metadata": {},
   "source": [
    "Finally, once you create a string, that string posesses an extra set of functions that are unique to strings."
   ]
  },
  {
   "cell_type": "markdown",
   "metadata": {},
   "source": [
    "```{margin}\n",
    "When a specific type of object has its own set of functions, we call those functions 'methods'.  You'll see in the next chapter that more complex data types usually have lots of methods!\n",
    "```"
   ]
  },
  {
   "cell_type": "markdown",
   "metadata": {},
   "source": [
    "Methods can be called directly on a string, or the variable name of a string. The following methods return the string they're called on, but with different capitalization -- they can be very useful for when you're cleaning data."
   ]
  },
  {
   "cell_type": "code",
   "execution_count": null,
   "metadata": {},
   "outputs": [],
   "source": [
    "my_string = \"JuSt A sTrInG\""
   ]
  },
  {
   "cell_type": "code",
   "execution_count": null,
   "metadata": {},
   "outputs": [],
   "source": [
    "my_string.lower()"
   ]
  },
  {
   "cell_type": "code",
   "execution_count": null,
   "metadata": {},
   "outputs": [],
   "source": [
    "my_string.upper()"
   ]
  },
  {
   "cell_type": "code",
   "execution_count": null,
   "metadata": {},
   "outputs": [],
   "source": [
    "my_string.title()"
   ]
  },
  {
   "cell_type": "markdown",
   "metadata": {},
   "source": [
    "Notice that a method is accessed by placing a dot after the string, and then calling the function name."
   ]
  },
  {
   "cell_type": "markdown",
   "metadata": {},
   "source": [
    "```{margin}\n",
    "This is commonly called **dot notation**. It indicates that the whatever comes after the dot *belongs* to the object before the dot.\n",
    "```"
   ]
  },
  {
   "cell_type": "markdown",
   "metadata": {},
   "source": [
    "The `replace` method is extremely powerful, since it allows us to find and replace sections of a string. The previous string methods we looked at took no arguments, but the `replace` methods takes two arguments: *the text to find*, and *the text to replace it with*."
   ]
  },
  {
   "cell_type": "code",
   "execution_count": null,
   "metadata": {},
   "outputs": [],
   "source": [
    "'found you'.replace('you', 'Waldo')"
   ]
  },
  {
   "cell_type": "markdown",
   "metadata": {},
   "source": [
    "Remember the empty string `''`? It's used a lot with `replace` in order to get rid of parts of text entirely! Notice that the text must match *exactly*, and is case sensitive!"
   ]
  },
  {
   "cell_type": "code",
   "execution_count": null,
   "metadata": {},
   "outputs": [],
   "source": [
    "'where\\'s Waldo'.replace('w', '')"
   ]
  },
  {
   "cell_type": "markdown",
   "metadata": {},
   "source": [
    "Since the string methods we've looked at return more strings, we can even call more string methods on the result!"
   ]
  },
  {
   "cell_type": "code",
   "execution_count": null,
   "metadata": {},
   "outputs": [],
   "source": [
    "s = 'started with words'\n",
    "t = s.replace('started', 'ended')\n",
    "u = t.replace('words', 'a sentence')\n",
    "v = u.capitalize()\n",
    "w = v + '.'\n",
    "w"
   ]
  },
  {
   "cell_type": "markdown",
   "metadata": {},
   "source": [
    "### True/False - Booleans"
   ]
  },
  {
   "cell_type": "markdown",
   "metadata": {},
   "source": [
    "A **Boolean** (named after [George Boole](https://en.wikipedia.org/wiki/Boolean_algebra)) is a logical data type, indicating whether something is True or False. It has the type `bool`."
   ]
  },
  {
   "cell_type": "code",
   "execution_count": null,
   "metadata": {},
   "outputs": [],
   "source": [
    "type(True)"
   ]
  },
  {
   "cell_type": "markdown",
   "metadata": {},
   "source": [
    "#### Comparisons"
   ]
  },
  {
   "cell_type": "markdown",
   "metadata": {},
   "source": [
    "Boolean values result when we use comparison operators to compare the value of two expressions.\n",
    "\n",
    "The standard set of comparisons operators carries over from math,\n",
    "- Less than `<`\n",
    "- Less or equal `<=`\n",
    "- Greater than `>`\n",
    "- Greater or equal `>=`\n",
    "- Equal `==`\n",
    "- Not equal `!=`\n",
    "\n",
    "Notice that the equal comparison operator distinguishes itself from the assignment operator by using *two* equal signs."
   ]
  },
  {
   "cell_type": "code",
   "execution_count": null,
   "metadata": {},
   "outputs": [],
   "source": [
    "1 == 0"
   ]
  },
  {
   "cell_type": "markdown",
   "metadata": {},
   "source": [
    "Any expressions to the left or right of the comparison operator will be evaluated before the comparison is carried out."
   ]
  },
  {
   "cell_type": "code",
   "execution_count": null,
   "metadata": {},
   "outputs": [],
   "source": [
    "(3 * 4) / 6 < 1 + 2 + 3 + 4"
   ]
  },
  {
   "cell_type": "markdown",
   "metadata": {},
   "source": [
    "And if there are multiple comparison operators in an expression, then each comparison must evaluate to True in order for the entire expression to be True."
   ]
  },
  {
   "cell_type": "code",
   "execution_count": null,
   "metadata": {},
   "outputs": [],
   "source": [
    "1 < 0 + 2 < 3"
   ]
  },
  {
   "cell_type": "code",
   "execution_count": null,
   "metadata": {},
   "outputs": [],
   "source": [
    "1 != 3 <= 2"
   ]
  },
  {
   "cell_type": "markdown",
   "metadata": {},
   "source": [
    "Since `3 <= 2` is False, the above expression evaluates to False."
   ]
  },
  {
   "cell_type": "markdown",
   "metadata": {},
   "source": [
    "We can use comparison operators on all sorts of things! For example, we can use the `==` and `!=` to check if *any* objects are equal in value."
   ]
  },
  {
   "cell_type": "code",
   "execution_count": null,
   "metadata": {},
   "outputs": [],
   "source": [
    "'Ronaldo' == 'Waldo'"
   ]
  },
  {
   "cell_type": "code",
   "execution_count": null,
   "metadata": {},
   "outputs": [],
   "source": [
    "True != False"
   ]
  },
  {
   "cell_type": "code",
   "execution_count": null,
   "metadata": {},
   "outputs": [],
   "source": [
    "sum == sum"
   ]
  },
  {
   "cell_type": "markdown",
   "metadata": {},
   "source": [
    "And many objects support greater than/less than comparison too. For instance, a string is less than or greater than another string based on alphabetical order."
   ]
  },
  {
   "cell_type": "markdown",
   "metadata": {},
   "source": [
    "```{margin}\n",
    "Technically, string comparisons compare using **lexicographical** order, which just means that text including numbers and symbols is also ordered.\n",
    "```"
   ]
  },
  {
   "cell_type": "code",
   "execution_count": null,
   "metadata": {},
   "outputs": [],
   "source": [
    "\"Avocado\" < \"Banana\" < \"Cantaloupe\""
   ]
  },
  {
   "cell_type": "code",
   "execution_count": null,
   "metadata": {},
   "outputs": [],
   "source": [
    "\"1. Learn about Python\" < \"2. Learn about data science\" < \"3. Profit\""
   ]
  },
  {
   "cell_type": "markdown",
   "metadata": {},
   "source": [
    "Notice that if you look at a dictionary, words like \"Fire\" will show up before \"Fireplace\" -- the same holds true with string comparisons in Python."
   ]
  },
  {
   "cell_type": "code",
   "execution_count": null,
   "metadata": {},
   "outputs": [],
   "source": [
    "\"Fire\" < \"Fireplace\" < \"Fireplaces\""
   ]
  },
  {
   "cell_type": "markdown",
   "metadata": {},
   "source": [
    "## A new type of error -- TypeErrors"
   ]
  },
  {
   "cell_type": "markdown",
   "metadata": {},
   "source": [
    "We saw that we can use the addition operator to add two strings. But what happens if we try to add a number and a string?"
   ]
  },
  {
   "cell_type": "code",
   "execution_count": null,
   "metadata": {
    "tags": [
     "raises-exception"
    ]
   },
   "outputs": [],
   "source": [
    "1 + '2'"
   ]
  },
  {
   "cell_type": "markdown",
   "metadata": {},
   "source": [
    "We've successfully stumbled on another very common error, the `TypeError`. This happens when we try to use an operator on a type of object that doesn't support it!\n",
    "\n",
    "Another type error (with a different explanation) arises if we try switching the order of the string and number."
   ]
  },
  {
   "cell_type": "code",
   "execution_count": null,
   "metadata": {
    "tags": [
     "raises-exception"
    ]
   },
   "outputs": [],
   "source": [
    "'2' + 1"
   ]
  },
  {
   "cell_type": "markdown",
   "metadata": {},
   "source": [
    "Or if we try to use an operator that strings don't understand, like subtraction."
   ]
  },
  {
   "cell_type": "code",
   "execution_count": null,
   "metadata": {
    "tags": [
     "raises-exception"
    ]
   },
   "outputs": [],
   "source": [
    "'2' - '2'"
   ]
  },
  {
   "cell_type": "markdown",
   "metadata": {},
   "source": [
    "Sometimes we'll get a type error when using a function call on an object of the wrong type, too. For example, if we try using a math function on a string."
   ]
  },
  {
   "cell_type": "code",
   "execution_count": null,
   "metadata": {
    "tags": [
     "raises-exception"
    ]
   },
   "outputs": [],
   "source": [
    "import math\n",
    "math.log('2')"
   ]
  },
  {
   "cell_type": "markdown",
   "metadata": {},
   "source": [
    "```{tip}\n",
    "Notice that the explanation that follows the `TypeError` at the very bottom will almost always explain the data types of your operands -- which is helpful to figure out exactly what variables or values lead to the code breaking!\n",
    "```"
   ]
  },
  {
   "cell_type": "markdown",
   "metadata": {},
   "source": [
    "## Other data types"
   ]
  },
  {
   "cell_type": "markdown",
   "metadata": {},
   "source": [
    "Once we move past primitives, our objects start getting more complex!\n",
    "\n",
    "Remember, everything has a type. We saw at the beginning of this page that even functions are a type of object.\n",
    "\n",
    "Besides functions, the most common types of objects we'll observe will act mostly like containers for raw data. Examples of these container-like data types include lists, arrays, and tables -- all of which are extremely useful and you'll soon know!"
   ]
  },
  {
   "cell_type": "markdown",
   "metadata": {},
   "source": [
    "---\n",
    "## Summary\n",
    "\n",
    "Everything in Python has a type -- these are called **data types**.\n",
    "\n",
    "We can find the type of an object by calling `type` function on an object or expression.\n",
    "\n",
    "There are four **primitive** types that represent raw data:\n",
    "- **Integers** `int` are whole numbers\n",
    "- **Floats** `float` are numbers with decimals\n",
    "- **Strings** `str` are text\n",
    "- **Booleans** `bool` are True/False\n",
    "\n",
    "When faced with division or an expression that involves any floats, the end result will be a float.\n",
    "\n",
    "Multiple strings can be glued together using `+`.\n",
    "\n",
    "Strings own a handful of **methods** -- functions that belong solely to the data type of strings.\n",
    "\n",
    "Methods are called using **dot notation**, by placing a dot after a string or variable name of a string, then calling the function: `my_string.function_name(arguments, ...)`\n",
    "\n",
    "Some string methods allow you to create new strings that change capitalization or find and replace snippets of text.\n",
    "\n",
    "Lots of objects can be compared using **comparison operators**, `<` `<=` `>` `>=` `==` `!=`, which will return a boolean value.\n",
    "\n",
    "Trying to perform an operation on data types that don't support that operation will often result in a **TypeError**.\n",
    "\n",
    "Most other data types that aren't primitive are either functions or act like containers for primitive types."
   ]
  }
 ],
 "metadata": {
  "kernelspec": {
   "display_name": "Python 3",
   "language": "python",
   "name": "python3"
  },
  "language_info": {
   "codemirror_mode": {
    "name": "ipython",
    "version": 3
   },
   "file_extension": ".py",
   "mimetype": "text/x-python",
   "name": "python",
   "nbconvert_exporter": "python",
   "pygments_lexer": "ipython3",
   "version": "3.8.3"
  }
 },
 "nbformat": 4,
 "nbformat_minor": 4
}
