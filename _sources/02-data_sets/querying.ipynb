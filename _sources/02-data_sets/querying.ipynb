{
 "cells": [
  {
   "cell_type": "markdown",
   "metadata": {},
   "source": [
    "# Querying\n",
    "\n",
    "The 2018 wildfire season was the worst in California history. How many fires were in 2018? What was their combined size? How many were in San Diego County? These questions could be easily answered if we had a table consisting only of fires from 2018, but our dataset has fires from all years. Creating a new table by selecting only certain rows from an existing table which satisfy some condition is called a {dterm}`query`. In this section, we'll see how to perform queries."
   ]
  },
  {
   "cell_type": "markdown",
   "metadata": {},
   "source": [
    "## Querying with Boolean Arrays\n",
    "\n",
    "Let's start with a simple example. Below, we have created a table containing the population of the five largest cities in California. The table is arranged in alphabetical order:"
   ]
  },
  {
   "cell_type": "code",
   "execution_count": 1,
   "metadata": {},
   "outputs": [
    {
     "data": {
      "text/html": [
       "<div>\n",
       "<style scoped>\n",
       "    .dataframe tbody tr th:only-of-type {\n",
       "        vertical-align: middle;\n",
       "    }\n",
       "\n",
       "    .dataframe tbody tr th {\n",
       "        vertical-align: top;\n",
       "    }\n",
       "\n",
       "    .dataframe thead th {\n",
       "        text-align: right;\n",
       "    }\n",
       "</style>\n",
       "<table border=\"1\" class=\"dataframe\">\n",
       "  <thead>\n",
       "    <tr style=\"text-align: right;\">\n",
       "      <th></th>\n",
       "      <th>Population</th>\n",
       "    </tr>\n",
       "    <tr>\n",
       "      <th>City</th>\n",
       "      <th></th>\n",
       "    </tr>\n",
       "  </thead>\n",
       "  <tbody>\n",
       "    <tr>\n",
       "      <th>Fresno</th>\n",
       "      <td>502000</td>\n",
       "    </tr>\n",
       "    <tr>\n",
       "      <th>LA</th>\n",
       "      <td>4094000</td>\n",
       "    </tr>\n",
       "    <tr>\n",
       "      <th>SD</th>\n",
       "      <td>1376000</td>\n",
       "    </tr>\n",
       "    <tr>\n",
       "      <th>SF</th>\n",
       "      <td>856000</td>\n",
       "    </tr>\n",
       "    <tr>\n",
       "      <th>SJ</th>\n",
       "      <td>1023000</td>\n",
       "    </tr>\n",
       "  </tbody>\n",
       "</table>\n",
       "</div>"
      ],
      "text/plain": [
       "        Population\n",
       "City              \n",
       "Fresno      502000\n",
       "LA         4094000\n",
       "SD         1376000\n",
       "SF          856000\n",
       "SJ         1023000"
      ]
     },
     "execution_count": 1,
     "metadata": {},
     "output_type": "execute_result"
    }
   ],
   "source": [
    "import babypandas as bpd\n",
    "populations = (\n",
    "    bpd.DataFrame()\n",
    "    .assign(\n",
    "        City=['Fresno', 'LA', 'SD', 'SF', 'SJ'],\n",
    "        Population=[502_000, 4_094_000, 1_376_000, 856_000, 1_023_000]\n",
    "        )\n",
    "    .set_index('City')\n",
    ")\n",
    "populations"
   ]
  },
  {
   "cell_type": "markdown",
   "metadata": {},
   "source": [
    "```{tip}\n",
    "\n",
    "To create a table by hand, start by creating an empty DataFrame with `bpd.DataFrame()`, then use `.assign` to add columns to the table.\n",
    "```"
   ]
  },
  {
   "cell_type": "markdown",
   "metadata": {},
   "source": [
    "Suppose we want to know which cities have populations larger than 1 million. We can do so with the following **query**, the result of which is a new table consisting only of the cities whose population is greater than 1 million."
   ]
  },
  {
   "cell_type": "code",
   "execution_count": 2,
   "metadata": {},
   "outputs": [
    {
     "data": {
      "text/html": [
       "<div>\n",
       "<style scoped>\n",
       "    .dataframe tbody tr th:only-of-type {\n",
       "        vertical-align: middle;\n",
       "    }\n",
       "\n",
       "    .dataframe tbody tr th {\n",
       "        vertical-align: top;\n",
       "    }\n",
       "\n",
       "    .dataframe thead th {\n",
       "        text-align: right;\n",
       "    }\n",
       "</style>\n",
       "<table border=\"1\" class=\"dataframe\">\n",
       "  <thead>\n",
       "    <tr style=\"text-align: right;\">\n",
       "      <th></th>\n",
       "      <th>Population</th>\n",
       "    </tr>\n",
       "    <tr>\n",
       "      <th>City</th>\n",
       "      <th></th>\n",
       "    </tr>\n",
       "  </thead>\n",
       "  <tbody>\n",
       "    <tr>\n",
       "      <th>LA</th>\n",
       "      <td>4094000</td>\n",
       "    </tr>\n",
       "    <tr>\n",
       "      <th>SD</th>\n",
       "      <td>1376000</td>\n",
       "    </tr>\n",
       "    <tr>\n",
       "      <th>SJ</th>\n",
       "      <td>1023000</td>\n",
       "    </tr>\n",
       "  </tbody>\n",
       "</table>\n",
       "</div>"
      ],
      "text/plain": [
       "      Population\n",
       "City            \n",
       "LA       4094000\n",
       "SD       1376000\n",
       "SJ       1023000"
      ]
     },
     "execution_count": 2,
     "metadata": {},
     "output_type": "execute_result"
    }
   ],
   "source": [
    "populations[populations.get('Population') > 1_000_000]"
   ]
  },
  {
   "cell_type": "markdown",
   "metadata": {},
   "source": [
    "Let's take a deeper look at what is going on insider of a query. At it's heart is a *comparison*: `populations.get('Population') > 1_000_000`. Recall from {doc}`../01-getting_started/data_types-bool` that a comparison between two numbers results in a {dterm}`Boolean` value (that is, the result is either `True` or `False`). For instance, is we ask if 2 million is larger than 1 million, we get:"
   ]
  },
  {
   "cell_type": "code",
   "execution_count": 3,
   "metadata": {},
   "outputs": [
    {
     "data": {
      "text/plain": [
       "True"
      ]
     },
     "execution_count": 3,
     "metadata": {},
     "output_type": "execute_result"
    }
   ],
   "source": [
    "2_000_000 > 1_000_000"
   ]
  },
  {
   "cell_type": "markdown",
   "metadata": {},
   "source": [
    "Now, in this case of `populations.get('Population') > 1_000_000`, we are comparing an entire column of the table to a single number, `1_000_000`. What will be the result? As with arithmetic on a table column, comparisons are performed elementwise:"
   ]
  },
  {
   "cell_type": "code",
   "execution_count": 4,
   "metadata": {},
   "outputs": [
    {
     "data": {
      "text/plain": [
       "City\n",
       "Fresno    False\n",
       "LA         True\n",
       "SD         True\n",
       "SF        False\n",
       "SJ         True\n",
       "Name: Population, dtype: bool"
      ]
     },
     "execution_count": 4,
     "metadata": {},
     "output_type": "execute_result"
    }
   ],
   "source": [
    "populations.get('Population') > 1_000_000"
   ]
  },
  {
   "cell_type": "markdown",
   "metadata": {},
   "source": [
    "The result is a Series with one entry for every row of the original table. The Series is `True` where the comparison is true and `False` where the comparison is not true. Because each entry of the Series is a Boolean, the result is called a {dterm}`Boolean array` (or, more precisely, a **Boolean series**). The entries of the Boolean array tell us exactly which rows to keep and which rows to discard. If an entry is `True`, we want to keep the corresponding row of the table -- if it is `False`, we should discard that row."
   ]
  },
  {
   "cell_type": "markdown",
   "metadata": {},
   "source": [
    "We can carry out the query and produce a new table by passing the Boolean array into the table using square bracket notation:"
   ]
  },
  {
   "cell_type": "code",
   "execution_count": 5,
   "metadata": {},
   "outputs": [
    {
     "data": {
      "text/html": [
       "<div>\n",
       "<style scoped>\n",
       "    .dataframe tbody tr th:only-of-type {\n",
       "        vertical-align: middle;\n",
       "    }\n",
       "\n",
       "    .dataframe tbody tr th {\n",
       "        vertical-align: top;\n",
       "    }\n",
       "\n",
       "    .dataframe thead th {\n",
       "        text-align: right;\n",
       "    }\n",
       "</style>\n",
       "<table border=\"1\" class=\"dataframe\">\n",
       "  <thead>\n",
       "    <tr style=\"text-align: right;\">\n",
       "      <th></th>\n",
       "      <th>Population</th>\n",
       "    </tr>\n",
       "    <tr>\n",
       "      <th>City</th>\n",
       "      <th></th>\n",
       "    </tr>\n",
       "  </thead>\n",
       "  <tbody>\n",
       "    <tr>\n",
       "      <th>LA</th>\n",
       "      <td>4094000</td>\n",
       "    </tr>\n",
       "    <tr>\n",
       "      <th>SD</th>\n",
       "      <td>1376000</td>\n",
       "    </tr>\n",
       "    <tr>\n",
       "      <th>SJ</th>\n",
       "      <td>1023000</td>\n",
       "    </tr>\n",
       "  </tbody>\n",
       "</table>\n",
       "</div>"
      ],
      "text/plain": [
       "      Population\n",
       "City            \n",
       "LA       4094000\n",
       "SD       1376000\n",
       "SJ       1023000"
      ]
     },
     "execution_count": 5,
     "metadata": {},
     "output_type": "execute_result"
    }
   ],
   "source": [
    "populations[populations.get('Population') > 1_000_000]"
   ]
  },
  {
   "cell_type": "markdown",
   "metadata": {},
   "source": [
    "````{tip}\n",
    "Using square brackets on a table can be read aloud as \"*where*\".\n",
    "\n",
    "So the expression\n",
    "```python\n",
    "populations[populations.get('Population') > 1_000_000]\n",
    "```\n",
    "is read as \"the rows *where* the populations is greater than 1 million\".\n",
    "````"
   ]
  },
  {
   "cell_type": "markdown",
   "metadata": {},
   "source": [
    "It should be mentioned that *any* Boolean array whose length matches the number of rows in the table can be used to select a subset of the table's rows. For instance, we could construct our own Boolean array by hand and get the same result:"
   ]
  },
  {
   "cell_type": "code",
   "execution_count": 6,
   "metadata": {},
   "outputs": [
    {
     "data": {
      "text/html": [
       "<div>\n",
       "<style scoped>\n",
       "    .dataframe tbody tr th:only-of-type {\n",
       "        vertical-align: middle;\n",
       "    }\n",
       "\n",
       "    .dataframe tbody tr th {\n",
       "        vertical-align: top;\n",
       "    }\n",
       "\n",
       "    .dataframe thead th {\n",
       "        text-align: right;\n",
       "    }\n",
       "</style>\n",
       "<table border=\"1\" class=\"dataframe\">\n",
       "  <thead>\n",
       "    <tr style=\"text-align: right;\">\n",
       "      <th></th>\n",
       "      <th>Population</th>\n",
       "    </tr>\n",
       "    <tr>\n",
       "      <th>City</th>\n",
       "      <th></th>\n",
       "    </tr>\n",
       "  </thead>\n",
       "  <tbody>\n",
       "    <tr>\n",
       "      <th>LA</th>\n",
       "      <td>4094000</td>\n",
       "    </tr>\n",
       "    <tr>\n",
       "      <th>SD</th>\n",
       "      <td>1376000</td>\n",
       "    </tr>\n",
       "    <tr>\n",
       "      <th>SJ</th>\n",
       "      <td>1023000</td>\n",
       "    </tr>\n",
       "  </tbody>\n",
       "</table>\n",
       "</div>"
      ],
      "text/plain": [
       "      Population\n",
       "City            \n",
       "LA       4094000\n",
       "SD       1376000\n",
       "SJ       1023000"
      ]
     },
     "execution_count": 6,
     "metadata": {},
     "output_type": "execute_result"
    }
   ],
   "source": [
    "populations[[False, True, True, False, True]]"
   ]
  },
  {
   "cell_type": "markdown",
   "metadata": {},
   "source": [
    "Of course, it's usually much more convenient to create the Boolean arrays with comparisons, like `populations.get('Population') > 1_000_000`."
   ]
  },
  {
   "cell_type": "markdown",
   "metadata": {},
   "source": [
    "Lastly, note that if no row satisfies your condition, an empty table will be returned. For instance, no cities have more than 10 million people:"
   ]
  },
  {
   "cell_type": "code",
   "execution_count": 7,
   "metadata": {},
   "outputs": [
    {
     "data": {
      "text/html": [
       "<div>\n",
       "<style scoped>\n",
       "    .dataframe tbody tr th:only-of-type {\n",
       "        vertical-align: middle;\n",
       "    }\n",
       "\n",
       "    .dataframe tbody tr th {\n",
       "        vertical-align: top;\n",
       "    }\n",
       "\n",
       "    .dataframe thead th {\n",
       "        text-align: right;\n",
       "    }\n",
       "</style>\n",
       "<table border=\"1\" class=\"dataframe\">\n",
       "  <thead>\n",
       "    <tr style=\"text-align: right;\">\n",
       "      <th></th>\n",
       "      <th>Population</th>\n",
       "    </tr>\n",
       "    <tr>\n",
       "      <th>City</th>\n",
       "      <th></th>\n",
       "    </tr>\n",
       "  </thead>\n",
       "  <tbody>\n",
       "  </tbody>\n",
       "</table>\n",
       "</div>"
      ],
      "text/plain": [
       "Empty DataFrame\n",
       "Columns: [Population]\n",
       "Index: []"
      ]
     },
     "execution_count": 7,
     "metadata": {},
     "output_type": "execute_result"
    }
   ],
   "source": [
    "populations[populations.get('Population') > 10_000_000]"
   ]
  },
  {
   "cell_type": "markdown",
   "metadata": {},
   "source": [
    "## Examples"
   ]
  },
  {
   "cell_type": "markdown",
   "metadata": {},
   "source": [
    "Let's get some practice with querying on a larger data set. For this, we'll use the full dataset of California wildfires. While the wildfire dataset we saw previously contained only the 50 largest fires in California history, this dataset will contain *all named fires* since the late 1800's. It is in a file called `calfire-full.csv` in the `data` directory:"
   ]
  },
  {
   "cell_type": "code",
   "execution_count": 8,
   "metadata": {},
   "outputs": [
    {
     "data": {
      "text/html": [
       "<div>\n",
       "<style scoped>\n",
       "    .dataframe tbody tr th:only-of-type {\n",
       "        vertical-align: middle;\n",
       "    }\n",
       "\n",
       "    .dataframe tbody tr th {\n",
       "        vertical-align: top;\n",
       "    }\n",
       "\n",
       "    .dataframe thead th {\n",
       "        text-align: right;\n",
       "    }\n",
       "</style>\n",
       "<table border=\"1\" class=\"dataframe\">\n",
       "  <thead>\n",
       "    <tr style=\"text-align: right;\">\n",
       "      <th></th>\n",
       "      <th>year</th>\n",
       "      <th>month</th>\n",
       "      <th>name</th>\n",
       "      <th>cause</th>\n",
       "      <th>acres</th>\n",
       "      <th>county</th>\n",
       "      <th>longitude</th>\n",
       "      <th>latitude</th>\n",
       "    </tr>\n",
       "  </thead>\n",
       "  <tbody>\n",
       "    <tr>\n",
       "      <th>0</th>\n",
       "      <td>1898</td>\n",
       "      <td>9</td>\n",
       "      <td>LOS PADRES</td>\n",
       "      <td>14 - Unknown</td>\n",
       "      <td>20539.949219</td>\n",
       "      <td>Ventura</td>\n",
       "      <td>-119.367830</td>\n",
       "      <td>34.446830</td>\n",
       "    </tr>\n",
       "    <tr>\n",
       "      <th>1</th>\n",
       "      <td>1898</td>\n",
       "      <td>4</td>\n",
       "      <td>MATILIJA</td>\n",
       "      <td>14 - Unknown</td>\n",
       "      <td>2641.123047</td>\n",
       "      <td>Ventura</td>\n",
       "      <td>-119.299625</td>\n",
       "      <td>34.488614</td>\n",
       "    </tr>\n",
       "    <tr>\n",
       "      <th>2</th>\n",
       "      <td>1898</td>\n",
       "      <td>9</td>\n",
       "      <td>COZY DELL</td>\n",
       "      <td>14 - Unknown</td>\n",
       "      <td>2974.585205</td>\n",
       "      <td>Ventura</td>\n",
       "      <td>-119.265380</td>\n",
       "      <td>34.482316</td>\n",
       "    </tr>\n",
       "    <tr>\n",
       "      <th>3</th>\n",
       "      <td>1902</td>\n",
       "      <td>8</td>\n",
       "      <td>FEROUD</td>\n",
       "      <td>14 - Unknown</td>\n",
       "      <td>731.481567</td>\n",
       "      <td>Ventura</td>\n",
       "      <td>-119.320979</td>\n",
       "      <td>34.417515</td>\n",
       "    </tr>\n",
       "    <tr>\n",
       "      <th>4</th>\n",
       "      <td>1903</td>\n",
       "      <td>10</td>\n",
       "      <td>SAN ANTONIO</td>\n",
       "      <td>14 - Unknown</td>\n",
       "      <td>380.260590</td>\n",
       "      <td>Ventura</td>\n",
       "      <td>-119.253422</td>\n",
       "      <td>34.430616</td>\n",
       "    </tr>\n",
       "    <tr>\n",
       "      <th>...</th>\n",
       "      <td>...</td>\n",
       "      <td>...</td>\n",
       "      <td>...</td>\n",
       "      <td>...</td>\n",
       "      <td>...</td>\n",
       "      <td>...</td>\n",
       "      <td>...</td>\n",
       "      <td>...</td>\n",
       "    </tr>\n",
       "    <tr>\n",
       "      <th>13459</th>\n",
       "      <td>2019</td>\n",
       "      <td>9</td>\n",
       "      <td>STAGE</td>\n",
       "      <td>7 - Arson</td>\n",
       "      <td>13.019149</td>\n",
       "      <td>Monterey</td>\n",
       "      <td>-121.599207</td>\n",
       "      <td>36.764065</td>\n",
       "    </tr>\n",
       "    <tr>\n",
       "      <th>13460</th>\n",
       "      <td>2019</td>\n",
       "      <td>10</td>\n",
       "      <td>CROSS</td>\n",
       "      <td>14 - Unknown</td>\n",
       "      <td>289.151428</td>\n",
       "      <td>Monterey</td>\n",
       "      <td>-120.726245</td>\n",
       "      <td>35.793698</td>\n",
       "    </tr>\n",
       "    <tr>\n",
       "      <th>13461</th>\n",
       "      <td>2019</td>\n",
       "      <td>9</td>\n",
       "      <td>FRUDDEN</td>\n",
       "      <td>2 - Equipment Use</td>\n",
       "      <td>11.789393</td>\n",
       "      <td>Monterey</td>\n",
       "      <td>-120.908061</td>\n",
       "      <td>35.908627</td>\n",
       "    </tr>\n",
       "    <tr>\n",
       "      <th>13462</th>\n",
       "      <td>2019</td>\n",
       "      <td>9</td>\n",
       "      <td>JOLON</td>\n",
       "      <td>11 - Powerline</td>\n",
       "      <td>61.592369</td>\n",
       "      <td>Monterey</td>\n",
       "      <td>-121.010025</td>\n",
       "      <td>35.910750</td>\n",
       "    </tr>\n",
       "    <tr>\n",
       "      <th>13463</th>\n",
       "      <td>2019</td>\n",
       "      <td>10</td>\n",
       "      <td>SADDLE RIDGE</td>\n",
       "      <td>14 - Unknown</td>\n",
       "      <td>8799.325195</td>\n",
       "      <td>Los Angeles</td>\n",
       "      <td>-118.516473</td>\n",
       "      <td>34.321859</td>\n",
       "    </tr>\n",
       "  </tbody>\n",
       "</table>\n",
       "<p>13464 rows × 8 columns</p>\n",
       "</div>"
      ],
      "text/plain": [
       "       year  month          name              cause         acres  \\\n",
       "0      1898      9    LOS PADRES       14 - Unknown  20539.949219   \n",
       "1      1898      4      MATILIJA       14 - Unknown   2641.123047   \n",
       "2      1898      9     COZY DELL       14 - Unknown   2974.585205   \n",
       "3      1902      8        FEROUD       14 - Unknown    731.481567   \n",
       "4      1903     10   SAN ANTONIO       14 - Unknown    380.260590   \n",
       "...     ...    ...           ...                ...           ...   \n",
       "13459  2019      9         STAGE          7 - Arson     13.019149   \n",
       "13460  2019     10         CROSS       14 - Unknown    289.151428   \n",
       "13461  2019      9       FRUDDEN  2 - Equipment Use     11.789393   \n",
       "13462  2019      9         JOLON     11 - Powerline     61.592369   \n",
       "13463  2019     10  SADDLE RIDGE       14 - Unknown   8799.325195   \n",
       "\n",
       "            county   longitude   latitude  \n",
       "0          Ventura -119.367830  34.446830  \n",
       "1          Ventura -119.299625  34.488614  \n",
       "2          Ventura -119.265380  34.482316  \n",
       "3          Ventura -119.320979  34.417515  \n",
       "4          Ventura -119.253422  34.430616  \n",
       "...            ...         ...        ...  \n",
       "13459     Monterey -121.599207  36.764065  \n",
       "13460     Monterey -120.726245  35.793698  \n",
       "13461     Monterey -120.908061  35.908627  \n",
       "13462     Monterey -121.010025  35.910750  \n",
       "13463  Los Angeles -118.516473  34.321859  \n",
       "\n",
       "[13464 rows x 8 columns]"
      ]
     },
     "execution_count": 8,
     "metadata": {},
     "output_type": "execute_result"
    }
   ],
   "source": [
    "calfire = bpd.read_csv('data/calfire-full.csv')\n",
    "calfire"
   ]
  },
  {
   "cell_type": "markdown",
   "metadata": {},
   "source": [
    "Notice that we haven't set the index of the table. The natural choice of index would be the `'name'` column, but it turns out that several fires have the same name. Remember that row labels should be unique!"
   ]
  },
  {
   "cell_type": "markdown",
   "metadata": {},
   "source": [
    "### How many fires were there in 2018?"
   ]
  },
  {
   "cell_type": "markdown",
   "metadata": {},
   "source": [
    "We can determine how many fires there were in 2018 by selecting only those rows where the `'year'` value is equal to 2018 and calculating the size of the resulting table. Remember: to ask if two values are equal, we use `==`, not `=`."
   ]
  },
  {
   "cell_type": "code",
   "execution_count": 9,
   "metadata": {},
   "outputs": [
    {
     "data": {
      "text/html": [
       "<div>\n",
       "<style scoped>\n",
       "    .dataframe tbody tr th:only-of-type {\n",
       "        vertical-align: middle;\n",
       "    }\n",
       "\n",
       "    .dataframe tbody tr th {\n",
       "        vertical-align: top;\n",
       "    }\n",
       "\n",
       "    .dataframe thead th {\n",
       "        text-align: right;\n",
       "    }\n",
       "</style>\n",
       "<table border=\"1\" class=\"dataframe\">\n",
       "  <thead>\n",
       "    <tr style=\"text-align: right;\">\n",
       "      <th></th>\n",
       "      <th>year</th>\n",
       "      <th>month</th>\n",
       "      <th>name</th>\n",
       "      <th>cause</th>\n",
       "      <th>acres</th>\n",
       "      <th>county</th>\n",
       "      <th>longitude</th>\n",
       "      <th>latitude</th>\n",
       "    </tr>\n",
       "  </thead>\n",
       "  <tbody>\n",
       "    <tr>\n",
       "      <th>12772</th>\n",
       "      <td>2018</td>\n",
       "      <td>7</td>\n",
       "      <td>LAGUNA</td>\n",
       "      <td>2 - Equipment Use</td>\n",
       "      <td>1.116125</td>\n",
       "      <td>San Luis Obispo</td>\n",
       "      <td>-120.632741</td>\n",
       "      <td>35.588189</td>\n",
       "    </tr>\n",
       "    <tr>\n",
       "      <th>12773</th>\n",
       "      <td>2018</td>\n",
       "      <td>12</td>\n",
       "      <td>OAK</td>\n",
       "      <td>11 - Powerline</td>\n",
       "      <td>2.180850</td>\n",
       "      <td>Los Angeles</td>\n",
       "      <td>-118.692809</td>\n",
       "      <td>34.473468</td>\n",
       "    </tr>\n",
       "    <tr>\n",
       "      <th>12774</th>\n",
       "      <td>2018</td>\n",
       "      <td>11</td>\n",
       "      <td>COPCO</td>\n",
       "      <td>9 - Miscellaneous</td>\n",
       "      <td>6.980345</td>\n",
       "      <td>Los Angeles</td>\n",
       "      <td>-118.797409</td>\n",
       "      <td>34.720091</td>\n",
       "    </tr>\n",
       "    <tr>\n",
       "      <th>12775</th>\n",
       "      <td>2018</td>\n",
       "      <td>10</td>\n",
       "      <td>SANTA MARIA</td>\n",
       "      <td>14 - Unknown</td>\n",
       "      <td>1.347234</td>\n",
       "      <td>Los Angeles</td>\n",
       "      <td>-118.592681</td>\n",
       "      <td>34.123768</td>\n",
       "    </tr>\n",
       "    <tr>\n",
       "      <th>12776</th>\n",
       "      <td>2018</td>\n",
       "      <td>10</td>\n",
       "      <td>MUREAU</td>\n",
       "      <td>11 - Powerline</td>\n",
       "      <td>0.133597</td>\n",
       "      <td>Los Angeles</td>\n",
       "      <td>-118.678461</td>\n",
       "      <td>34.151321</td>\n",
       "    </tr>\n",
       "    <tr>\n",
       "      <th>...</th>\n",
       "      <td>...</td>\n",
       "      <td>...</td>\n",
       "      <td>...</td>\n",
       "      <td>...</td>\n",
       "      <td>...</td>\n",
       "      <td>...</td>\n",
       "      <td>...</td>\n",
       "      <td>...</td>\n",
       "    </tr>\n",
       "    <tr>\n",
       "      <th>13164</th>\n",
       "      <td>2018</td>\n",
       "      <td>4</td>\n",
       "      <td>HARBOR</td>\n",
       "      <td>14 - Unknown</td>\n",
       "      <td>0.392633</td>\n",
       "      <td>Ventura</td>\n",
       "      <td>-119.247964</td>\n",
       "      <td>34.214345</td>\n",
       "    </tr>\n",
       "    <tr>\n",
       "      <th>13165</th>\n",
       "      <td>2018</td>\n",
       "      <td>1</td>\n",
       "      <td>ERBES</td>\n",
       "      <td>14 - Unknown</td>\n",
       "      <td>0.028838</td>\n",
       "      <td>Ventura</td>\n",
       "      <td>-118.846409</td>\n",
       "      <td>34.235447</td>\n",
       "    </tr>\n",
       "    <tr>\n",
       "      <th>13166</th>\n",
       "      <td>2018</td>\n",
       "      <td>10</td>\n",
       "      <td>GRIMES</td>\n",
       "      <td>2 - Equipment Use</td>\n",
       "      <td>0.202070</td>\n",
       "      <td>Ventura</td>\n",
       "      <td>-118.904546</td>\n",
       "      <td>34.343482</td>\n",
       "    </tr>\n",
       "    <tr>\n",
       "      <th>13167</th>\n",
       "      <td>2018</td>\n",
       "      <td>6</td>\n",
       "      <td>BEACH</td>\n",
       "      <td>9 - Miscellaneous</td>\n",
       "      <td>0.521827</td>\n",
       "      <td>Ventura</td>\n",
       "      <td>-119.341277</td>\n",
       "      <td>34.298223</td>\n",
       "    </tr>\n",
       "    <tr>\n",
       "      <th>13168</th>\n",
       "      <td>2018</td>\n",
       "      <td>7</td>\n",
       "      <td>ROLLING</td>\n",
       "      <td>14 - Unknown</td>\n",
       "      <td>0.007145</td>\n",
       "      <td>Ventura</td>\n",
       "      <td>-118.868440</td>\n",
       "      <td>34.174372</td>\n",
       "    </tr>\n",
       "  </tbody>\n",
       "</table>\n",
       "<p>397 rows × 8 columns</p>\n",
       "</div>"
      ],
      "text/plain": [
       "       year  month         name              cause     acres           county  \\\n",
       "12772  2018      7       LAGUNA  2 - Equipment Use  1.116125  San Luis Obispo   \n",
       "12773  2018     12          OAK     11 - Powerline  2.180850      Los Angeles   \n",
       "12774  2018     11        COPCO  9 - Miscellaneous  6.980345      Los Angeles   \n",
       "12775  2018     10  SANTA MARIA       14 - Unknown  1.347234      Los Angeles   \n",
       "12776  2018     10       MUREAU     11 - Powerline  0.133597      Los Angeles   \n",
       "...     ...    ...          ...                ...       ...              ...   \n",
       "13164  2018      4       HARBOR       14 - Unknown  0.392633          Ventura   \n",
       "13165  2018      1        ERBES       14 - Unknown  0.028838          Ventura   \n",
       "13166  2018     10       GRIMES  2 - Equipment Use  0.202070          Ventura   \n",
       "13167  2018      6        BEACH  9 - Miscellaneous  0.521827          Ventura   \n",
       "13168  2018      7      ROLLING       14 - Unknown  0.007145          Ventura   \n",
       "\n",
       "        longitude   latitude  \n",
       "12772 -120.632741  35.588189  \n",
       "12773 -118.692809  34.473468  \n",
       "12774 -118.797409  34.720091  \n",
       "12775 -118.592681  34.123768  \n",
       "12776 -118.678461  34.151321  \n",
       "...           ...        ...  \n",
       "13164 -119.247964  34.214345  \n",
       "13165 -118.846409  34.235447  \n",
       "13166 -118.904546  34.343482  \n",
       "13167 -119.341277  34.298223  \n",
       "13168 -118.868440  34.174372  \n",
       "\n",
       "[397 rows x 8 columns]"
      ]
     },
     "execution_count": 9,
     "metadata": {},
     "output_type": "execute_result"
    }
   ],
   "source": [
    "calfire[calfire.get('year') == 2018]"
   ]
  },
  {
   "cell_type": "markdown",
   "metadata": {},
   "source": [
    "The resulting table has 397 rows, which means that there were 397 fires in 2018. We could also get this information with code by using the `.shape` attribute:"
   ]
  },
  {
   "cell_type": "code",
   "execution_count": 10,
   "metadata": {},
   "outputs": [
    {
     "data": {
      "text/plain": [
       "397"
      ]
     },
     "execution_count": 10,
     "metadata": {},
     "output_type": "execute_result"
    }
   ],
   "source": [
    "calfire[calfire.get('year') == 2018].shape[0]"
   ]
  },
  {
   "cell_type": "markdown",
   "metadata": {},
   "source": [
    "In reality, there were probably many more wildfires than this: the dataset contains only those fires which were large enough to be named."
   ]
  },
  {
   "cell_type": "markdown",
   "metadata": {},
   "source": [
    "### What was the combined size of all fires in 2018?"
   ]
  },
  {
   "cell_type": "markdown",
   "metadata": {},
   "source": [
    "We know how to retrieve only those fires from 2018; we did this above with `calfire[calfire.get('year') == 2018]`. Now we simply ask for the sum of the `'acres'` column:"
   ]
  },
  {
   "cell_type": "code",
   "execution_count": 11,
   "metadata": {},
   "outputs": [
    {
     "data": {
      "text/plain": [
       "1586074.870139362"
      ]
     },
     "execution_count": 11,
     "metadata": {},
     "output_type": "execute_result"
    }
   ],
   "source": [
    "area_burned_2018 = calfire[calfire.get('year') == 2018].get('acres').sum()\n",
    "area_burned_2018"
   ]
  },
  {
   "cell_type": "markdown",
   "metadata": {},
   "source": [
    "That certainly *seems* like a large number, but let's put it in perspective. The island of Manhattan is 14,600 acres in area. Therefore, the area burned in 2018 was:"
   ]
  },
  {
   "cell_type": "code",
   "execution_count": 12,
   "metadata": {},
   "outputs": [
    {
     "name": "stdout",
     "output_type": "stream",
     "text": [
      "108.6352650780385 times the size of Manhattan.\n"
     ]
    }
   ],
   "source": [
    "print(area_burned_2018 / 14_600, 'times the size of Manhattan.')"
   ]
  },
  {
   "cell_type": "markdown",
   "metadata": {},
   "source": [
    "### What percentage of all fires are caused by \"arson\"?"
   ]
  },
  {
   "cell_type": "markdown",
   "metadata": {},
   "source": [
    "We want to select the rows where the cause is due to someone deliberately setting the fire. The `'cause'` column, however, contains strings in a special format, such as `1 - Lightning`, `2 - Eqipment Use`, and so on. To select the fires caused by arson we need to know the exact string to search for.\n",
    "\n",
    "We can get this information by asking for the unique values that appear in a column with the `.unique` Series method:"
   ]
  },
  {
   "cell_type": "code",
   "execution_count": 13,
   "metadata": {},
   "outputs": [
    {
     "data": {
      "text/plain": [
       "array(['14 - Unknown', '7 - Arson', '4 - Campfire', '1 - Lightning',\n",
       "       '9 - Miscellaneous', '5 - Debris', '8 - Playing with fire',\n",
       "       '3 - Smoking', '15 - Structure', '2 - Equipment Use',\n",
       "       '10 - Vehicle', '6 - Railroad', '18 - Escaped Prescribed Burn',\n",
       "       '11 - Powerline', '16 - Aircraft', '12 - Firefighter Training',\n",
       "       '13 - Non-Firefighter Training'], dtype=object)"
      ]
     },
     "execution_count": 13,
     "metadata": {},
     "output_type": "execute_result"
    }
   ],
   "source": [
    "calfire.get('cause').unique()"
   ]
  },
  {
   "cell_type": "markdown",
   "metadata": {},
   "source": [
    "It looks like the right string for arson is `7 - Arson`. Let's perform the query:"
   ]
  },
  {
   "cell_type": "code",
   "execution_count": 14,
   "metadata": {},
   "outputs": [
    {
     "data": {
      "text/html": [
       "<div>\n",
       "<style scoped>\n",
       "    .dataframe tbody tr th:only-of-type {\n",
       "        vertical-align: middle;\n",
       "    }\n",
       "\n",
       "    .dataframe tbody tr th {\n",
       "        vertical-align: top;\n",
       "    }\n",
       "\n",
       "    .dataframe thead th {\n",
       "        text-align: right;\n",
       "    }\n",
       "</style>\n",
       "<table border=\"1\" class=\"dataframe\">\n",
       "  <thead>\n",
       "    <tr style=\"text-align: right;\">\n",
       "      <th></th>\n",
       "      <th>year</th>\n",
       "      <th>month</th>\n",
       "      <th>name</th>\n",
       "      <th>cause</th>\n",
       "      <th>acres</th>\n",
       "      <th>county</th>\n",
       "      <th>longitude</th>\n",
       "      <th>latitude</th>\n",
       "    </tr>\n",
       "  </thead>\n",
       "  <tbody>\n",
       "    <tr>\n",
       "      <th>9</th>\n",
       "      <td>1910</td>\n",
       "      <td>8</td>\n",
       "      <td>CRAWFORD CREEK 2</td>\n",
       "      <td>7 - Arson</td>\n",
       "      <td>497.885071</td>\n",
       "      <td>Humboldt</td>\n",
       "      <td>-123.552471</td>\n",
       "      <td>41.300052</td>\n",
       "    </tr>\n",
       "    <tr>\n",
       "      <th>24</th>\n",
       "      <td>1911</td>\n",
       "      <td>7</td>\n",
       "      <td>ORCUTT FLAT</td>\n",
       "      <td>7 - Arson</td>\n",
       "      <td>94.598785</td>\n",
       "      <td>Humboldt</td>\n",
       "      <td>-123.515171</td>\n",
       "      <td>41.319056</td>\n",
       "    </tr>\n",
       "    <tr>\n",
       "      <th>25</th>\n",
       "      <td>1911</td>\n",
       "      <td>7</td>\n",
       "      <td>PRIGMORE FLAT</td>\n",
       "      <td>7 - Arson</td>\n",
       "      <td>14.936650</td>\n",
       "      <td>Humboldt</td>\n",
       "      <td>-123.520594</td>\n",
       "      <td>41.288310</td>\n",
       "    </tr>\n",
       "    <tr>\n",
       "      <th>29</th>\n",
       "      <td>1911</td>\n",
       "      <td>8</td>\n",
       "      <td>ULLATHORNE CREEK</td>\n",
       "      <td>7 - Arson</td>\n",
       "      <td>9.957536</td>\n",
       "      <td>Humboldt</td>\n",
       "      <td>-123.576445</td>\n",
       "      <td>41.289008</td>\n",
       "    </tr>\n",
       "    <tr>\n",
       "      <th>31</th>\n",
       "      <td>1911</td>\n",
       "      <td>8</td>\n",
       "      <td>PEARCH CREEK</td>\n",
       "      <td>7 - Arson</td>\n",
       "      <td>398.317413</td>\n",
       "      <td>Humboldt</td>\n",
       "      <td>-123.495326</td>\n",
       "      <td>41.302627</td>\n",
       "    </tr>\n",
       "    <tr>\n",
       "      <th>...</th>\n",
       "      <td>...</td>\n",
       "      <td>...</td>\n",
       "      <td>...</td>\n",
       "      <td>...</td>\n",
       "      <td>...</td>\n",
       "      <td>...</td>\n",
       "      <td>...</td>\n",
       "      <td>...</td>\n",
       "    </tr>\n",
       "    <tr>\n",
       "      <th>13387</th>\n",
       "      <td>2019</td>\n",
       "      <td>9</td>\n",
       "      <td>FRAME</td>\n",
       "      <td>7 - Arson</td>\n",
       "      <td>15.022148</td>\n",
       "      <td>Fresno</td>\n",
       "      <td>-120.649290</td>\n",
       "      <td>36.163830</td>\n",
       "    </tr>\n",
       "    <tr>\n",
       "      <th>13405</th>\n",
       "      <td>2019</td>\n",
       "      <td>3</td>\n",
       "      <td>LINCOLN</td>\n",
       "      <td>7 - Arson</td>\n",
       "      <td>564.215393</td>\n",
       "      <td>Riverside</td>\n",
       "      <td>-116.072059</td>\n",
       "      <td>33.534968</td>\n",
       "    </tr>\n",
       "    <tr>\n",
       "      <th>13409</th>\n",
       "      <td>2019</td>\n",
       "      <td>8</td>\n",
       "      <td>PATTERSON</td>\n",
       "      <td>7 - Arson</td>\n",
       "      <td>139.200714</td>\n",
       "      <td>San Joaquin</td>\n",
       "      <td>-121.538773</td>\n",
       "      <td>37.715312</td>\n",
       "    </tr>\n",
       "    <tr>\n",
       "      <th>13425</th>\n",
       "      <td>2019</td>\n",
       "      <td>8</td>\n",
       "      <td>MARSH 5</td>\n",
       "      <td>7 - Arson</td>\n",
       "      <td>226.616867</td>\n",
       "      <td>Contra Costa</td>\n",
       "      <td>-121.828352</td>\n",
       "      <td>37.888016</td>\n",
       "    </tr>\n",
       "    <tr>\n",
       "      <th>13459</th>\n",
       "      <td>2019</td>\n",
       "      <td>9</td>\n",
       "      <td>STAGE</td>\n",
       "      <td>7 - Arson</td>\n",
       "      <td>13.019149</td>\n",
       "      <td>Monterey</td>\n",
       "      <td>-121.599207</td>\n",
       "      <td>36.764065</td>\n",
       "    </tr>\n",
       "  </tbody>\n",
       "</table>\n",
       "<p>763 rows × 8 columns</p>\n",
       "</div>"
      ],
      "text/plain": [
       "       year  month              name      cause       acres        county  \\\n",
       "9      1910      8  CRAWFORD CREEK 2  7 - Arson  497.885071      Humboldt   \n",
       "24     1911      7       ORCUTT FLAT  7 - Arson   94.598785      Humboldt   \n",
       "25     1911      7     PRIGMORE FLAT  7 - Arson   14.936650      Humboldt   \n",
       "29     1911      8  ULLATHORNE CREEK  7 - Arson    9.957536      Humboldt   \n",
       "31     1911      8      PEARCH CREEK  7 - Arson  398.317413      Humboldt   \n",
       "...     ...    ...               ...        ...         ...           ...   \n",
       "13387  2019      9             FRAME  7 - Arson   15.022148        Fresno   \n",
       "13405  2019      3           LINCOLN  7 - Arson  564.215393     Riverside   \n",
       "13409  2019      8         PATTERSON  7 - Arson  139.200714   San Joaquin   \n",
       "13425  2019      8           MARSH 5  7 - Arson  226.616867  Contra Costa   \n",
       "13459  2019      9             STAGE  7 - Arson   13.019149      Monterey   \n",
       "\n",
       "        longitude   latitude  \n",
       "9     -123.552471  41.300052  \n",
       "24    -123.515171  41.319056  \n",
       "25    -123.520594  41.288310  \n",
       "29    -123.576445  41.289008  \n",
       "31    -123.495326  41.302627  \n",
       "...           ...        ...  \n",
       "13387 -120.649290  36.163830  \n",
       "13405 -116.072059  33.534968  \n",
       "13409 -121.538773  37.715312  \n",
       "13425 -121.828352  37.888016  \n",
       "13459 -121.599207  36.764065  \n",
       "\n",
       "[763 rows x 8 columns]"
      ]
     },
     "execution_count": 14,
     "metadata": {},
     "output_type": "execute_result"
    }
   ],
   "source": [
    "arsons = calfire[calfire.get('cause') == '7 - Arson']\n",
    "arsons"
   ]
  },
  {
   "cell_type": "markdown",
   "metadata": {},
   "source": [
    "To find the percentage of fires caused by arson, we divide the size of this table by the size of the original table:"
   ]
  },
  {
   "cell_type": "code",
   "execution_count": 15,
   "metadata": {},
   "outputs": [
    {
     "data": {
      "text/plain": [
       "0.05666963755199049"
      ]
     },
     "execution_count": 15,
     "metadata": {},
     "output_type": "execute_result"
    }
   ],
   "source": [
    "arsons.shape[0] / calfire.shape[0]"
   ]
  },
  {
   "cell_type": "markdown",
   "metadata": {},
   "source": [
    "So about 5-6% of all wildfires are known to be caused by arson."
   ]
  },
  {
   "cell_type": "markdown",
   "metadata": {},
   "source": [
    "### How many fires from 2018 occurred in San Diego County?"
   ]
  },
  {
   "cell_type": "markdown",
   "metadata": {},
   "source": [
    "We can answer this question by first selecting only the rows from 2018. Using this smaller table, we'll select the rows from San Diego County. This two step process is slightly cumbersome, however -- in the next section, we'll see a better way of performing the same query.\n",
    "\n",
    "First, we'll get the fires from 2018:"
   ]
  },
  {
   "cell_type": "code",
   "execution_count": 16,
   "metadata": {},
   "outputs": [],
   "source": [
    "fires_from_2018 = calfire[calfire.get('year') == 2018]"
   ]
  },
  {
   "cell_type": "markdown",
   "metadata": {},
   "source": [
    "Now we'll select only the fires from San Diego County, making sure to use `fires_from_2018`, and not `calfires`:"
   ]
  },
  {
   "cell_type": "code",
   "execution_count": 17,
   "metadata": {},
   "outputs": [
    {
     "data": {
      "text/html": [
       "<div>\n",
       "<style scoped>\n",
       "    .dataframe tbody tr th:only-of-type {\n",
       "        vertical-align: middle;\n",
       "    }\n",
       "\n",
       "    .dataframe tbody tr th {\n",
       "        vertical-align: top;\n",
       "    }\n",
       "\n",
       "    .dataframe thead th {\n",
       "        text-align: right;\n",
       "    }\n",
       "</style>\n",
       "<table border=\"1\" class=\"dataframe\">\n",
       "  <thead>\n",
       "    <tr style=\"text-align: right;\">\n",
       "      <th></th>\n",
       "      <th>year</th>\n",
       "      <th>month</th>\n",
       "      <th>name</th>\n",
       "      <th>cause</th>\n",
       "      <th>acres</th>\n",
       "      <th>county</th>\n",
       "      <th>longitude</th>\n",
       "      <th>latitude</th>\n",
       "    </tr>\n",
       "  </thead>\n",
       "  <tbody>\n",
       "    <tr>\n",
       "      <th>12800</th>\n",
       "      <td>2018</td>\n",
       "      <td>7</td>\n",
       "      <td>PASQUAL</td>\n",
       "      <td>14 - Unknown</td>\n",
       "      <td>327.586121</td>\n",
       "      <td>San Diego</td>\n",
       "      <td>-116.917288</td>\n",
       "      <td>33.078967</td>\n",
       "    </tr>\n",
       "    <tr>\n",
       "      <th>12819</th>\n",
       "      <td>2018</td>\n",
       "      <td>3</td>\n",
       "      <td>MCP BASILONE GATE</td>\n",
       "      <td>14 - Unknown</td>\n",
       "      <td>0.023540</td>\n",
       "      <td>San Diego</td>\n",
       "      <td>-117.559119</td>\n",
       "      <td>33.440113</td>\n",
       "    </tr>\n",
       "    <tr>\n",
       "      <th>12821</th>\n",
       "      <td>2018</td>\n",
       "      <td>8</td>\n",
       "      <td>SAN MATEO CAMPGROUND</td>\n",
       "      <td>14 - Unknown</td>\n",
       "      <td>2.909111</td>\n",
       "      <td>San Diego</td>\n",
       "      <td>-117.572772</td>\n",
       "      <td>33.419019</td>\n",
       "    </tr>\n",
       "    <tr>\n",
       "      <th>12889</th>\n",
       "      <td>2018</td>\n",
       "      <td>5</td>\n",
       "      <td>MONTE</td>\n",
       "      <td>14 - Unknown</td>\n",
       "      <td>13.088419</td>\n",
       "      <td>San Diego</td>\n",
       "      <td>-116.767460</td>\n",
       "      <td>32.896771</td>\n",
       "    </tr>\n",
       "    <tr>\n",
       "      <th>12968</th>\n",
       "      <td>2018</td>\n",
       "      <td>7</td>\n",
       "      <td>WEST</td>\n",
       "      <td>2 - Equipment Use</td>\n",
       "      <td>505.399994</td>\n",
       "      <td>San Diego</td>\n",
       "      <td>-116.745126</td>\n",
       "      <td>32.829008</td>\n",
       "    </tr>\n",
       "    <tr>\n",
       "      <th>...</th>\n",
       "      <td>...</td>\n",
       "      <td>...</td>\n",
       "      <td>...</td>\n",
       "      <td>...</td>\n",
       "      <td>...</td>\n",
       "      <td>...</td>\n",
       "      <td>...</td>\n",
       "      <td>...</td>\n",
       "    </tr>\n",
       "    <tr>\n",
       "      <th>13056</th>\n",
       "      <td>2018</td>\n",
       "      <td>7</td>\n",
       "      <td>ROCK 5</td>\n",
       "      <td>14 - Unknown</td>\n",
       "      <td>206.256805</td>\n",
       "      <td>San Diego</td>\n",
       "      <td>-117.236669</td>\n",
       "      <td>33.419540</td>\n",
       "    </tr>\n",
       "    <tr>\n",
       "      <th>13069</th>\n",
       "      <td>2018</td>\n",
       "      <td>6</td>\n",
       "      <td>RECYCLE</td>\n",
       "      <td>4 - Campfire</td>\n",
       "      <td>248.380676</td>\n",
       "      <td>San Diego</td>\n",
       "      <td>-116.443775</td>\n",
       "      <td>32.654185</td>\n",
       "    </tr>\n",
       "    <tr>\n",
       "      <th>13071</th>\n",
       "      <td>2018</td>\n",
       "      <td>5</td>\n",
       "      <td>AGUA</td>\n",
       "      <td>14 - Unknown</td>\n",
       "      <td>59.082077</td>\n",
       "      <td>San Diego</td>\n",
       "      <td>-117.028463</td>\n",
       "      <td>33.363286</td>\n",
       "    </tr>\n",
       "    <tr>\n",
       "      <th>13141</th>\n",
       "      <td>2018</td>\n",
       "      <td>6</td>\n",
       "      <td>CHURCH 2</td>\n",
       "      <td>10 - Vehicle</td>\n",
       "      <td>11.045366</td>\n",
       "      <td>San Diego</td>\n",
       "      <td>-116.359866</td>\n",
       "      <td>32.687008</td>\n",
       "    </tr>\n",
       "    <tr>\n",
       "      <th>13142</th>\n",
       "      <td>2018</td>\n",
       "      <td>7</td>\n",
       "      <td>BUILDING</td>\n",
       "      <td>9 - Miscellaneous</td>\n",
       "      <td>10.419848</td>\n",
       "      <td>San Diego</td>\n",
       "      <td>-116.766340</td>\n",
       "      <td>32.620508</td>\n",
       "    </tr>\n",
       "  </tbody>\n",
       "</table>\n",
       "<p>13 rows × 8 columns</p>\n",
       "</div>"
      ],
      "text/plain": [
       "       year  month                  name              cause       acres  \\\n",
       "12800  2018      7               PASQUAL       14 - Unknown  327.586121   \n",
       "12819  2018      3     MCP BASILONE GATE       14 - Unknown    0.023540   \n",
       "12821  2018      8  SAN MATEO CAMPGROUND       14 - Unknown    2.909111   \n",
       "12889  2018      5                 MONTE       14 - Unknown   13.088419   \n",
       "12968  2018      7                  WEST  2 - Equipment Use  505.399994   \n",
       "...     ...    ...                   ...                ...         ...   \n",
       "13056  2018      7                ROCK 5       14 - Unknown  206.256805   \n",
       "13069  2018      6               RECYCLE       4 - Campfire  248.380676   \n",
       "13071  2018      5                  AGUA       14 - Unknown   59.082077   \n",
       "13141  2018      6              CHURCH 2       10 - Vehicle   11.045366   \n",
       "13142  2018      7              BUILDING  9 - Miscellaneous   10.419848   \n",
       "\n",
       "          county   longitude   latitude  \n",
       "12800  San Diego -116.917288  33.078967  \n",
       "12819  San Diego -117.559119  33.440113  \n",
       "12821  San Diego -117.572772  33.419019  \n",
       "12889  San Diego -116.767460  32.896771  \n",
       "12968  San Diego -116.745126  32.829008  \n",
       "...          ...         ...        ...  \n",
       "13056  San Diego -117.236669  33.419540  \n",
       "13069  San Diego -116.443775  32.654185  \n",
       "13071  San Diego -117.028463  33.363286  \n",
       "13141  San Diego -116.359866  32.687008  \n",
       "13142  San Diego -116.766340  32.620508  \n",
       "\n",
       "[13 rows x 8 columns]"
      ]
     },
     "execution_count": 17,
     "metadata": {},
     "output_type": "execute_result"
    }
   ],
   "source": [
    "fires_from_2018[fires_from_2018.get('county') == 'San Diego']"
   ]
  },
  {
   "cell_type": "markdown",
   "metadata": {},
   "source": [
    "It seems that there were 13 such fires."
   ]
  },
  {
   "cell_type": "markdown",
   "metadata": {},
   "source": [
    "## Multiple Conditions"
   ]
  },
  {
   "cell_type": "markdown",
   "metadata": {},
   "source": [
    "How many fires did San Diego County have in 2018? We saw above that this can be answered with two queries, one after the other. But a more direct and arguably better way is to construct a query with *multiple conditions*, as we'll do now."
   ]
  },
  {
   "cell_type": "markdown",
   "metadata": {},
   "source": [
    "### The `&` Operator"
   ]
  },
  {
   "cell_type": "markdown",
   "metadata": {},
   "source": [
    "Let's begin with another simple example. Below is the table of city populations that we saw at the beginning of this section, but with an additional column containing the region of California that the city is in:"
   ]
  },
  {
   "cell_type": "code",
   "execution_count": 18,
   "metadata": {},
   "outputs": [
    {
     "data": {
      "text/html": [
       "<div>\n",
       "<style scoped>\n",
       "    .dataframe tbody tr th:only-of-type {\n",
       "        vertical-align: middle;\n",
       "    }\n",
       "\n",
       "    .dataframe tbody tr th {\n",
       "        vertical-align: top;\n",
       "    }\n",
       "\n",
       "    .dataframe thead th {\n",
       "        text-align: right;\n",
       "    }\n",
       "</style>\n",
       "<table border=\"1\" class=\"dataframe\">\n",
       "  <thead>\n",
       "    <tr style=\"text-align: right;\">\n",
       "      <th></th>\n",
       "      <th>Population</th>\n",
       "      <th>Region</th>\n",
       "    </tr>\n",
       "    <tr>\n",
       "      <th>City</th>\n",
       "      <th></th>\n",
       "      <th></th>\n",
       "    </tr>\n",
       "  </thead>\n",
       "  <tbody>\n",
       "    <tr>\n",
       "      <th>Fresno</th>\n",
       "      <td>502000</td>\n",
       "      <td>Central Valley</td>\n",
       "    </tr>\n",
       "    <tr>\n",
       "      <th>LA</th>\n",
       "      <td>4094000</td>\n",
       "      <td>SoCal</td>\n",
       "    </tr>\n",
       "    <tr>\n",
       "      <th>SD</th>\n",
       "      <td>1376000</td>\n",
       "      <td>SoCal</td>\n",
       "    </tr>\n",
       "    <tr>\n",
       "      <th>SF</th>\n",
       "      <td>856000</td>\n",
       "      <td>NorCal</td>\n",
       "    </tr>\n",
       "    <tr>\n",
       "      <th>SJ</th>\n",
       "      <td>1023000</td>\n",
       "      <td>NorCal</td>\n",
       "    </tr>\n",
       "  </tbody>\n",
       "</table>\n",
       "</div>"
      ],
      "text/plain": [
       "        Population          Region\n",
       "City                              \n",
       "Fresno      502000  Central Valley\n",
       "LA         4094000           SoCal\n",
       "SD         1376000           SoCal\n",
       "SF          856000          NorCal\n",
       "SJ         1023000          NorCal"
      ]
     },
     "execution_count": 18,
     "metadata": {},
     "output_type": "execute_result"
    }
   ],
   "source": [
    "with_regions = bpd.DataFrame().assign(\n",
    "    City=['Fresno', 'LA', 'SD', 'SF', 'SJ'],\n",
    "    Population=[502_000, 4_094_000, 1_376_000, 856_000, 1_023_000],\n",
    "    Region=['Central Valley', 'SoCal', 'SoCal', 'NorCal', 'NorCal']\n",
    ").set_index('City')\n",
    "with_regions"
   ]
  },
  {
   "cell_type": "markdown",
   "metadata": {},
   "source": [
    "Suppose we want to select only those cities which 1) have population larger than 1 million, and 2) are in NorCal (Northern California).\n",
    "\n",
    "We know how to make Boolean arrays for both queries individually:"
   ]
  },
  {
   "cell_type": "code",
   "execution_count": 19,
   "metadata": {},
   "outputs": [
    {
     "data": {
      "text/plain": [
       "City\n",
       "Fresno    False\n",
       "LA         True\n",
       "SD         True\n",
       "SF        False\n",
       "SJ         True\n",
       "Name: Population, dtype: bool"
      ]
     },
     "execution_count": 19,
     "metadata": {},
     "output_type": "execute_result"
    }
   ],
   "source": [
    "is_more_than_a_million = with_regions.get('Population') > 1_000_000\n",
    "is_more_than_a_million"
   ]
  },
  {
   "cell_type": "code",
   "execution_count": 20,
   "metadata": {},
   "outputs": [
    {
     "data": {
      "text/plain": [
       "City\n",
       "Fresno    False\n",
       "LA        False\n",
       "SD        False\n",
       "SF         True\n",
       "SJ         True\n",
       "Name: Region, dtype: bool"
      ]
     },
     "execution_count": 20,
     "metadata": {},
     "output_type": "execute_result"
    }
   ],
   "source": [
    "is_in_norcal = with_regions.get('Region') == 'NorCal'\n",
    "is_in_norcal"
   ]
  },
  {
   "cell_type": "markdown",
   "metadata": {},
   "source": [
    "But we want a Boolean array where an entry is `True` if (and only if) *both* of the corresponding entries from `is_more_than_a_million` and `is_in_norcal` are `True`. In other words, an entry should be true if the population is above 1 million *and* the region is NorCal.\n",
    "\n",
    "We can construct such an array using the *binary and* `&` operator. `&` takes two Boolean arrays of the same size and returns a new Boolean array that is True only when the input arrays are *both* True."
   ]
  },
  {
   "cell_type": "code",
   "execution_count": 21,
   "metadata": {},
   "outputs": [
    {
     "data": {
      "text/plain": [
       "City\n",
       "Fresno    False\n",
       "LA        False\n",
       "SD        False\n",
       "SF        False\n",
       "SJ         True\n",
       "dtype: bool"
      ]
     },
     "execution_count": 21,
     "metadata": {},
     "output_type": "execute_result"
    }
   ],
   "source": [
    "is_more_than_a_million & is_in_norcal"
   ]
  },
  {
   "cell_type": "markdown",
   "metadata": {},
   "source": [
    "You can check that each entry in this new Boolean array is `True` if and only if the corresponding entries in `is_more_than_a_million` and `is_in_norcal` are both `True`."
   ]
  },
  {
   "cell_type": "markdown",
   "metadata": {},
   "source": [
    "We can now pass this new array into the table to select only the desired rows:"
   ]
  },
  {
   "cell_type": "code",
   "execution_count": 22,
   "metadata": {},
   "outputs": [
    {
     "data": {
      "text/html": [
       "<div>\n",
       "<style scoped>\n",
       "    .dataframe tbody tr th:only-of-type {\n",
       "        vertical-align: middle;\n",
       "    }\n",
       "\n",
       "    .dataframe tbody tr th {\n",
       "        vertical-align: top;\n",
       "    }\n",
       "\n",
       "    .dataframe thead th {\n",
       "        text-align: right;\n",
       "    }\n",
       "</style>\n",
       "<table border=\"1\" class=\"dataframe\">\n",
       "  <thead>\n",
       "    <tr style=\"text-align: right;\">\n",
       "      <th></th>\n",
       "      <th>Population</th>\n",
       "      <th>Region</th>\n",
       "    </tr>\n",
       "    <tr>\n",
       "      <th>City</th>\n",
       "      <th></th>\n",
       "      <th></th>\n",
       "    </tr>\n",
       "  </thead>\n",
       "  <tbody>\n",
       "    <tr>\n",
       "      <th>SJ</th>\n",
       "      <td>1023000</td>\n",
       "      <td>NorCal</td>\n",
       "    </tr>\n",
       "  </tbody>\n",
       "</table>\n",
       "</div>"
      ],
      "text/plain": [
       "      Population  Region\n",
       "City                    \n",
       "SJ       1023000  NorCal"
      ]
     },
     "execution_count": 22,
     "metadata": {},
     "output_type": "execute_result"
    }
   ],
   "source": [
    "with_regions[is_more_than_a_million & is_in_norcal]"
   ]
  },
  {
   "cell_type": "markdown",
   "metadata": {},
   "source": [
    "In this case, we've assigned each of the two queries to intermediate variables, `is_more_than_a_million` and `is_in_norcal`. This is totally fine, but many times we'll save ourselves the extra typing by writing the query in one line of code:"
   ]
  },
  {
   "cell_type": "code",
   "execution_count": 23,
   "metadata": {},
   "outputs": [
    {
     "data": {
      "text/html": [
       "<div>\n",
       "<style scoped>\n",
       "    .dataframe tbody tr th:only-of-type {\n",
       "        vertical-align: middle;\n",
       "    }\n",
       "\n",
       "    .dataframe tbody tr th {\n",
       "        vertical-align: top;\n",
       "    }\n",
       "\n",
       "    .dataframe thead th {\n",
       "        text-align: right;\n",
       "    }\n",
       "</style>\n",
       "<table border=\"1\" class=\"dataframe\">\n",
       "  <thead>\n",
       "    <tr style=\"text-align: right;\">\n",
       "      <th></th>\n",
       "      <th>Population</th>\n",
       "      <th>Region</th>\n",
       "    </tr>\n",
       "    <tr>\n",
       "      <th>City</th>\n",
       "      <th></th>\n",
       "      <th></th>\n",
       "    </tr>\n",
       "  </thead>\n",
       "  <tbody>\n",
       "    <tr>\n",
       "      <th>SJ</th>\n",
       "      <td>1023000</td>\n",
       "      <td>NorCal</td>\n",
       "    </tr>\n",
       "  </tbody>\n",
       "</table>\n",
       "</div>"
      ],
      "text/plain": [
       "      Population  Region\n",
       "City                    \n",
       "SJ       1023000  NorCal"
      ]
     },
     "execution_count": 23,
     "metadata": {},
     "output_type": "execute_result"
    }
   ],
   "source": [
    "with_regions[\n",
    "    (with_regions.get('Population') > 1_000_000) & (with_regions.get('Region') == 'NorCal')\n",
    "]"
   ]
  },
  {
   "cell_type": "markdown",
   "metadata": {},
   "source": [
    "Notice the `()` around each individual comparison. These are extremely important! If you don't include these, you'll get yelled at by Python:"
   ]
  },
  {
   "cell_type": "code",
   "execution_count": 24,
   "metadata": {
    "tags": [
     "raises-exception"
    ]
   },
   "outputs": [
    {
     "ename": "TypeError",
     "evalue": "unsupported operand type(s) for &: 'int' and 'Series'",
     "output_type": "error",
     "traceback": [
      "\u001b[0;31m---------------------------------------------------------------------------\u001b[0m",
      "\u001b[0;31mTypeError\u001b[0m                                 Traceback (most recent call last)",
      "\u001b[0;32m<ipython-input-24-9d9087344376>\u001b[0m in \u001b[0;36m<module>\u001b[0;34m\u001b[0m\n\u001b[1;32m      1\u001b[0m with_regions[\n\u001b[0;32m----> 2\u001b[0;31m     \u001b[0mwith_regions\u001b[0m\u001b[0;34m.\u001b[0m\u001b[0mget\u001b[0m\u001b[0;34m(\u001b[0m\u001b[0;34m'Population'\u001b[0m\u001b[0;34m)\u001b[0m \u001b[0;34m>\u001b[0m \u001b[0;36m1_000_000\u001b[0m \u001b[0;34m&\u001b[0m \u001b[0mwith_regions\u001b[0m\u001b[0;34m.\u001b[0m\u001b[0mget\u001b[0m\u001b[0;34m(\u001b[0m\u001b[0;34m'Region'\u001b[0m\u001b[0;34m)\u001b[0m \u001b[0;34m==\u001b[0m \u001b[0;34m'NorCal'\u001b[0m\u001b[0;34m\u001b[0m\u001b[0;34m\u001b[0m\u001b[0m\n\u001b[0m\u001b[1;32m      3\u001b[0m ]\n",
      "\u001b[0;31mTypeError\u001b[0m: unsupported operand type(s) for &: 'int' and 'Series'"
     ]
    }
   ],
   "source": [
    "with_regions[\n",
    "    with_regions.get('Population') > 1_000_000 & with_regions.get('Region') == 'NorCal'\n",
    "]"
   ]
  },
  {
   "cell_type": "markdown",
   "metadata": {},
   "source": [
    "```{warning}\n",
    "\n",
    "Always include parentheses `()` around separate conditions in a query with multiple conditions. If you are performing a query, and you see a `TypeError` complaining about an \"unsupported operand type\", it is likely due to forgetting the parentheses.\n",
    "```"
   ]
  },
  {
   "cell_type": "markdown",
   "metadata": {},
   "source": [
    "```{jupytertip}\n",
    "If you forgot parentheses and want to add them quickly, you can select the section of code you want to surround in parentheses and then type `(`. Jupyter will wrap your entire selection in a single pair of parentheses.\n",
    "```"
   ]
  },
  {
   "cell_type": "markdown",
   "metadata": {},
   "source": [
    "Lastly, Python is all about readability and &nbsp;a&nbsp;e&nbsp;s&nbsp;t&nbsp;h&nbsp;e&nbsp;t&nbsp;i&nbsp;c.\n",
    "\n",
    "If we're inside of parentheses or brackets, we can break up long lines of code to make them easier to read and understand:"
   ]
  },
  {
   "cell_type": "code",
   "execution_count": 25,
   "metadata": {},
   "outputs": [
    {
     "data": {
      "text/html": [
       "<div>\n",
       "<style scoped>\n",
       "    .dataframe tbody tr th:only-of-type {\n",
       "        vertical-align: middle;\n",
       "    }\n",
       "\n",
       "    .dataframe tbody tr th {\n",
       "        vertical-align: top;\n",
       "    }\n",
       "\n",
       "    .dataframe thead th {\n",
       "        text-align: right;\n",
       "    }\n",
       "</style>\n",
       "<table border=\"1\" class=\"dataframe\">\n",
       "  <thead>\n",
       "    <tr style=\"text-align: right;\">\n",
       "      <th></th>\n",
       "      <th>Population</th>\n",
       "      <th>Region</th>\n",
       "    </tr>\n",
       "    <tr>\n",
       "      <th>City</th>\n",
       "      <th></th>\n",
       "      <th></th>\n",
       "    </tr>\n",
       "  </thead>\n",
       "  <tbody>\n",
       "    <tr>\n",
       "      <th>SJ</th>\n",
       "      <td>1023000</td>\n",
       "      <td>NorCal</td>\n",
       "    </tr>\n",
       "  </tbody>\n",
       "</table>\n",
       "</div>"
      ],
      "text/plain": [
       "      Population  Region\n",
       "City                    \n",
       "SJ       1023000  NorCal"
      ]
     },
     "execution_count": 25,
     "metadata": {},
     "output_type": "execute_result"
    }
   ],
   "source": [
    "with_regions[\n",
    "    (with_regions.get('Population') > 1_000_000)\n",
    "    &\n",
    "    (with_regions.get('Region') == 'NorCal')\n",
    "]"
   ]
  },
  {
   "cell_type": "markdown",
   "metadata": {},
   "source": [
    "````{hiddenanswer}\n",
    "---\n",
    "question: How would you use `&` to select all 'Class E' fires -- fires which burned at least 300 acres (inclusive) but less than 1000 acres?\n",
    "answer: |\n",
    "    ```python\n",
    "    calfire[(fires.get('acres') >= 300) & (fires.get('acres') < 300)]\n",
    "    ```\n",
    "````"
   ]
  },
  {
   "cell_type": "markdown",
   "metadata": {},
   "source": [
    "### The `|` Operator"
   ]
  },
  {
   "cell_type": "markdown",
   "metadata": {},
   "source": [
    "Suppose we wanted to select all fires which occurred in either San Diego County *or* Imperial County. In this situation,\n",
    "we use the *binary or* operator, `|`. This operator takes two Boolean arrays of the same size as input and creates a new array in which a particular entry is `True` if *at least one* of the corresponding entries in the input arrays is true."
   ]
  },
  {
   "cell_type": "code",
   "execution_count": 26,
   "metadata": {},
   "outputs": [
    {
     "data": {
      "text/html": [
       "<div>\n",
       "<style scoped>\n",
       "    .dataframe tbody tr th:only-of-type {\n",
       "        vertical-align: middle;\n",
       "    }\n",
       "\n",
       "    .dataframe tbody tr th {\n",
       "        vertical-align: top;\n",
       "    }\n",
       "\n",
       "    .dataframe thead th {\n",
       "        text-align: right;\n",
       "    }\n",
       "</style>\n",
       "<table border=\"1\" class=\"dataframe\">\n",
       "  <thead>\n",
       "    <tr style=\"text-align: right;\">\n",
       "      <th></th>\n",
       "      <th>year</th>\n",
       "      <th>month</th>\n",
       "      <th>name</th>\n",
       "      <th>cause</th>\n",
       "      <th>acres</th>\n",
       "      <th>county</th>\n",
       "      <th>longitude</th>\n",
       "      <th>latitude</th>\n",
       "    </tr>\n",
       "  </thead>\n",
       "  <tbody>\n",
       "    <tr>\n",
       "      <th>1292</th>\n",
       "      <td>1950</td>\n",
       "      <td>10</td>\n",
       "      <td>TALBOTT</td>\n",
       "      <td>9 - Miscellaneous</td>\n",
       "      <td>522.326538</td>\n",
       "      <td>San Diego</td>\n",
       "      <td>-116.732715</td>\n",
       "      <td>32.699059</td>\n",
       "    </tr>\n",
       "    <tr>\n",
       "      <th>1295</th>\n",
       "      <td>1950</td>\n",
       "      <td>6</td>\n",
       "      <td>PUEBLO SIDING</td>\n",
       "      <td>9 - Miscellaneous</td>\n",
       "      <td>315.018127</td>\n",
       "      <td>San Diego</td>\n",
       "      <td>-116.356054</td>\n",
       "      <td>32.613788</td>\n",
       "    </tr>\n",
       "    <tr>\n",
       "      <th>1296</th>\n",
       "      <td>1950</td>\n",
       "      <td>10</td>\n",
       "      <td>BANNER</td>\n",
       "      <td>9 - Miscellaneous</td>\n",
       "      <td>2195.823242</td>\n",
       "      <td>San Diego</td>\n",
       "      <td>-116.568905</td>\n",
       "      <td>33.057330</td>\n",
       "    </tr>\n",
       "    <tr>\n",
       "      <th>1322</th>\n",
       "      <td>1950</td>\n",
       "      <td>9</td>\n",
       "      <td>AGUA TIBIA</td>\n",
       "      <td>1 - Lightning</td>\n",
       "      <td>1941.808594</td>\n",
       "      <td>San Diego</td>\n",
       "      <td>-116.992760</td>\n",
       "      <td>33.392911</td>\n",
       "    </tr>\n",
       "    <tr>\n",
       "      <th>1332</th>\n",
       "      <td>1950</td>\n",
       "      <td>8</td>\n",
       "      <td>CONEJOS</td>\n",
       "      <td>9 - Miscellaneous</td>\n",
       "      <td>62848.742188</td>\n",
       "      <td>San Diego</td>\n",
       "      <td>-116.644504</td>\n",
       "      <td>32.900322</td>\n",
       "    </tr>\n",
       "    <tr>\n",
       "      <th>...</th>\n",
       "      <td>...</td>\n",
       "      <td>...</td>\n",
       "      <td>...</td>\n",
       "      <td>...</td>\n",
       "      <td>...</td>\n",
       "      <td>...</td>\n",
       "      <td>...</td>\n",
       "      <td>...</td>\n",
       "    </tr>\n",
       "    <tr>\n",
       "      <th>13348</th>\n",
       "      <td>2019</td>\n",
       "      <td>6</td>\n",
       "      <td>PAUMA 4</td>\n",
       "      <td>9 - Miscellaneous</td>\n",
       "      <td>22.021397</td>\n",
       "      <td>San Diego</td>\n",
       "      <td>-116.986509</td>\n",
       "      <td>33.297972</td>\n",
       "    </tr>\n",
       "    <tr>\n",
       "      <th>13349</th>\n",
       "      <td>2019</td>\n",
       "      <td>8</td>\n",
       "      <td>AIRPORT</td>\n",
       "      <td>14 - Unknown</td>\n",
       "      <td>1.677516</td>\n",
       "      <td>San Diego</td>\n",
       "      <td>-116.663357</td>\n",
       "      <td>33.285729</td>\n",
       "    </tr>\n",
       "    <tr>\n",
       "      <th>13350</th>\n",
       "      <td>2019</td>\n",
       "      <td>9</td>\n",
       "      <td>DEHESA 11</td>\n",
       "      <td>14 - Unknown</td>\n",
       "      <td>225.646027</td>\n",
       "      <td>San Diego</td>\n",
       "      <td>-116.819500</td>\n",
       "      <td>32.777229</td>\n",
       "    </tr>\n",
       "    <tr>\n",
       "      <th>13351</th>\n",
       "      <td>2019</td>\n",
       "      <td>11</td>\n",
       "      <td>CRESTWOOD</td>\n",
       "      <td>10 - Vehicle</td>\n",
       "      <td>31.554823</td>\n",
       "      <td>San Diego</td>\n",
       "      <td>-116.349084</td>\n",
       "      <td>32.701877</td>\n",
       "    </tr>\n",
       "    <tr>\n",
       "      <th>13371</th>\n",
       "      <td>2019</td>\n",
       "      <td>11</td>\n",
       "      <td>CAMINO</td>\n",
       "      <td>14 - Unknown</td>\n",
       "      <td>0.721892</td>\n",
       "      <td>San Diego</td>\n",
       "      <td>-116.575401</td>\n",
       "      <td>33.256260</td>\n",
       "    </tr>\n",
       "  </tbody>\n",
       "</table>\n",
       "<p>846 rows × 8 columns</p>\n",
       "</div>"
      ],
      "text/plain": [
       "       year  month           name              cause         acres     county  \\\n",
       "1292   1950     10        TALBOTT  9 - Miscellaneous    522.326538  San Diego   \n",
       "1295   1950      6  PUEBLO SIDING  9 - Miscellaneous    315.018127  San Diego   \n",
       "1296   1950     10         BANNER  9 - Miscellaneous   2195.823242  San Diego   \n",
       "1322   1950      9     AGUA TIBIA      1 - Lightning   1941.808594  San Diego   \n",
       "1332   1950      8        CONEJOS  9 - Miscellaneous  62848.742188  San Diego   \n",
       "...     ...    ...            ...                ...           ...        ...   \n",
       "13348  2019      6        PAUMA 4  9 - Miscellaneous     22.021397  San Diego   \n",
       "13349  2019      8        AIRPORT       14 - Unknown      1.677516  San Diego   \n",
       "13350  2019      9      DEHESA 11       14 - Unknown    225.646027  San Diego   \n",
       "13351  2019     11      CRESTWOOD       10 - Vehicle     31.554823  San Diego   \n",
       "13371  2019     11         CAMINO       14 - Unknown      0.721892  San Diego   \n",
       "\n",
       "        longitude   latitude  \n",
       "1292  -116.732715  32.699059  \n",
       "1295  -116.356054  32.613788  \n",
       "1296  -116.568905  33.057330  \n",
       "1322  -116.992760  33.392911  \n",
       "1332  -116.644504  32.900322  \n",
       "...           ...        ...  \n",
       "13348 -116.986509  33.297972  \n",
       "13349 -116.663357  33.285729  \n",
       "13350 -116.819500  32.777229  \n",
       "13351 -116.349084  32.701877  \n",
       "13371 -116.575401  33.256260  \n",
       "\n",
       "[846 rows x 8 columns]"
      ]
     },
     "execution_count": 26,
     "metadata": {},
     "output_type": "execute_result"
    }
   ],
   "source": [
    "in_san_diego = calfire.get('county') == \"San Diego\"\n",
    "in_imperial = calfire.get('county') == \"Imperial\"\n",
    "\n",
    "calfire[in_imperial | in_san_diego]"
   ]
  },
  {
   "cell_type": "markdown",
   "metadata": {},
   "source": [
    "### Never use `and` / `or`!"
   ]
  },
  {
   "cell_type": "markdown",
   "metadata": {},
   "source": [
    "You might know that `and` and `or` are valid Python keywords and might wonder why we use `&` and `|` instead. In fact, `and` and `or` *do not* perform the right type of comparison when working with arrays. Your code *will* run, but it will give you the wrong result. Here's a quick example. Suppose we want to get all cities in NorCal with populations larger than 1 million. We write a compound query, but use `and` instead of `&`. The code runs, but is the result correct?"
   ]
  },
  {
   "cell_type": "code",
   "execution_count": 42,
   "metadata": {},
   "outputs": [
    {
     "data": {
      "text/html": [
       "<div>\n",
       "<style scoped>\n",
       "    .dataframe tbody tr th:only-of-type {\n",
       "        vertical-align: middle;\n",
       "    }\n",
       "\n",
       "    .dataframe tbody tr th {\n",
       "        vertical-align: top;\n",
       "    }\n",
       "\n",
       "    .dataframe thead th {\n",
       "        text-align: right;\n",
       "    }\n",
       "</style>\n",
       "<table border=\"1\" class=\"dataframe\">\n",
       "  <thead>\n",
       "    <tr style=\"text-align: right;\">\n",
       "      <th></th>\n",
       "      <th>Population</th>\n",
       "      <th>Region</th>\n",
       "    </tr>\n",
       "    <tr>\n",
       "      <th>City</th>\n",
       "      <th></th>\n",
       "      <th></th>\n",
       "    </tr>\n",
       "  </thead>\n",
       "  <tbody>\n",
       "    <tr>\n",
       "      <th>SF</th>\n",
       "      <td>856000</td>\n",
       "      <td>NorCal</td>\n",
       "    </tr>\n",
       "    <tr>\n",
       "      <th>SJ</th>\n",
       "      <td>1023000</td>\n",
       "      <td>NorCal</td>\n",
       "    </tr>\n",
       "  </tbody>\n",
       "</table>\n",
       "</div>"
      ],
      "text/plain": [
       "      Population  Region\n",
       "City                    \n",
       "SF        856000  NorCal\n",
       "SJ       1023000  NorCal"
      ]
     },
     "execution_count": 42,
     "metadata": {},
     "output_type": "execute_result"
    }
   ],
   "source": [
    "with_regions[\n",
    "    (with_regions.get('Population') > 1_000_000) and (with_regions.get('Region') == 'NorCal')\n",
    "]"
   ]
  },
  {
   "cell_type": "markdown",
   "metadata": {},
   "source": [
    "Notice that SF has been included, even though its population is less than 1 million! Why is this? The short answer is that `and` does not do the same thing as `&`. Remember that `&` works elementwise on arrays, returning a new array which is `True` only where both of the input arrays are `True`:"
   ]
  },
  {
   "cell_type": "code",
   "execution_count": 47,
   "metadata": {},
   "outputs": [
    {
     "data": {
      "text/plain": [
       "0    False\n",
       "1     True\n",
       "2    False\n",
       "dtype: bool"
      ]
     },
     "execution_count": 47,
     "metadata": {},
     "output_type": "execute_result"
    }
   ],
   "source": [
    "bpd.Series(data=[True, True, False]) & bpd.Series(data=[False, True, True])"
   ]
  },
  {
   "cell_type": "markdown",
   "metadata": {},
   "source": [
    "Now let's try the same thing, but with `and` instead of `&`:"
   ]
  },
  {
   "cell_type": "code",
   "execution_count": 49,
   "metadata": {},
   "outputs": [
    {
     "data": {
      "text/plain": [
       "0    False\n",
       "1     True\n",
       "2     True\n",
       "dtype: bool"
      ]
     },
     "execution_count": 49,
     "metadata": {},
     "output_type": "execute_result"
    }
   ],
   "source": [
    "bpd.Series(data=[True, True, False]) and bpd.Series(data=[False, True, True])"
   ]
  },
  {
   "cell_type": "markdown",
   "metadata": {},
   "source": [
    "That's not what we expected!\n",
    "\n",
    "For the purposes of this textbook, it's enough to know that `and` doesn't do the same thing as `&`. But if you're curious as to why this happens, here's the short version. We know that Python has Boolean literals `True` and `False`, and `and` works with them as you'd expect:"
   ]
  },
  {
   "cell_type": "code",
   "execution_count": 50,
   "metadata": {},
   "outputs": [
    {
     "data": {
      "text/plain": [
       "False"
      ]
     },
     "execution_count": 50,
     "metadata": {},
     "output_type": "execute_result"
    }
   ],
   "source": [
    "True and False"
   ]
  },
  {
   "cell_type": "code",
   "execution_count": 51,
   "metadata": {},
   "outputs": [
    {
     "data": {
      "text/plain": [
       "True"
      ]
     },
     "execution_count": 51,
     "metadata": {},
     "output_type": "execute_result"
    }
   ],
   "source": [
    "True and True"
   ]
  },
  {
   "cell_type": "markdown",
   "metadata": {},
   "source": [
    "But Python also assigns truth value to other things, like lists and strings. For instance, it is often useful to treat an empty list as if is is `False`, and a non-empty list as if it is `True`. We can see the truth value Python assigns to something by using the `bool` function to convert it to a Boolean:"
   ]
  },
  {
   "cell_type": "code",
   "execution_count": 54,
   "metadata": {},
   "outputs": [
    {
     "data": {
      "text/plain": [
       "True"
      ]
     },
     "execution_count": 54,
     "metadata": {},
     "output_type": "execute_result"
    }
   ],
   "source": [
    "bool([1, 2, 3])"
   ]
  },
  {
   "cell_type": "code",
   "execution_count": 55,
   "metadata": {},
   "outputs": [
    {
     "data": {
      "text/plain": [
       "False"
      ]
     },
     "execution_count": 55,
     "metadata": {},
     "output_type": "execute_result"
    }
   ],
   "source": [
    "bool([])"
   ]
  },
  {
   "cell_type": "markdown",
   "metadata": {},
   "source": [
    "Because of this, we can use `and` between things that aren't `True` or `False`. For instance, we can put it between two lists to make sure that both are non-empty:"
   ]
  },
  {
   "cell_type": "code",
   "execution_count": 58,
   "metadata": {},
   "outputs": [
    {
     "data": {
      "text/plain": [
       "[4, 5]"
      ]
     },
     "execution_count": 58,
     "metadata": {},
     "output_type": "execute_result"
    }
   ],
   "source": [
    "[1, 2, 3] and [4, 5]"
   ]
  },
  {
   "cell_type": "code",
   "execution_count": 59,
   "metadata": {},
   "outputs": [
    {
     "data": {
      "text/plain": [
       "[]"
      ]
     },
     "execution_count": 59,
     "metadata": {},
     "output_type": "execute_result"
    }
   ],
   "source": [
    "[1, 2, 3] and []"
   ]
  },
  {
   "cell_type": "markdown",
   "metadata": {},
   "source": [
    "Note that the output isn't `True` or `False`, it is a list! If we really wanted `True` or `False` for some reason, we could do so with `bool()`:"
   ]
  },
  {
   "cell_type": "code",
   "execution_count": 60,
   "metadata": {},
   "outputs": [
    {
     "data": {
      "text/plain": [
       "True"
      ]
     },
     "execution_count": 60,
     "metadata": {},
     "output_type": "execute_result"
    }
   ],
   "source": [
    "bool([1, 2, 3] and [4, 5])"
   ]
  },
  {
   "cell_type": "code",
   "execution_count": 61,
   "metadata": {},
   "outputs": [
    {
     "data": {
      "text/plain": [
       "False"
      ]
     },
     "execution_count": 61,
     "metadata": {},
     "output_type": "execute_result"
    }
   ],
   "source": [
    "bool([1, 2, 3] and [])"
   ]
  },
  {
   "cell_type": "markdown",
   "metadata": {},
   "source": [
    "But this is the key:  apparently, `and` will produce the second list if both are non-empty. The same thing happens if we use `and` between Boolean series. Take another look at our example from above:"
   ]
  },
  {
   "cell_type": "code",
   "execution_count": 63,
   "metadata": {},
   "outputs": [
    {
     "data": {
      "text/plain": [
       "0    False\n",
       "1     True\n",
       "2     True\n",
       "dtype: bool"
      ]
     },
     "execution_count": 63,
     "metadata": {},
     "output_type": "execute_result"
    }
   ],
   "source": [
    "bpd.Series(data=[True, True, False]) and bpd.Series(data=[False, True, True])"
   ]
  },
  {
   "cell_type": "markdown",
   "metadata": {},
   "source": [
    "Notice that what is returned is actually the array on the right hand side of `and`! This almost never what we want when comparing arrays, so remember the following warning:"
   ]
  },
  {
   "cell_type": "markdown",
   "metadata": {},
   "source": [
    "```{warning}\n",
    "\n",
    "Never use `and` when writing comparisons in a query. Always use `&`. Likewise, never use `or`; always use `|`.\n",
    "```"
   ]
  },
  {
   "cell_type": "markdown",
   "metadata": {},
   "source": [
    "We will use `and` and `or` later on when writing conditionals."
   ]
  },
  {
   "cell_type": "markdown",
   "metadata": {},
   "source": [
    "## Searching for a Substring"
   ]
  },
  {
   "cell_type": "markdown",
   "metadata": {},
   "source": [
    "Wildfires are typically named after the place where they started. For example, fires that start near the border between California and another state or Mexico are often named something like \"BORDER #6\", or \"BORDER #12\", etc. We know how to write a query to select all fires with a specific name. For instance, it turns out that there are multiple fires called \"BORDER#2\"."
   ]
  },
  {
   "cell_type": "code",
   "execution_count": 28,
   "metadata": {},
   "outputs": [
    {
     "data": {
      "text/html": [
       "<div>\n",
       "<style scoped>\n",
       "    .dataframe tbody tr th:only-of-type {\n",
       "        vertical-align: middle;\n",
       "    }\n",
       "\n",
       "    .dataframe tbody tr th {\n",
       "        vertical-align: top;\n",
       "    }\n",
       "\n",
       "    .dataframe thead th {\n",
       "        text-align: right;\n",
       "    }\n",
       "</style>\n",
       "<table border=\"1\" class=\"dataframe\">\n",
       "  <thead>\n",
       "    <tr style=\"text-align: right;\">\n",
       "      <th></th>\n",
       "      <th>year</th>\n",
       "      <th>month</th>\n",
       "      <th>name</th>\n",
       "      <th>cause</th>\n",
       "      <th>acres</th>\n",
       "      <th>county</th>\n",
       "      <th>longitude</th>\n",
       "      <th>latitude</th>\n",
       "    </tr>\n",
       "  </thead>\n",
       "  <tbody>\n",
       "    <tr>\n",
       "      <th>7802</th>\n",
       "      <td>2002</td>\n",
       "      <td>2</td>\n",
       "      <td>BORDER#2</td>\n",
       "      <td>4 - Campfire</td>\n",
       "      <td>270.632538</td>\n",
       "      <td>San Diego</td>\n",
       "      <td>-116.692025</td>\n",
       "      <td>32.644564</td>\n",
       "    </tr>\n",
       "    <tr>\n",
       "      <th>8093</th>\n",
       "      <td>2003</td>\n",
       "      <td>8</td>\n",
       "      <td>BORDER#2</td>\n",
       "      <td>4 - Campfire</td>\n",
       "      <td>112.706635</td>\n",
       "      <td>San Diego</td>\n",
       "      <td>-116.915079</td>\n",
       "      <td>32.602055</td>\n",
       "    </tr>\n",
       "  </tbody>\n",
       "</table>\n",
       "</div>"
      ],
      "text/plain": [
       "      year  month      name         cause       acres     county   longitude  \\\n",
       "7802  2002      2  BORDER#2  4 - Campfire  270.632538  San Diego -116.692025   \n",
       "8093  2003      8  BORDER#2  4 - Campfire  112.706635  San Diego -116.915079   \n",
       "\n",
       "       latitude  \n",
       "7802  32.644564  \n",
       "8093  32.602055  "
      ]
     },
     "execution_count": 28,
     "metadata": {},
     "output_type": "execute_result"
    }
   ],
   "source": [
    "calfire[calfire.get('name') == 'BORDER#2']"
   ]
  },
  {
   "cell_type": "markdown",
   "metadata": {},
   "source": [
    "But how do we retrieve all fires with \"BORDER\" somewhere in their names? It turns out that *babypandas* includes a helpful Series method called `.str.contains` which can help us do exactly this. It accepts one argument -- a string -- and searches for it within each entry of the Series, returning a Boolean array. For instance, to find the fires with \"BORDER\" in their name, we write:"
   ]
  },
  {
   "cell_type": "code",
   "execution_count": 29,
   "metadata": {},
   "outputs": [
    {
     "data": {
      "text/html": [
       "<div>\n",
       "<style scoped>\n",
       "    .dataframe tbody tr th:only-of-type {\n",
       "        vertical-align: middle;\n",
       "    }\n",
       "\n",
       "    .dataframe tbody tr th {\n",
       "        vertical-align: top;\n",
       "    }\n",
       "\n",
       "    .dataframe thead th {\n",
       "        text-align: right;\n",
       "    }\n",
       "</style>\n",
       "<table border=\"1\" class=\"dataframe\">\n",
       "  <thead>\n",
       "    <tr style=\"text-align: right;\">\n",
       "      <th></th>\n",
       "      <th>year</th>\n",
       "      <th>month</th>\n",
       "      <th>name</th>\n",
       "      <th>cause</th>\n",
       "      <th>acres</th>\n",
       "      <th>county</th>\n",
       "      <th>longitude</th>\n",
       "      <th>latitude</th>\n",
       "    </tr>\n",
       "  </thead>\n",
       "  <tbody>\n",
       "    <tr>\n",
       "      <th>606</th>\n",
       "      <td>1934</td>\n",
       "      <td>6</td>\n",
       "      <td>BORDER MT.</td>\n",
       "      <td>1 - Lightning</td>\n",
       "      <td>9.332158</td>\n",
       "      <td>Siskiyou</td>\n",
       "      <td>-121.467036</td>\n",
       "      <td>41.489674</td>\n",
       "    </tr>\n",
       "    <tr>\n",
       "      <th>824</th>\n",
       "      <td>1939</td>\n",
       "      <td>9</td>\n",
       "      <td>BORDER MT.</td>\n",
       "      <td>9 - Miscellaneous</td>\n",
       "      <td>48.154457</td>\n",
       "      <td>Siskiyou</td>\n",
       "      <td>-121.466297</td>\n",
       "      <td>41.487778</td>\n",
       "    </tr>\n",
       "    <tr>\n",
       "      <th>7187</th>\n",
       "      <td>1999</td>\n",
       "      <td>7</td>\n",
       "      <td>BORDER #70</td>\n",
       "      <td>4 - Campfire</td>\n",
       "      <td>118.480690</td>\n",
       "      <td>San Diego</td>\n",
       "      <td>-116.808309</td>\n",
       "      <td>32.567800</td>\n",
       "    </tr>\n",
       "    <tr>\n",
       "      <th>7418</th>\n",
       "      <td>2000</td>\n",
       "      <td>7</td>\n",
       "      <td>BORDER #6</td>\n",
       "      <td>14 - Unknown</td>\n",
       "      <td>74.557014</td>\n",
       "      <td>San Diego</td>\n",
       "      <td>-116.335658</td>\n",
       "      <td>32.657144</td>\n",
       "    </tr>\n",
       "    <tr>\n",
       "      <th>7802</th>\n",
       "      <td>2002</td>\n",
       "      <td>2</td>\n",
       "      <td>BORDER#2</td>\n",
       "      <td>4 - Campfire</td>\n",
       "      <td>270.632538</td>\n",
       "      <td>San Diego</td>\n",
       "      <td>-116.692025</td>\n",
       "      <td>32.644564</td>\n",
       "    </tr>\n",
       "    <tr>\n",
       "      <th>...</th>\n",
       "      <td>...</td>\n",
       "      <td>...</td>\n",
       "      <td>...</td>\n",
       "      <td>...</td>\n",
       "      <td>...</td>\n",
       "      <td>...</td>\n",
       "      <td>...</td>\n",
       "      <td>...</td>\n",
       "    </tr>\n",
       "    <tr>\n",
       "      <th>12092</th>\n",
       "      <td>2016</td>\n",
       "      <td>6</td>\n",
       "      <td>BORDER 3</td>\n",
       "      <td>14 - Unknown</td>\n",
       "      <td>7606.026367</td>\n",
       "      <td>San Diego</td>\n",
       "      <td>-116.557240</td>\n",
       "      <td>32.604410</td>\n",
       "    </tr>\n",
       "    <tr>\n",
       "      <th>12710</th>\n",
       "      <td>2017</td>\n",
       "      <td>9</td>\n",
       "      <td>BORDER 9</td>\n",
       "      <td>14 - Unknown</td>\n",
       "      <td>22.502857</td>\n",
       "      <td>San Diego</td>\n",
       "      <td>-116.668979</td>\n",
       "      <td>32.574468</td>\n",
       "    </tr>\n",
       "    <tr>\n",
       "      <th>12759</th>\n",
       "      <td>2017</td>\n",
       "      <td>9</td>\n",
       "      <td>BORDER 6</td>\n",
       "      <td>14 - Unknown</td>\n",
       "      <td>135.044418</td>\n",
       "      <td>San Diego</td>\n",
       "      <td>-116.750203</td>\n",
       "      <td>32.585912</td>\n",
       "    </tr>\n",
       "    <tr>\n",
       "      <th>13317</th>\n",
       "      <td>2019</td>\n",
       "      <td>8</td>\n",
       "      <td>BORDER 10</td>\n",
       "      <td>14 - Unknown</td>\n",
       "      <td>11.862469</td>\n",
       "      <td>San Diego</td>\n",
       "      <td>-116.866295</td>\n",
       "      <td>32.557500</td>\n",
       "    </tr>\n",
       "    <tr>\n",
       "      <th>13318</th>\n",
       "      <td>2019</td>\n",
       "      <td>8</td>\n",
       "      <td>BORDER 9</td>\n",
       "      <td>7 - Arson</td>\n",
       "      <td>67.372292</td>\n",
       "      <td>San Diego</td>\n",
       "      <td>-116.741779</td>\n",
       "      <td>32.569219</td>\n",
       "    </tr>\n",
       "  </tbody>\n",
       "</table>\n",
       "<p>45 rows × 8 columns</p>\n",
       "</div>"
      ],
      "text/plain": [
       "       year  month        name              cause        acres     county  \\\n",
       "606    1934      6  BORDER MT.      1 - Lightning     9.332158   Siskiyou   \n",
       "824    1939      9  BORDER MT.  9 - Miscellaneous    48.154457   Siskiyou   \n",
       "7187   1999      7  BORDER #70       4 - Campfire   118.480690  San Diego   \n",
       "7418   2000      7   BORDER #6       14 - Unknown    74.557014  San Diego   \n",
       "7802   2002      2    BORDER#2       4 - Campfire   270.632538  San Diego   \n",
       "...     ...    ...         ...                ...          ...        ...   \n",
       "12092  2016      6    BORDER 3       14 - Unknown  7606.026367  San Diego   \n",
       "12710  2017      9    BORDER 9       14 - Unknown    22.502857  San Diego   \n",
       "12759  2017      9    BORDER 6       14 - Unknown   135.044418  San Diego   \n",
       "13317  2019      8   BORDER 10       14 - Unknown    11.862469  San Diego   \n",
       "13318  2019      8    BORDER 9          7 - Arson    67.372292  San Diego   \n",
       "\n",
       "        longitude   latitude  \n",
       "606   -121.467036  41.489674  \n",
       "824   -121.466297  41.487778  \n",
       "7187  -116.808309  32.567800  \n",
       "7418  -116.335658  32.657144  \n",
       "7802  -116.692025  32.644564  \n",
       "...           ...        ...  \n",
       "12092 -116.557240  32.604410  \n",
       "12710 -116.668979  32.574468  \n",
       "12759 -116.750203  32.585912  \n",
       "13317 -116.866295  32.557500  \n",
       "13318 -116.741779  32.569219  \n",
       "\n",
       "[45 rows x 8 columns]"
      ]
     },
     "execution_count": 29,
     "metadata": {},
     "output_type": "execute_result"
    }
   ],
   "source": [
    "calfire[calfire.get('name').str.contains('BORDER')]"
   ]
  },
  {
   "cell_type": "markdown",
   "metadata": {},
   "source": [
    "### A Trick to Avoid Spurious Matches"
   ]
  },
  {
   "cell_type": "markdown",
   "metadata": {},
   "source": [
    "Many fires are named after roads. Let's count how many:"
   ]
  },
  {
   "cell_type": "code",
   "execution_count": 30,
   "metadata": {},
   "outputs": [
    {
     "data": {
      "text/html": [
       "<div>\n",
       "<style scoped>\n",
       "    .dataframe tbody tr th:only-of-type {\n",
       "        vertical-align: middle;\n",
       "    }\n",
       "\n",
       "    .dataframe tbody tr th {\n",
       "        vertical-align: top;\n",
       "    }\n",
       "\n",
       "    .dataframe thead th {\n",
       "        text-align: right;\n",
       "    }\n",
       "</style>\n",
       "<table border=\"1\" class=\"dataframe\">\n",
       "  <thead>\n",
       "    <tr style=\"text-align: right;\">\n",
       "      <th></th>\n",
       "      <th>year</th>\n",
       "      <th>month</th>\n",
       "      <th>name</th>\n",
       "      <th>cause</th>\n",
       "      <th>acres</th>\n",
       "      <th>county</th>\n",
       "      <th>longitude</th>\n",
       "      <th>latitude</th>\n",
       "    </tr>\n",
       "  </thead>\n",
       "  <tbody>\n",
       "    <tr>\n",
       "      <th>467</th>\n",
       "      <td>1930</td>\n",
       "      <td>7</td>\n",
       "      <td>ROAD #1</td>\n",
       "      <td>5 - Debris</td>\n",
       "      <td>6.970353</td>\n",
       "      <td>Trinity</td>\n",
       "      <td>-123.528351</td>\n",
       "      <td>40.239767</td>\n",
       "    </tr>\n",
       "    <tr>\n",
       "      <th>497</th>\n",
       "      <td>1931</td>\n",
       "      <td>10</td>\n",
       "      <td>NIELSON ROAD</td>\n",
       "      <td>4 - Campfire</td>\n",
       "      <td>2.489452</td>\n",
       "      <td>Trinity</td>\n",
       "      <td>-123.364262</td>\n",
       "      <td>40.019498</td>\n",
       "    </tr>\n",
       "    <tr>\n",
       "      <th>791</th>\n",
       "      <td>1939</td>\n",
       "      <td>8</td>\n",
       "      <td>CUTOFF ROAD</td>\n",
       "      <td>7 - Arson</td>\n",
       "      <td>1057.719482</td>\n",
       "      <td>Siskiyou</td>\n",
       "      <td>-122.865814</td>\n",
       "      <td>41.825530</td>\n",
       "    </tr>\n",
       "    <tr>\n",
       "      <th>1106</th>\n",
       "      <td>1946</td>\n",
       "      <td>9</td>\n",
       "      <td>RAILROAD #13</td>\n",
       "      <td>14 - Unknown</td>\n",
       "      <td>240.841370</td>\n",
       "      <td>Mendocino</td>\n",
       "      <td>-123.319311</td>\n",
       "      <td>39.373807</td>\n",
       "    </tr>\n",
       "    <tr>\n",
       "      <th>1303</th>\n",
       "      <td>1950</td>\n",
       "      <td>7</td>\n",
       "      <td>SCULLY ROAD</td>\n",
       "      <td>14 - Unknown</td>\n",
       "      <td>416.051544</td>\n",
       "      <td>Amador</td>\n",
       "      <td>-120.925246</td>\n",
       "      <td>38.300486</td>\n",
       "    </tr>\n",
       "    <tr>\n",
       "      <th>...</th>\n",
       "      <td>...</td>\n",
       "      <td>...</td>\n",
       "      <td>...</td>\n",
       "      <td>...</td>\n",
       "      <td>...</td>\n",
       "      <td>...</td>\n",
       "      <td>...</td>\n",
       "      <td>...</td>\n",
       "    </tr>\n",
       "    <tr>\n",
       "      <th>12237</th>\n",
       "      <td>2017</td>\n",
       "      <td>8</td>\n",
       "      <td>RAILROAD</td>\n",
       "      <td>9 - Miscellaneous</td>\n",
       "      <td>12371.148438</td>\n",
       "      <td>Madera</td>\n",
       "      <td>-119.612630</td>\n",
       "      <td>37.447218</td>\n",
       "    </tr>\n",
       "    <tr>\n",
       "      <th>12516</th>\n",
       "      <td>2017</td>\n",
       "      <td>9</td>\n",
       "      <td>RAILROAD</td>\n",
       "      <td>14 - Unknown</td>\n",
       "      <td>2.216443</td>\n",
       "      <td>Siskiyou</td>\n",
       "      <td>-122.520362</td>\n",
       "      <td>41.526095</td>\n",
       "    </tr>\n",
       "    <tr>\n",
       "      <th>12567</th>\n",
       "      <td>2017</td>\n",
       "      <td>7</td>\n",
       "      <td>ROADRUNNER</td>\n",
       "      <td>7 - Arson</td>\n",
       "      <td>2284.595947</td>\n",
       "      <td>Tulare</td>\n",
       "      <td>-118.933014</td>\n",
       "      <td>36.015821</td>\n",
       "    </tr>\n",
       "    <tr>\n",
       "      <th>13147</th>\n",
       "      <td>2018</td>\n",
       "      <td>11</td>\n",
       "      <td>ROADRUNNER</td>\n",
       "      <td>14 - Unknown</td>\n",
       "      <td>0.613522</td>\n",
       "      <td>Ventura</td>\n",
       "      <td>-118.921408</td>\n",
       "      <td>34.206380</td>\n",
       "    </tr>\n",
       "    <tr>\n",
       "      <th>13218</th>\n",
       "      <td>2019</td>\n",
       "      <td>8</td>\n",
       "      <td>R4 RAILROAD</td>\n",
       "      <td>1 - Lightning</td>\n",
       "      <td>24.105974</td>\n",
       "      <td>Lassen</td>\n",
       "      <td>-120.375015</td>\n",
       "      <td>40.629286</td>\n",
       "    </tr>\n",
       "  </tbody>\n",
       "</table>\n",
       "<p>132 rows × 8 columns</p>\n",
       "</div>"
      ],
      "text/plain": [
       "       year  month          name              cause         acres     county  \\\n",
       "467    1930      7       ROAD #1         5 - Debris      6.970353    Trinity   \n",
       "497    1931     10  NIELSON ROAD       4 - Campfire      2.489452    Trinity   \n",
       "791    1939      8   CUTOFF ROAD          7 - Arson   1057.719482   Siskiyou   \n",
       "1106   1946      9  RAILROAD #13       14 - Unknown    240.841370  Mendocino   \n",
       "1303   1950      7   SCULLY ROAD       14 - Unknown    416.051544     Amador   \n",
       "...     ...    ...           ...                ...           ...        ...   \n",
       "12237  2017      8      RAILROAD  9 - Miscellaneous  12371.148438     Madera   \n",
       "12516  2017      9      RAILROAD       14 - Unknown      2.216443   Siskiyou   \n",
       "12567  2017      7    ROADRUNNER          7 - Arson   2284.595947     Tulare   \n",
       "13147  2018     11    ROADRUNNER       14 - Unknown      0.613522    Ventura   \n",
       "13218  2019      8   R4 RAILROAD      1 - Lightning     24.105974     Lassen   \n",
       "\n",
       "        longitude   latitude  \n",
       "467   -123.528351  40.239767  \n",
       "497   -123.364262  40.019498  \n",
       "791   -122.865814  41.825530  \n",
       "1106  -123.319311  39.373807  \n",
       "1303  -120.925246  38.300486  \n",
       "...           ...        ...  \n",
       "12237 -119.612630  37.447218  \n",
       "12516 -122.520362  41.526095  \n",
       "12567 -118.933014  36.015821  \n",
       "13147 -118.921408  34.206380  \n",
       "13218 -120.375015  40.629286  \n",
       "\n",
       "[132 rows x 8 columns]"
      ]
     },
     "execution_count": 30,
     "metadata": {},
     "output_type": "execute_result"
    }
   ],
   "source": [
    "calfire[calfire.get('name').str.contains('ROAD')]"
   ]
  },
  {
   "cell_type": "markdown",
   "metadata": {},
   "source": [
    "We see several \"good\" matches, like \"NIELSON ROAD\" and \"CUTOFF ROAD\", but several \"spurious\" matches, like \"ROADRUNNER\", and \"RAILROAD\". How can we exclude these fires?\n",
    "\n",
    "Here's a trick: instead of searching for strings containing `'ROAD'`, we'll search for strings containing `' ROAD'`,\n",
    "where we have added a space to the beginning of the search string. This will match strings like \"CUTOFF ROAD\", but not \"RAILROAD\"."
   ]
  },
  {
   "cell_type": "code",
   "execution_count": 31,
   "metadata": {},
   "outputs": [
    {
     "data": {
      "text/html": [
       "<div>\n",
       "<style scoped>\n",
       "    .dataframe tbody tr th:only-of-type {\n",
       "        vertical-align: middle;\n",
       "    }\n",
       "\n",
       "    .dataframe tbody tr th {\n",
       "        vertical-align: top;\n",
       "    }\n",
       "\n",
       "    .dataframe thead th {\n",
       "        text-align: right;\n",
       "    }\n",
       "</style>\n",
       "<table border=\"1\" class=\"dataframe\">\n",
       "  <thead>\n",
       "    <tr style=\"text-align: right;\">\n",
       "      <th></th>\n",
       "      <th>year</th>\n",
       "      <th>month</th>\n",
       "      <th>name</th>\n",
       "      <th>cause</th>\n",
       "      <th>acres</th>\n",
       "      <th>county</th>\n",
       "      <th>longitude</th>\n",
       "      <th>latitude</th>\n",
       "    </tr>\n",
       "  </thead>\n",
       "  <tbody>\n",
       "    <tr>\n",
       "      <th>497</th>\n",
       "      <td>1931</td>\n",
       "      <td>10</td>\n",
       "      <td>NIELSON ROAD</td>\n",
       "      <td>4 - Campfire</td>\n",
       "      <td>2.489452</td>\n",
       "      <td>Trinity</td>\n",
       "      <td>-123.364262</td>\n",
       "      <td>40.019498</td>\n",
       "    </tr>\n",
       "    <tr>\n",
       "      <th>791</th>\n",
       "      <td>1939</td>\n",
       "      <td>8</td>\n",
       "      <td>CUTOFF ROAD</td>\n",
       "      <td>7 - Arson</td>\n",
       "      <td>1057.719482</td>\n",
       "      <td>Siskiyou</td>\n",
       "      <td>-122.865814</td>\n",
       "      <td>41.825530</td>\n",
       "    </tr>\n",
       "    <tr>\n",
       "      <th>1303</th>\n",
       "      <td>1950</td>\n",
       "      <td>7</td>\n",
       "      <td>SCULLY ROAD</td>\n",
       "      <td>14 - Unknown</td>\n",
       "      <td>416.051544</td>\n",
       "      <td>Amador</td>\n",
       "      <td>-120.925246</td>\n",
       "      <td>38.300486</td>\n",
       "    </tr>\n",
       "    <tr>\n",
       "      <th>1441</th>\n",
       "      <td>1951</td>\n",
       "      <td>8</td>\n",
       "      <td>SMITH ROAD</td>\n",
       "      <td>3 - Smoking</td>\n",
       "      <td>629.024658</td>\n",
       "      <td>Calaveras</td>\n",
       "      <td>-120.314476</td>\n",
       "      <td>38.354487</td>\n",
       "    </tr>\n",
       "    <tr>\n",
       "      <th>1760</th>\n",
       "      <td>1953</td>\n",
       "      <td>5</td>\n",
       "      <td>RICE ROAD</td>\n",
       "      <td>14 - Unknown</td>\n",
       "      <td>638.207275</td>\n",
       "      <td>Ventura</td>\n",
       "      <td>-119.296153</td>\n",
       "      <td>34.441824</td>\n",
       "    </tr>\n",
       "    <tr>\n",
       "      <th>...</th>\n",
       "      <td>...</td>\n",
       "      <td>...</td>\n",
       "      <td>...</td>\n",
       "      <td>...</td>\n",
       "      <td>...</td>\n",
       "      <td>...</td>\n",
       "      <td>...</td>\n",
       "      <td>...</td>\n",
       "    </tr>\n",
       "    <tr>\n",
       "      <th>5176</th>\n",
       "      <td>1985</td>\n",
       "      <td>7</td>\n",
       "      <td>GAS POINT ROAD</td>\n",
       "      <td>14 - Unknown</td>\n",
       "      <td>93.247581</td>\n",
       "      <td>Shasta</td>\n",
       "      <td>-122.477858</td>\n",
       "      <td>40.391840</td>\n",
       "    </tr>\n",
       "    <tr>\n",
       "      <th>5177</th>\n",
       "      <td>1985</td>\n",
       "      <td>7</td>\n",
       "      <td>GAS POINT ROAD</td>\n",
       "      <td>14 - Unknown</td>\n",
       "      <td>78.217186</td>\n",
       "      <td>Shasta</td>\n",
       "      <td>-122.439950</td>\n",
       "      <td>40.392093</td>\n",
       "    </tr>\n",
       "    <tr>\n",
       "      <th>5178</th>\n",
       "      <td>1985</td>\n",
       "      <td>7</td>\n",
       "      <td>GAS POINT ROAD</td>\n",
       "      <td>14 - Unknown</td>\n",
       "      <td>106.863319</td>\n",
       "      <td>Shasta</td>\n",
       "      <td>-122.430627</td>\n",
       "      <td>40.394094</td>\n",
       "    </tr>\n",
       "    <tr>\n",
       "      <th>6579</th>\n",
       "      <td>1996</td>\n",
       "      <td>7</td>\n",
       "      <td>MINES ROAD</td>\n",
       "      <td>2 - Equipment Use</td>\n",
       "      <td>174.051270</td>\n",
       "      <td>Santa Clara</td>\n",
       "      <td>-121.523671</td>\n",
       "      <td>37.475377</td>\n",
       "    </tr>\n",
       "    <tr>\n",
       "      <th>8870</th>\n",
       "      <td>2006</td>\n",
       "      <td>7</td>\n",
       "      <td>JOHNSON ROAD FIRE</td>\n",
       "      <td>14 - Unknown</td>\n",
       "      <td>110.659088</td>\n",
       "      <td>Los Angeles</td>\n",
       "      <td>-118.334695</td>\n",
       "      <td>34.661443</td>\n",
       "    </tr>\n",
       "  </tbody>\n",
       "</table>\n",
       "<p>48 rows × 8 columns</p>\n",
       "</div>"
      ],
      "text/plain": [
       "      year  month               name              cause        acres  \\\n",
       "497   1931     10       NIELSON ROAD       4 - Campfire     2.489452   \n",
       "791   1939      8        CUTOFF ROAD          7 - Arson  1057.719482   \n",
       "1303  1950      7        SCULLY ROAD       14 - Unknown   416.051544   \n",
       "1441  1951      8         SMITH ROAD        3 - Smoking   629.024658   \n",
       "1760  1953      5          RICE ROAD       14 - Unknown   638.207275   \n",
       "...    ...    ...                ...                ...          ...   \n",
       "5176  1985      7     GAS POINT ROAD       14 - Unknown    93.247581   \n",
       "5177  1985      7     GAS POINT ROAD       14 - Unknown    78.217186   \n",
       "5178  1985      7     GAS POINT ROAD       14 - Unknown   106.863319   \n",
       "6579  1996      7         MINES ROAD  2 - Equipment Use   174.051270   \n",
       "8870  2006      7  JOHNSON ROAD FIRE       14 - Unknown   110.659088   \n",
       "\n",
       "           county   longitude   latitude  \n",
       "497       Trinity -123.364262  40.019498  \n",
       "791      Siskiyou -122.865814  41.825530  \n",
       "1303       Amador -120.925246  38.300486  \n",
       "1441    Calaveras -120.314476  38.354487  \n",
       "1760      Ventura -119.296153  34.441824  \n",
       "...           ...         ...        ...  \n",
       "5176       Shasta -122.477858  40.391840  \n",
       "5177       Shasta -122.439950  40.392093  \n",
       "5178       Shasta -122.430627  40.394094  \n",
       "6579  Santa Clara -121.523671  37.475377  \n",
       "8870  Los Angeles -118.334695  34.661443  \n",
       "\n",
       "[48 rows x 8 columns]"
      ]
     },
     "execution_count": 31,
     "metadata": {},
     "output_type": "execute_result"
    }
   ],
   "source": [
    "calfire[calfire.get('name').str.contains(' ROAD')]"
   ]
  },
  {
   "cell_type": "markdown",
   "metadata": {},
   "source": [
    "Strings have other useful string methods, as well. In this case, all of the fire names are capitalized, but it is common to find that datasets are inconsistent in their capitalization. For instance:"
   ]
  },
  {
   "cell_type": "code",
   "execution_count": 32,
   "metadata": {},
   "outputs": [],
   "source": [
    "cities = bpd.DataFrame().assign(names=[\n",
    "    'San Diego', 'los angeles', 'san luis obispo', 'Oakland', 'Stockton'\n",
    "])"
   ]
  },
  {
   "cell_type": "markdown",
   "metadata": {},
   "source": [
    "Note that some of the strings are not capitalized, while others are. If we want to retrieve all strings that contain `San`, we'll have to write two queries: one for `San` and another for `san`. But there's an easier way."
   ]
  },
  {
   "cell_type": "markdown",
   "metadata": {},
   "source": [
    "A common practice is to make sure all of your text data for a given column is in the same capitalization before selecting on substrings. We can chain together the `.str.lower` method with the `.str.contains` method to quickly achieve this:"
   ]
  },
  {
   "cell_type": "code",
   "execution_count": 33,
   "metadata": {},
   "outputs": [
    {
     "data": {
      "text/plain": [
       "0          san diego\n",
       "1        los angeles\n",
       "2    san luis obispo\n",
       "3            oakland\n",
       "4           stockton\n",
       "Name: names, dtype: object"
      ]
     },
     "execution_count": 33,
     "metadata": {},
     "output_type": "execute_result"
    }
   ],
   "source": [
    "cities.get('names').str.lower()"
   ]
  },
  {
   "cell_type": "code",
   "execution_count": 34,
   "metadata": {},
   "outputs": [
    {
     "data": {
      "text/html": [
       "<div>\n",
       "<style scoped>\n",
       "    .dataframe tbody tr th:only-of-type {\n",
       "        vertical-align: middle;\n",
       "    }\n",
       "\n",
       "    .dataframe tbody tr th {\n",
       "        vertical-align: top;\n",
       "    }\n",
       "\n",
       "    .dataframe thead th {\n",
       "        text-align: right;\n",
       "    }\n",
       "</style>\n",
       "<table border=\"1\" class=\"dataframe\">\n",
       "  <thead>\n",
       "    <tr style=\"text-align: right;\">\n",
       "      <th></th>\n",
       "      <th>names</th>\n",
       "    </tr>\n",
       "  </thead>\n",
       "  <tbody>\n",
       "    <tr>\n",
       "      <th>0</th>\n",
       "      <td>San Diego</td>\n",
       "    </tr>\n",
       "    <tr>\n",
       "      <th>2</th>\n",
       "      <td>san luis obispo</td>\n",
       "    </tr>\n",
       "  </tbody>\n",
       "</table>\n",
       "</div>"
      ],
      "text/plain": [
       "             names\n",
       "0        San Diego\n",
       "2  san luis obispo"
      ]
     },
     "execution_count": 34,
     "metadata": {},
     "output_type": "execute_result"
    }
   ],
   "source": [
    "cities[cities.get('names').str.lower().str.contains('san')]"
   ]
  },
  {
   "cell_type": "markdown",
   "metadata": {},
   "source": [
    "It's worth noting that if you try using the `.str` methods on a Series that doesn't contain text, you'll encounter a helpful error (once you scroll to the bottom)."
   ]
  },
  {
   "cell_type": "code",
   "execution_count": 35,
   "metadata": {
    "tags": [
     "raises-exception"
    ]
   },
   "outputs": [
    {
     "ename": "AttributeError",
     "evalue": "Can only use .str accessor with string values!",
     "output_type": "error",
     "traceback": [
      "\u001b[0;31m---------------------------------------------------------------------------\u001b[0m",
      "\u001b[0;31mAttributeError\u001b[0m                            Traceback (most recent call last)",
      "\u001b[0;32m<ipython-input-35-25277a5a166e>\u001b[0m in \u001b[0;36m<module>\u001b[0;34m\u001b[0m\n\u001b[0;32m----> 1\u001b[0;31m \u001b[0mcalfire\u001b[0m\u001b[0;34m.\u001b[0m\u001b[0mget\u001b[0m\u001b[0;34m(\u001b[0m\u001b[0;34m'year'\u001b[0m\u001b[0;34m)\u001b[0m\u001b[0;34m.\u001b[0m\u001b[0mstr\u001b[0m\u001b[0;34m.\u001b[0m\u001b[0mcontains\u001b[0m\u001b[0;34m(\u001b[0m\u001b[0;34m'2019'\u001b[0m\u001b[0;34m)\u001b[0m\u001b[0;34m\u001b[0m\u001b[0;34m\u001b[0m\u001b[0m\n\u001b[0m",
      "\u001b[0;32m~/env/lib/python3.7/site-packages/babypandas/bpd.py\u001b[0m in \u001b[0;36mstr\u001b[0;34m(self)\u001b[0m\n\u001b[1;32m    848\u001b[0m         \u001b[0;31m# AttributeError if the series does not consist of string values. We\u001b[0m\u001b[0;34m\u001b[0m\u001b[0;34m\u001b[0m\u001b[0;34m\u001b[0m\u001b[0m\n\u001b[1;32m    849\u001b[0m         \u001b[0;31m# use a property here to replicate this behavior.\u001b[0m\u001b[0;34m\u001b[0m\u001b[0;34m\u001b[0m\u001b[0;34m\u001b[0m\u001b[0m\n\u001b[0;32m--> 850\u001b[0;31m         \u001b[0;32mreturn\u001b[0m \u001b[0mSeriesStringMethods\u001b[0m\u001b[0;34m(\u001b[0m\u001b[0mself\u001b[0m\u001b[0;34m.\u001b[0m\u001b[0m_pd\u001b[0m\u001b[0;34m.\u001b[0m\u001b[0mstr\u001b[0m\u001b[0;34m)\u001b[0m\u001b[0;34m\u001b[0m\u001b[0;34m\u001b[0m\u001b[0m\n\u001b[0m\u001b[1;32m    851\u001b[0m \u001b[0;34m\u001b[0m\u001b[0m\n\u001b[1;32m    852\u001b[0m     \u001b[0;31m# Formatting\u001b[0m\u001b[0;34m\u001b[0m\u001b[0;34m\u001b[0m\u001b[0;34m\u001b[0m\u001b[0m\n",
      "\u001b[0;32m~/env/lib/python3.7/site-packages/pandas/core/generic.py\u001b[0m in \u001b[0;36m__getattr__\u001b[0;34m(self, name)\u001b[0m\n\u001b[1;32m   5133\u001b[0m             \u001b[0;32mor\u001b[0m \u001b[0mname\u001b[0m \u001b[0;32min\u001b[0m \u001b[0mself\u001b[0m\u001b[0;34m.\u001b[0m\u001b[0m_accessors\u001b[0m\u001b[0;34m\u001b[0m\u001b[0;34m\u001b[0m\u001b[0m\n\u001b[1;32m   5134\u001b[0m         ):\n\u001b[0;32m-> 5135\u001b[0;31m             \u001b[0;32mreturn\u001b[0m \u001b[0mobject\u001b[0m\u001b[0;34m.\u001b[0m\u001b[0m__getattribute__\u001b[0m\u001b[0;34m(\u001b[0m\u001b[0mself\u001b[0m\u001b[0;34m,\u001b[0m \u001b[0mname\u001b[0m\u001b[0;34m)\u001b[0m\u001b[0;34m\u001b[0m\u001b[0;34m\u001b[0m\u001b[0m\n\u001b[0m\u001b[1;32m   5136\u001b[0m         \u001b[0;32melse\u001b[0m\u001b[0;34m:\u001b[0m\u001b[0;34m\u001b[0m\u001b[0;34m\u001b[0m\u001b[0m\n\u001b[1;32m   5137\u001b[0m             \u001b[0;32mif\u001b[0m \u001b[0mself\u001b[0m\u001b[0;34m.\u001b[0m\u001b[0m_info_axis\u001b[0m\u001b[0;34m.\u001b[0m\u001b[0m_can_hold_identifiers_and_holds_name\u001b[0m\u001b[0;34m(\u001b[0m\u001b[0mname\u001b[0m\u001b[0;34m)\u001b[0m\u001b[0;34m:\u001b[0m\u001b[0;34m\u001b[0m\u001b[0;34m\u001b[0m\u001b[0m\n",
      "\u001b[0;32m~/env/lib/python3.7/site-packages/pandas/core/accessor.py\u001b[0m in \u001b[0;36m__get__\u001b[0;34m(self, obj, cls)\u001b[0m\n\u001b[1;32m    185\u001b[0m             \u001b[0;31m# we're accessing the attribute of the class, i.e., Dataset.geo\u001b[0m\u001b[0;34m\u001b[0m\u001b[0;34m\u001b[0m\u001b[0;34m\u001b[0m\u001b[0m\n\u001b[1;32m    186\u001b[0m             \u001b[0;32mreturn\u001b[0m \u001b[0mself\u001b[0m\u001b[0;34m.\u001b[0m\u001b[0m_accessor\u001b[0m\u001b[0;34m\u001b[0m\u001b[0;34m\u001b[0m\u001b[0m\n\u001b[0;32m--> 187\u001b[0;31m         \u001b[0maccessor_obj\u001b[0m \u001b[0;34m=\u001b[0m \u001b[0mself\u001b[0m\u001b[0;34m.\u001b[0m\u001b[0m_accessor\u001b[0m\u001b[0;34m(\u001b[0m\u001b[0mobj\u001b[0m\u001b[0;34m)\u001b[0m\u001b[0;34m\u001b[0m\u001b[0;34m\u001b[0m\u001b[0m\n\u001b[0m\u001b[1;32m    188\u001b[0m         \u001b[0;31m# Replace the property with the accessor object. Inspired by:\u001b[0m\u001b[0;34m\u001b[0m\u001b[0;34m\u001b[0m\u001b[0;34m\u001b[0m\u001b[0m\n\u001b[1;32m    189\u001b[0m         \u001b[0;31m# https://www.pydanny.com/cached-property.html\u001b[0m\u001b[0;34m\u001b[0m\u001b[0;34m\u001b[0m\u001b[0;34m\u001b[0m\u001b[0m\n",
      "\u001b[0;32m~/env/lib/python3.7/site-packages/pandas/core/strings.py\u001b[0m in \u001b[0;36m__init__\u001b[0;34m(self, data)\u001b[0m\n\u001b[1;32m   2098\u001b[0m \u001b[0;34m\u001b[0m\u001b[0m\n\u001b[1;32m   2099\u001b[0m     \u001b[0;32mdef\u001b[0m \u001b[0m__init__\u001b[0m\u001b[0;34m(\u001b[0m\u001b[0mself\u001b[0m\u001b[0;34m,\u001b[0m \u001b[0mdata\u001b[0m\u001b[0;34m)\u001b[0m\u001b[0;34m:\u001b[0m\u001b[0;34m\u001b[0m\u001b[0;34m\u001b[0m\u001b[0m\n\u001b[0;32m-> 2100\u001b[0;31m         \u001b[0mself\u001b[0m\u001b[0;34m.\u001b[0m\u001b[0m_inferred_dtype\u001b[0m \u001b[0;34m=\u001b[0m \u001b[0mself\u001b[0m\u001b[0;34m.\u001b[0m\u001b[0m_validate\u001b[0m\u001b[0;34m(\u001b[0m\u001b[0mdata\u001b[0m\u001b[0;34m)\u001b[0m\u001b[0;34m\u001b[0m\u001b[0;34m\u001b[0m\u001b[0m\n\u001b[0m\u001b[1;32m   2101\u001b[0m         \u001b[0mself\u001b[0m\u001b[0;34m.\u001b[0m\u001b[0m_is_categorical\u001b[0m \u001b[0;34m=\u001b[0m \u001b[0mis_categorical_dtype\u001b[0m\u001b[0;34m(\u001b[0m\u001b[0mdata\u001b[0m\u001b[0;34m.\u001b[0m\u001b[0mdtype\u001b[0m\u001b[0;34m)\u001b[0m\u001b[0;34m\u001b[0m\u001b[0;34m\u001b[0m\u001b[0m\n\u001b[1;32m   2102\u001b[0m         \u001b[0mself\u001b[0m\u001b[0;34m.\u001b[0m\u001b[0m_is_string\u001b[0m \u001b[0;34m=\u001b[0m \u001b[0mdata\u001b[0m\u001b[0;34m.\u001b[0m\u001b[0mdtype\u001b[0m\u001b[0;34m.\u001b[0m\u001b[0mname\u001b[0m \u001b[0;34m==\u001b[0m \u001b[0;34m\"string\"\u001b[0m\u001b[0;34m\u001b[0m\u001b[0;34m\u001b[0m\u001b[0m\n",
      "\u001b[0;32m~/env/lib/python3.7/site-packages/pandas/core/strings.py\u001b[0m in \u001b[0;36m_validate\u001b[0;34m(data)\u001b[0m\n\u001b[1;32m   2155\u001b[0m \u001b[0;34m\u001b[0m\u001b[0m\n\u001b[1;32m   2156\u001b[0m         \u001b[0;32mif\u001b[0m \u001b[0minferred_dtype\u001b[0m \u001b[0;32mnot\u001b[0m \u001b[0;32min\u001b[0m \u001b[0mallowed_types\u001b[0m\u001b[0;34m:\u001b[0m\u001b[0;34m\u001b[0m\u001b[0;34m\u001b[0m\u001b[0m\n\u001b[0;32m-> 2157\u001b[0;31m             \u001b[0;32mraise\u001b[0m \u001b[0mAttributeError\u001b[0m\u001b[0;34m(\u001b[0m\u001b[0;34m\"Can only use .str accessor with string values!\"\u001b[0m\u001b[0;34m)\u001b[0m\u001b[0;34m\u001b[0m\u001b[0;34m\u001b[0m\u001b[0m\n\u001b[0m\u001b[1;32m   2158\u001b[0m         \u001b[0;32mreturn\u001b[0m \u001b[0minferred_dtype\u001b[0m\u001b[0;34m\u001b[0m\u001b[0;34m\u001b[0m\u001b[0m\n\u001b[1;32m   2159\u001b[0m \u001b[0;34m\u001b[0m\u001b[0m\n",
      "\u001b[0;31mAttributeError\u001b[0m: Can only use .str accessor with string values!"
     ]
    }
   ],
   "source": [
    "calfire.get('year').str.contains('2019')"
   ]
  },
  {
   "cell_type": "markdown",
   "metadata": {},
   "source": [
    "```{tip}\n",
    "Often times, when reading an error message it's most helpful to look at the two ends of the message -- and don't get too worried about the middle bits.\n",
    "\n",
    "The very top line points to *where* the error occurred, and the very bottom lines explain *why* the error occurred.\n",
    "```"
   ]
  },
  {
   "cell_type": "markdown",
   "metadata": {},
   "source": [
    "## More Examples"
   ]
  },
  {
   "cell_type": "markdown",
   "metadata": {},
   "source": [
    "### What percentage of fires occurred in September or October?\n",
    "\n",
    "We'll use `|` to find those fires whose `'month'` is either 9 or 10:"
   ]
  },
  {
   "cell_type": "code",
   "execution_count": 36,
   "metadata": {},
   "outputs": [
    {
     "data": {
      "text/plain": [
       "0.2335858585858586"
      ]
     },
     "execution_count": 36,
     "metadata": {},
     "output_type": "execute_result"
    }
   ],
   "source": [
    "sept_or_oct = calfire[(calfire.get('month') == 9) | (calfire.get('month') == 10)]\n",
    "sept_or_oct.shape[0] / calfire.shape[0]"
   ]
  },
  {
   "cell_type": "markdown",
   "metadata": {},
   "source": [
    "### How many fires occurred between San Francisco and LA in terms of latitude?"
   ]
  },
  {
   "cell_type": "markdown",
   "metadata": {},
   "source": [
    "The latitude of San Francisco is 37.7749, while the latitude of LA is 34.0522. Selecting all fires within this range can be done with `&`:"
   ]
  },
  {
   "cell_type": "code",
   "execution_count": 37,
   "metadata": {},
   "outputs": [
    {
     "data": {
      "text/plain": [
       "5519"
      ]
     },
     "execution_count": 37,
     "metadata": {},
     "output_type": "execute_result"
    }
   ],
   "source": [
    "calfire[\n",
    "    (calfire.get('latitude') <= 37.7749)\n",
    "    &\n",
    "    (calfire.get('latitude') >= 34.0522)\n",
    "].shape[0]"
   ]
  },
  {
   "cell_type": "markdown",
   "metadata": {},
   "source": [
    "### How many fires larger than 1000 acres did San Diego have in the 1990s?"
   ]
  },
  {
   "cell_type": "markdown",
   "metadata": {},
   "source": [
    "Now we're having fun! There are three conditions here: 1) Larger than 1000 acres, 2) in San Diego County, and 3) in the 1990s. The third condition, however, is actually two conditions: after 1990 and before 2000.\n",
    "\n",
    "With a complex query like this, it's probably best to make the three Boolean arrays separately and save them in intermediate variables, like this:"
   ]
  },
  {
   "cell_type": "code",
   "execution_count": 38,
   "metadata": {},
   "outputs": [],
   "source": [
    "is_gt_1000_acres = calfire.get('acres') > 1000\n",
    "is_in_sd = calfire.get('county') == 'San Diego'\n",
    "is_in_1990s = (calfire.get('year') >= 1990) & (calfire.get('year') < 2000)"
   ]
  },
  {
   "cell_type": "markdown",
   "metadata": {},
   "source": [
    "Now we can perform the query. All three of these conditions must be true simultaneously, so we use `&`:"
   ]
  },
  {
   "cell_type": "code",
   "execution_count": 39,
   "metadata": {},
   "outputs": [
    {
     "data": {
      "text/html": [
       "<div>\n",
       "<style scoped>\n",
       "    .dataframe tbody tr th:only-of-type {\n",
       "        vertical-align: middle;\n",
       "    }\n",
       "\n",
       "    .dataframe tbody tr th {\n",
       "        vertical-align: top;\n",
       "    }\n",
       "\n",
       "    .dataframe thead th {\n",
       "        text-align: right;\n",
       "    }\n",
       "</style>\n",
       "<table border=\"1\" class=\"dataframe\">\n",
       "  <thead>\n",
       "    <tr style=\"text-align: right;\">\n",
       "      <th></th>\n",
       "      <th>year</th>\n",
       "      <th>month</th>\n",
       "      <th>name</th>\n",
       "      <th>cause</th>\n",
       "      <th>acres</th>\n",
       "      <th>county</th>\n",
       "      <th>longitude</th>\n",
       "      <th>latitude</th>\n",
       "    </tr>\n",
       "  </thead>\n",
       "  <tbody>\n",
       "    <tr>\n",
       "      <th>5799</th>\n",
       "      <td>1990</td>\n",
       "      <td>6</td>\n",
       "      <td>MORRETTIS</td>\n",
       "      <td>7 - Arson</td>\n",
       "      <td>3314.026611</td>\n",
       "      <td>San Diego</td>\n",
       "      <td>-116.667315</td>\n",
       "      <td>33.196718</td>\n",
       "    </tr>\n",
       "    <tr>\n",
       "      <th>5805</th>\n",
       "      <td>1990</td>\n",
       "      <td>9</td>\n",
       "      <td>PAINT</td>\n",
       "      <td>9 - Miscellaneous</td>\n",
       "      <td>2760.890869</td>\n",
       "      <td>San Diego</td>\n",
       "      <td>-117.144556</td>\n",
       "      <td>33.058681</td>\n",
       "    </tr>\n",
       "    <tr>\n",
       "      <th>5811</th>\n",
       "      <td>1990</td>\n",
       "      <td>10</td>\n",
       "      <td>CASE</td>\n",
       "      <td>9 - Miscellaneous</td>\n",
       "      <td>2062.641357</td>\n",
       "      <td>San Diego</td>\n",
       "      <td>-117.441422</td>\n",
       "      <td>33.432863</td>\n",
       "    </tr>\n",
       "    <tr>\n",
       "      <th>5924</th>\n",
       "      <td>1991</td>\n",
       "      <td>6</td>\n",
       "      <td>BARRETT</td>\n",
       "      <td>2 - Equipment Use</td>\n",
       "      <td>1609.205811</td>\n",
       "      <td>San Diego</td>\n",
       "      <td>-116.670060</td>\n",
       "      <td>32.618218</td>\n",
       "    </tr>\n",
       "    <tr>\n",
       "      <th>5985</th>\n",
       "      <td>1992</td>\n",
       "      <td>11</td>\n",
       "      <td>BRAVO</td>\n",
       "      <td>14 - Unknown</td>\n",
       "      <td>2023.847290</td>\n",
       "      <td>San Diego</td>\n",
       "      <td>-117.543498</td>\n",
       "      <td>33.374327</td>\n",
       "    </tr>\n",
       "    <tr>\n",
       "      <th>...</th>\n",
       "      <td>...</td>\n",
       "      <td>...</td>\n",
       "      <td>...</td>\n",
       "      <td>...</td>\n",
       "      <td>...</td>\n",
       "      <td>...</td>\n",
       "      <td>...</td>\n",
       "      <td>...</td>\n",
       "    </tr>\n",
       "    <tr>\n",
       "      <th>6999</th>\n",
       "      <td>1998</td>\n",
       "      <td>7</td>\n",
       "      <td>SUMMIT</td>\n",
       "      <td>14 - Unknown</td>\n",
       "      <td>1123.004883</td>\n",
       "      <td>San Diego</td>\n",
       "      <td>-116.732161</td>\n",
       "      <td>32.604883</td>\n",
       "    </tr>\n",
       "    <tr>\n",
       "      <th>7107</th>\n",
       "      <td>1999</td>\n",
       "      <td>8</td>\n",
       "      <td>LAGUNA 100</td>\n",
       "      <td>7 - Arson</td>\n",
       "      <td>4411.434570</td>\n",
       "      <td>San Diego</td>\n",
       "      <td>-116.406902</td>\n",
       "      <td>32.900014</td>\n",
       "    </tr>\n",
       "    <tr>\n",
       "      <th>7188</th>\n",
       "      <td>1999</td>\n",
       "      <td>9</td>\n",
       "      <td>PROCTOR</td>\n",
       "      <td>7 - Arson</td>\n",
       "      <td>1460.064453</td>\n",
       "      <td>San Diego</td>\n",
       "      <td>-116.918494</td>\n",
       "      <td>32.692336</td>\n",
       "    </tr>\n",
       "    <tr>\n",
       "      <th>7217</th>\n",
       "      <td>1999</td>\n",
       "      <td>10</td>\n",
       "      <td>LA JOLLA</td>\n",
       "      <td>5 - Debris</td>\n",
       "      <td>7845.939941</td>\n",
       "      <td>San Diego</td>\n",
       "      <td>-116.789519</td>\n",
       "      <td>33.273254</td>\n",
       "    </tr>\n",
       "    <tr>\n",
       "      <th>7331</th>\n",
       "      <td>1999</td>\n",
       "      <td>10</td>\n",
       "      <td>SHOCKEY</td>\n",
       "      <td>14 - Unknown</td>\n",
       "      <td>3284.517578</td>\n",
       "      <td>San Diego</td>\n",
       "      <td>-116.405917</td>\n",
       "      <td>32.607751</td>\n",
       "    </tr>\n",
       "  </tbody>\n",
       "</table>\n",
       "<p>32 rows × 8 columns</p>\n",
       "</div>"
      ],
      "text/plain": [
       "      year  month        name              cause        acres     county  \\\n",
       "5799  1990      6   MORRETTIS          7 - Arson  3314.026611  San Diego   \n",
       "5805  1990      9       PAINT  9 - Miscellaneous  2760.890869  San Diego   \n",
       "5811  1990     10        CASE  9 - Miscellaneous  2062.641357  San Diego   \n",
       "5924  1991      6     BARRETT  2 - Equipment Use  1609.205811  San Diego   \n",
       "5985  1992     11       BRAVO       14 - Unknown  2023.847290  San Diego   \n",
       "...    ...    ...         ...                ...          ...        ...   \n",
       "6999  1998      7      SUMMIT       14 - Unknown  1123.004883  San Diego   \n",
       "7107  1999      8  LAGUNA 100          7 - Arson  4411.434570  San Diego   \n",
       "7188  1999      9     PROCTOR          7 - Arson  1460.064453  San Diego   \n",
       "7217  1999     10    LA JOLLA         5 - Debris  7845.939941  San Diego   \n",
       "7331  1999     10     SHOCKEY       14 - Unknown  3284.517578  San Diego   \n",
       "\n",
       "       longitude   latitude  \n",
       "5799 -116.667315  33.196718  \n",
       "5805 -117.144556  33.058681  \n",
       "5811 -117.441422  33.432863  \n",
       "5924 -116.670060  32.618218  \n",
       "5985 -117.543498  33.374327  \n",
       "...          ...        ...  \n",
       "6999 -116.732161  32.604883  \n",
       "7107 -116.406902  32.900014  \n",
       "7188 -116.918494  32.692336  \n",
       "7217 -116.789519  33.273254  \n",
       "7331 -116.405917  32.607751  \n",
       "\n",
       "[32 rows x 8 columns]"
      ]
     },
     "execution_count": 39,
     "metadata": {},
     "output_type": "execute_result"
    }
   ],
   "source": [
    "calfire[is_gt_1000_acres & is_in_sd & is_in_1990s]"
   ]
  }
 ],
 "metadata": {
  "celltoolbar": "Tags",
  "kernelspec": {
   "display_name": "Python 3",
   "language": "python",
   "name": "python3"
  },
  "language_info": {
   "codemirror_mode": {
    "name": "ipython",
    "version": 3
   },
   "file_extension": ".py",
   "mimetype": "text/x-python",
   "name": "python",
   "nbconvert_exporter": "python",
   "pygments_lexer": "ipython3",
   "version": "3.7.3"
  }
 },
 "nbformat": 4,
 "nbformat_minor": 4
}
