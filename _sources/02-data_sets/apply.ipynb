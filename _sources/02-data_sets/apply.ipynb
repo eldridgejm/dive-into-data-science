{
 "cells": [
  {
   "cell_type": "code",
   "execution_count": null,
   "metadata": {
    "tags": [
     "remove-cell"
    ]
   },
   "outputs": [],
   "source": [
    "import babypandas as bpd\n",
    "calfire = bpd.read_csv('data/calfire-full.csv')"
   ]
  },
  {
   "cell_type": "markdown",
   "metadata": {},
   "source": [
    "# Defining and Applying Functions"
   ]
  },
  {
   "cell_type": "markdown",
   "metadata": {},
   "source": [
    "We have seen that Python comes with a bunch of useful functions for performing common tasks. For instance, the built-in `round` function rounds a number to a specified number of decimal places."
   ]
  },
  {
   "cell_type": "code",
   "execution_count": null,
   "metadata": {},
   "outputs": [],
   "source": [
    "round(3.1415, 2)"
   ]
  },
  {
   "cell_type": "markdown",
   "metadata": {},
   "source": [
    "We have also seen that we can access even more functions by installing and importing a library, like *NumPy* or *babypandas*.\n",
    "\n",
    "In some cases, however, there might not be a library providing the function that you need. Luckily, Python allows us to define our own functions. In this section, we'll see how to create functions and apply them to tables."
   ]
  },
  {
   "cell_type": "markdown",
   "metadata": {},
   "source": [
    "## Defining Functions"
   ]
  },
  {
   "cell_type": "markdown",
   "metadata": {},
   "source": [
    "Suppose you are working with a dataset containing a bunch of street addresses, such as the following address of the University of California, San Diego:"
   ]
  },
  {
   "cell_type": "code",
   "execution_count": null,
   "metadata": {},
   "outputs": [],
   "source": [
    "ucsd = '9500 Gilman Dr, La Jolla, CA 92093'"
   ]
  },
  {
   "cell_type": "markdown",
   "metadata": {},
   "source": [
    "Suppose we only care about the city and state. That is, we'd like to extract the string `'La Jolla, CA'` from the full address. Python doesn't come with a function that does exactly this, but we can write our own without too much work.\n",
    "\n",
    "### Splitting Strings\n",
    "\n",
    "A typical address has several parts: the street address, the city name, the state, and the zip code. The parts are separated by commas (with the exception of the state and zip code). Python strings have a helpful `.split` method which will split a string into parts according to whatever delimiter we provide. To split by a comma, we write:"
   ]
  },
  {
   "cell_type": "code",
   "execution_count": null,
   "metadata": {},
   "outputs": [],
   "source": [
    "ucsd.split(',')"
   ]
  },
  {
   "cell_type": "markdown",
   "metadata": {},
   "source": [
    "The result is a list of strings, each of them a part of the original list.\n",
    "\n",
    "If we do not provide a delimiter, the default behavior of `.split` is to split based on whitespace (such as spaces):"
   ]
  },
  {
   "cell_type": "code",
   "execution_count": null,
   "metadata": {},
   "outputs": [],
   "source": [
    "ucsd.split()"
   ]
  },
  {
   "cell_type": "markdown",
   "metadata": {},
   "source": [
    "We can use `.split` to retrieve the city and state name. Notice that when we split by commas, the city name will always be the second-to-last entry of the resulting list. This is because the last comma separates the city from the state and zip code. Remember that we can retrieve the second-to-last element of a list using square bracket notation, combined with using `-2` as the index:"
   ]
  },
  {
   "cell_type": "code",
   "execution_count": null,
   "metadata": {},
   "outputs": [],
   "source": [
    "city = ucsd.split(',')[-2]\n",
    "city"
   ]
  },
  {
   "cell_type": "markdown",
   "metadata": {},
   "source": [
    "The result has a leading space that we might want to get rid of -- we'll deal with that in a moment. For now, let's retrieve the state name. To do this, it might be easiest to split based on whitespace -- then the state abbreviation will again be the second-to-last element of the list:"
   ]
  },
  {
   "cell_type": "code",
   "execution_count": null,
   "metadata": {},
   "outputs": [],
   "source": [
    "state = ucsd.split()[-2]\n",
    "state"
   ]
  },
  {
   "cell_type": "markdown",
   "metadata": {},
   "source": [
    "We'd like to put the city and state together into a single string, like `'La Jolla, CA'`. To do so, remember that the `+` operator *concatenates* strings:"
   ]
  },
  {
   "cell_type": "code",
   "execution_count": null,
   "metadata": {},
   "outputs": [],
   "source": [
    "city_and_state = city + ', ' + state\n",
    "city_and_state"
   ]
  },
  {
   "cell_type": "markdown",
   "metadata": {},
   "source": [
    "This is almost perfect, but let's get rid of the leading space. We can do this with the `.strip()` string method, which removes leading and trailing whitespace."
   ]
  },
  {
   "cell_type": "code",
   "execution_count": null,
   "metadata": {},
   "outputs": [],
   "source": [
    "city_and_state.strip()"
   ]
  },
  {
   "cell_type": "markdown",
   "metadata": {},
   "source": [
    "Great! Putting it all together, here's the code we used to retrieve the city and state:"
   ]
  },
  {
   "cell_type": "code",
   "execution_count": null,
   "metadata": {},
   "outputs": [],
   "source": [
    "city = ucsd.split(',')[-2]\n",
    "state = ucsd.split()[-2]\n",
    "city_and_state = city + ', ' + state\n",
    "city_and_state.strip()"
   ]
  },
  {
   "cell_type": "markdown",
   "metadata": {},
   "source": [
    "This code might seem simple enough, but suppose we have another address that we'd like to process:"
   ]
  },
  {
   "cell_type": "code",
   "execution_count": null,
   "metadata": {},
   "outputs": [],
   "source": [
    "lego = 'LEGOLAND California Resort 1 Legoland Dr, Carlsbad, CA 92008'"
   ]
  },
  {
   "cell_type": "markdown",
   "metadata": {},
   "source": [
    "We *could* copy and paste the code above, but there is a better way: let's define a function."
   ]
  },
  {
   "cell_type": "markdown",
   "metadata": {},
   "source": [
    "### The `def` statement\n",
    "\n",
    "In Python, new functions are created using the `def` statement. Here is an example of a function which retrieves the city and state name from an address:"
   ]
  },
  {
   "cell_type": "code",
   "execution_count": null,
   "metadata": {},
   "outputs": [],
   "source": [
    "def city_comma_state(address):\n",
    "    \"\"\"Return CITY, ST from an address string.\"\"\"\n",
    "    city = address.split(',')[-2]\n",
    "    state = address.split()[-2]\n",
    "    city_and_state = city + ', ' + state\n",
    "    return city_and_state.strip()"
   ]
  },
  {
   "cell_type": "markdown",
   "metadata": {},
   "source": [
    "There is a lot to say about this, but first let's test the function to see if it works. We call user-defined functions just like any other function:"
   ]
  },
  {
   "cell_type": "code",
   "execution_count": null,
   "metadata": {},
   "outputs": [],
   "source": [
    "city_comma_state('9500 Gilman Dr, La Jolla, CA 92093')"
   ]
  },
  {
   "cell_type": "code",
   "execution_count": null,
   "metadata": {},
   "outputs": [],
   "source": [
    "city_comma_state(ucsd)"
   ]
  },
  {
   "cell_type": "code",
   "execution_count": null,
   "metadata": {},
   "outputs": [],
   "source": [
    "city_comma_state(lego)"
   ]
  },
  {
   "cell_type": "markdown",
   "metadata": {},
   "source": [
    "Let's take a closer look at the anatomy of a function definition. {numref}`function` below shows all of the different parts."
   ]
  },
  {
   "cell_type": "markdown",
   "metadata": {},
   "source": [
    "```{figure} ../images/function.svg\n",
    "---\n",
    "width: 80%\n",
    "name: function\n",
    "---\n",
    "The anatomy of a function.\n",
    "```"
   ]
  },
  {
   "cell_type": "markdown",
   "metadata": {},
   "source": [
    "#### Name\n",
    "\n",
    "A function definition starts with a name. Above, we've named our function `city_comma_state`, but any valid variable name would do. A function's name should be short but descriptive.\n",
    "\n",
    "#### Arguments\n",
    "\n",
    "Next come the function's arguments. These are the \"inputs\" to the function. In this case, there is only one argument: the address that will be processed. We'll see how to define functions with more than one argument in a moment. A function can also have zero arguments, in which case we would write `def function_with_no_args():`. The arguments can be named anything, as long as they are valid variable names. The arguments are surrounded by parentheses, and separated by commas.\n",
    "\n",
    "#### Body\n",
    "\n",
    "The body of the function contains the code that will be executed when the function is called. The arguments can be used within the body of the function. The body of the function must be indented -- we usually do this with the tab key.\n",
    "\n",
    "#### Docstring\n",
    "\n",
    "The docstring is a piece of documentation that tells the reader what the function does. Including it is optional but recommended. If you ask Python for information on your function using `help`, the docstring will be displayed!"
   ]
  },
  {
   "cell_type": "code",
   "execution_count": null,
   "metadata": {},
   "outputs": [],
   "source": [
    "help(city_comma_state)"
   ]
  },
  {
   "cell_type": "markdown",
   "metadata": {},
   "source": [
    "#### Return\n",
    "\n",
    "A function should usually return some value -- this is done using the `return` statement, followed by an expression whose value will be returned."
   ]
  },
  {
   "cell_type": "markdown",
   "metadata": {},
   "source": [
    "### Function Behavior\n",
    "\n",
    "The code we include in a function behaves differently than the code we are used to writing in a couple of key ways."
   ]
  },
  {
   "cell_type": "markdown",
   "metadata": {},
   "source": [
    "#### Functions are \"recipes\"\n",
    "\n",
    "The code inside of a function is not executed until we call the function. For instance, suppose we try to do something impossible inside of a function -- like dividing by zero:"
   ]
  },
  {
   "cell_type": "code",
   "execution_count": null,
   "metadata": {},
   "outputs": [],
   "source": [
    "def foo():\n",
    "    x = 1/0\n",
    "    return x"
   ]
  },
  {
   "cell_type": "markdown",
   "metadata": {},
   "source": [
    "If you run the cell defining this function, everything will be fine: you won't see an error. But when you *call* the function, Python let's you know that you're doing something that is mathematically impossible:"
   ]
  },
  {
   "cell_type": "code",
   "execution_count": null,
   "metadata": {
    "tags": [
     "raises-exception"
    ]
   },
   "outputs": [],
   "source": [
    "foo()"
   ]
  },
  {
   "cell_type": "markdown",
   "metadata": {},
   "source": [
    "This is because function definition are like recipes in the sense that handing someone a recipe is not the same as following the recipe and preparing the meal."
   ]
  },
  {
   "cell_type": "markdown",
   "metadata": {},
   "source": [
    "#### Scope\n",
    "\n",
    "Variables defined within a function are available only inside of the function. We can define variables inside a function just as we normally would:"
   ]
  },
  {
   "cell_type": "code",
   "execution_count": null,
   "metadata": {},
   "outputs": [],
   "source": [
    "def foo():\n",
    "    x = 42\n",
    "    y = 5\n",
    "    return x + y"
   ]
  },
  {
   "cell_type": "markdown",
   "metadata": {},
   "source": [
    "If we run the function, we'll see the number `47` displayed:"
   ]
  },
  {
   "cell_type": "code",
   "execution_count": null,
   "metadata": {},
   "outputs": [],
   "source": [
    "foo()"
   ]
  },
  {
   "cell_type": "markdown",
   "metadata": {},
   "source": [
    "However, if we try to use the variable `x`, Python will yell at us:"
   ]
  },
  {
   "cell_type": "code",
   "execution_count": null,
   "metadata": {
    "tags": [
     "raises-exception"
    ]
   },
   "outputs": [],
   "source": [
    "x"
   ]
  },
  {
   "cell_type": "markdown",
   "metadata": {},
   "source": [
    "This is because variables defined within a function are accessible only within the function. If we want to use that variable outside of the function, we need to pass it back to the caller using a `return` statement."
   ]
  },
  {
   "cell_type": "markdown",
   "metadata": {},
   "source": [
    "```{margin}\n",
    "\n",
    "It is a very good thing that the variables defined inside of a function do not exist outside of a function. For one, good programming practice stresses **encapsulation** -- that is, to keep things simple, we shouldn't need to know exactly what is going on inside of a function to be able to use it. Second, if every variable used inside of a function were available outside of the function, things would get messy very fast. Having a bunch of extra variables -- most of which you'll never use -- is called **namespace pollution**. \n",
    "\n",
    "```"
   ]
  },
  {
   "cell_type": "markdown",
   "metadata": {},
   "source": [
    "Note that arguments count as \"variables defined within a function\". For instance:"
   ]
  },
  {
   "cell_type": "code",
   "execution_count": null,
   "metadata": {},
   "outputs": [],
   "source": [
    "def foo(my_argument):\n",
    "    return my_argument + 2"
   ]
  },
  {
   "cell_type": "markdown",
   "metadata": {},
   "source": [
    "If we call the function, everything will act as expected:"
   ]
  },
  {
   "cell_type": "code",
   "execution_count": null,
   "metadata": {},
   "outputs": [],
   "source": [
    "foo(42)"
   ]
  },
  {
   "cell_type": "markdown",
   "metadata": {},
   "source": [
    "But if we try to access `my_argument` outside of the function, Python tells us that we can't:"
   ]
  },
  {
   "cell_type": "code",
   "execution_count": null,
   "metadata": {
    "tags": [
     "raises-exception"
    ]
   },
   "outputs": [],
   "source": [
    "my_argument"
   ]
  },
  {
   "cell_type": "markdown",
   "metadata": {},
   "source": [
    "On the other hand, variables defined outside of a function are available inside the function. Consider for instance:"
   ]
  },
  {
   "cell_type": "code",
   "execution_count": null,
   "metadata": {},
   "outputs": [],
   "source": [
    "x = 42\n",
    "def foo():\n",
    "    return x + 10"
   ]
  },
  {
   "cell_type": "code",
   "execution_count": null,
   "metadata": {},
   "outputs": [],
   "source": [
    "foo()"
   ]
  },
  {
   "cell_type": "markdown",
   "metadata": {},
   "source": [
    "Use this behavior sparingly -- it is usually better to \"isolate\" a function from the outside world by passing in all of the variables that it needs."
   ]
  },
  {
   "cell_type": "markdown",
   "metadata": {},
   "source": [
    "#### `return` exits the function\n",
    "\n",
    "As soon as Python encounters a `return` statement, it stops executing the function and returns the corresponding value. As an example, consider the code below which has three `return`s. Only the first return statement will ever run:"
   ]
  },
  {
   "cell_type": "code",
   "execution_count": null,
   "metadata": {},
   "outputs": [],
   "source": [
    "def foo():\n",
    "    print('Starting execution.')\n",
    "    return 1\n",
    "    print('Hey, I made it!')\n",
    "    return 2\n",
    "    print('On to number three...')\n",
    "    return 3"
   ]
  },
  {
   "cell_type": "code",
   "execution_count": null,
   "metadata": {},
   "outputs": [],
   "source": [
    "foo()"
   ]
  },
  {
   "cell_type": "markdown",
   "metadata": {},
   "source": [
    "#### `print`ing versus `return`ing\n",
    "\n",
    "As we saw above, functions are somewhat isolated from the rest of the world in the sense that variables defined within them cannot be used outside of the function. The \"correct\" way of transmitting values back to the world is to use a `return` statement. However, a common mistake is to think that `print` does the same thing. This is understandable, since `print`ing and `returning` looks similar in a Jupyter notebook. For example, let's define a function that both `print`s and `return`s:"
   ]
  },
  {
   "cell_type": "code",
   "execution_count": null,
   "metadata": {},
   "outputs": [],
   "source": [
    "def foo():\n",
    "    x = 42\n",
    "    y = 52\n",
    "    print(y)\n",
    "    return x"
   ]
  },
  {
   "cell_type": "markdown",
   "metadata": {},
   "source": [
    "When we run this function, we'll see both values:"
   ]
  },
  {
   "cell_type": "code",
   "execution_count": null,
   "metadata": {},
   "outputs": [],
   "source": [
    "z = foo()\n",
    "z"
   ]
  },
  {
   "cell_type": "markdown",
   "metadata": {},
   "source": [
    "Only `42` is the *output* of the cell and can be \"saved\" to a variable. `52`, on the other hand, is simply displayed to the screen and is afterwards lost forever. This can be checked by displaying the value of `z`:"
   ]
  },
  {
   "cell_type": "code",
   "execution_count": null,
   "metadata": {},
   "outputs": [],
   "source": [
    "z"
   ]
  },
  {
   "cell_type": "markdown",
   "metadata": {},
   "source": [
    "Nevertheless, using `print` inside of a function can be helpful in \"debugging\" -- more on that in a moment.\n",
    "Lastly, if you truly want to return two values from a function, the right way to do so is by separating them with a comma, as follows:"
   ]
  },
  {
   "cell_type": "code",
   "execution_count": null,
   "metadata": {},
   "outputs": [],
   "source": [
    "def foo():\n",
    "    x = 42\n",
    "    y = 52\n",
    "    return x, y"
   ]
  },
  {
   "cell_type": "markdown",
   "metadata": {},
   "source": [
    "When the function is run, it will return a **tuple** of two things:"
   ]
  },
  {
   "cell_type": "code",
   "execution_count": null,
   "metadata": {},
   "outputs": [],
   "source": [
    "foo()"
   ]
  },
  {
   "cell_type": "markdown",
   "metadata": {},
   "source": [
    "A **tuple** is like a list, so we can use square bracket notation to retrieve each element:"
   ]
  },
  {
   "cell_type": "code",
   "execution_count": null,
   "metadata": {},
   "outputs": [],
   "source": [
    "foo()[0]"
   ]
  },
  {
   "cell_type": "code",
   "execution_count": null,
   "metadata": {},
   "outputs": [],
   "source": [
    "foo()[1]"
   ]
  },
  {
   "cell_type": "markdown",
   "metadata": {},
   "source": [
    "We won't usually need to return more than one thing from a function, though."
   ]
  },
  {
   "cell_type": "markdown",
   "metadata": {},
   "source": [
    "## Examples\n",
    "\n",
    "***Given a year, produce the decade***"
   ]
  },
  {
   "cell_type": "markdown",
   "metadata": {},
   "source": [
    "Given a year, such as 1994, we'd like to retrieve the decade; in this case, 1990. At first we might think that `round` is useful:"
   ]
  },
  {
   "cell_type": "code",
   "execution_count": null,
   "metadata": {},
   "outputs": [],
   "source": [
    "round(1994, -1)"
   ]
  },
  {
   "cell_type": "markdown",
   "metadata": {},
   "source": [
    "But it won't work for years like 1997, since it will round up:"
   ]
  },
  {
   "cell_type": "code",
   "execution_count": null,
   "metadata": {},
   "outputs": [],
   "source": [
    "round(1997, -1)"
   ]
  },
  {
   "cell_type": "markdown",
   "metadata": {},
   "source": [
    "There are a few approaches that do work. One way is to use the `%` operator. Remember that `x % y` returns the *remainder* upon dividing `x` by `y`. For example:"
   ]
  },
  {
   "cell_type": "code",
   "execution_count": null,
   "metadata": {},
   "outputs": [],
   "source": [
    "1992 % 10"
   ]
  },
  {
   "cell_type": "markdown",
   "metadata": {},
   "source": [
    "To find the decade, we can simply subtract the remainder obtained by dividing by ten:"
   ]
  },
  {
   "cell_type": "code",
   "execution_count": null,
   "metadata": {},
   "outputs": [],
   "source": [
    "1992 - (1992 % 10)"
   ]
  },
  {
   "cell_type": "code",
   "execution_count": null,
   "metadata": {},
   "outputs": [],
   "source": [
    "1997 - (1997 % 10)"
   ]
  },
  {
   "cell_type": "code",
   "execution_count": null,
   "metadata": {},
   "outputs": [],
   "source": [
    "2000 - (2000 % 10)"
   ]
  },
  {
   "cell_type": "markdown",
   "metadata": {},
   "source": [
    "Placing this code in a function makes it so we don't have to remember this trick, and makes our code more **readable**:"
   ]
  },
  {
   "cell_type": "code",
   "execution_count": null,
   "metadata": {},
   "outputs": [],
   "source": [
    "def decade_from_year(year):\n",
    "    return year - year % 10"
   ]
  },
  {
   "cell_type": "code",
   "execution_count": null,
   "metadata": {},
   "outputs": [],
   "source": [
    "decade_from_year(1992)"
   ]
  },
  {
   "cell_type": "code",
   "execution_count": null,
   "metadata": {},
   "outputs": [],
   "source": [
    "decade_from_year(1997)"
   ]
  },
  {
   "cell_type": "markdown",
   "metadata": {},
   "source": [
    "***Given height and width, compute the area of a triangle***"
   ]
  },
  {
   "cell_type": "markdown",
   "metadata": {},
   "source": [
    "We need to define a function with *two* variables. We do so by separating the argument names with a comma, like so:"
   ]
  },
  {
   "cell_type": "code",
   "execution_count": null,
   "metadata": {},
   "outputs": [],
   "source": [
    "def area_of_triangle(base, height):\n",
    "    return 1/2 * base * height"
   ]
  },
  {
   "cell_type": "code",
   "execution_count": null,
   "metadata": {},
   "outputs": [],
   "source": [
    "area_of_triangle(10, 5)"
   ]
  },
  {
   "cell_type": "markdown",
   "metadata": {},
   "source": [
    "Note that the *order* of the arguments matters. When `area_of_triangle(10, 5)` is executed, Python assigns the value of 10 to `base` and assigns the value of 5 to `height`. If you wish, you can use the keyword argument form to call the function, in which case arguments can be provided in any order. This is slightly more readable, too:"
   ]
  },
  {
   "cell_type": "code",
   "execution_count": null,
   "metadata": {},
   "outputs": [],
   "source": [
    "area_of_triangle(height=4, base=10)"
   ]
  },
  {
   "cell_type": "markdown",
   "metadata": {},
   "source": [
    "***Perform a frequent query***"
   ]
  },
  {
   "cell_type": "markdown",
   "metadata": {},
   "source": [
    "Suppose we frequently want to retrieve only those rows of a table whose entries lie between some thresholds. For instance, we\n",
    " might want only those fires in` calfire` from between 1995 and 2000. By writing this query into a function accepting a table, a column, and the thresholds, we make it easy to repeat:"
   ]
  },
  {
   "cell_type": "code",
   "execution_count": null,
   "metadata": {},
   "outputs": [],
   "source": [
    "def between(table, column, start, stop):\n",
    "    return table[(table.get(column) >= start) & (table.get(column) < stop)]"
   ]
  },
  {
   "cell_type": "markdown",
   "metadata": {},
   "source": [
    "For instance, to get only those fires from between 1995 and 2000:"
   ]
  },
  {
   "cell_type": "code",
   "execution_count": null,
   "metadata": {},
   "outputs": [],
   "source": [
    "between(calfire, 'year', 1995, 2000)"
   ]
  },
  {
   "cell_type": "markdown",
   "metadata": {},
   "source": [
    "Because this function accepts the column name, it is very reusable. We can use it to get the fires whose size is between 10,000 and 20,000 acres:"
   ]
  },
  {
   "cell_type": "code",
   "execution_count": null,
   "metadata": {},
   "outputs": [],
   "source": [
    "between(calfire, 'acres', 10_000, 20_000)"
   ]
  },
  {
   "cell_type": "markdown",
   "metadata": {},
   "source": [
    "Since the `<=` and `>` operators work on strings, too, we can get all of the fires whose name is between A and E:"
   ]
  },
  {
   "cell_type": "code",
   "execution_count": null,
   "metadata": {},
   "outputs": [],
   "source": [
    "between(calfire, 'name', 'A', 'E')"
   ]
  },
  {
   "cell_type": "markdown",
   "metadata": {},
   "source": [
    "## The `.apply` Series Method"
   ]
  },
  {
   "cell_type": "markdown",
   "metadata": {},
   "source": [
    "DataFrames come equipped with many useful methods, but defining our own functions allows us to make tables even more powerful. One way to use tables with functions is to pass the table into the function as one of its inputs, as we saw in the example above. In some situations, however, we don't want to apply the function to the entire table, but rather to each entry in one of the table's columns. In these cases, we can use the `.apply` method.\n",
    "\n",
    "For instance, suppose we have a table containing a `'year'` column, such as the `calfire` table we have been using, and we want to convert each year into the corresponding decade. We have already written a function that converts a single year to a decade: `decade_from_year`. Recall how it works:"
   ]
  },
  {
   "cell_type": "code",
   "execution_count": null,
   "metadata": {},
   "outputs": [],
   "source": [
    "decade_from_year(1987)"
   ]
  },
  {
   "cell_type": "markdown",
   "metadata": {},
   "source": [
    "We'd like to apply this function to each entry in the `'year'` column. To do so, we'll use `.apply`:"
   ]
  },
  {
   "cell_type": "code",
   "execution_count": null,
   "metadata": {},
   "outputs": [],
   "source": [
    "calfire.get('year').apply(decade_from_year)"
   ]
  },
  {
   "cell_type": "markdown",
   "metadata": {},
   "source": [
    "Notice the pattern here: we `.get('year')` to retrieve column we wish to work with, and then `.apply(decade_from_year)` to the column. The result is a Series with the same number of entries as the column containing the years. Each entry is the result of applying the function to the corresponding entry of the original column."
   ]
  },
  {
   "cell_type": "markdown",
   "metadata": {},
   "source": [
    "```{warning}\n",
    "\n",
    "Note that we pass the function into `.apply` *without* trailing parentheses. That is, we write `.apply(decade_from_year)` and not `.apply(decade_from_year())` or `.apply(decade_from_year(calfire.get('year')))`. The `.apply` method accepts the name of a function. It will then call the function many times on the given Series.\n",
    "```"
   ]
  },
  {
   "cell_type": "markdown",
   "metadata": {},
   "source": [
    "In many cases we'd like to add this new Series back to the table as a new column. We can do so with `.assign`:"
   ]
  },
  {
   "cell_type": "code",
   "execution_count": null,
   "metadata": {},
   "outputs": [],
   "source": [
    "with_decade = calfire.assign(\n",
    "    decade=calfire.get('year').apply(decade_from_year)\n",
    ")\n",
    "with_decade"
   ]
  },
  {
   "cell_type": "markdown",
   "metadata": {},
   "source": [
    "The `.apply` method is very useful for **data cleaning**. Data rarely comes to us in the exact form we need or prefer. For instance, we might wish to convert a year to its decade, or remove the leading number code from a fire's cause. A common approach to doing so is to write a function capable of converting or cleaning a single entry, then `.apply`ing this function to the entire column."
   ]
  },
  {
   "cell_type": "markdown",
   "metadata": {},
   "source": [
    "***Example: clean the `cause` column***"
   ]
  },
  {
   "cell_type": "markdown",
   "metadata": {},
   "source": [
    "The `cause` column contains the cause of each fire as string, such as `'14 - Unknown'`. The string contains a number encoding unique to the cause of the fire, but this is redundant since the cause is described immediately after. Let's get rid of the number, leaving only the description.\n",
    "\n",
    "First, we'll write a function that accepts a cause and returns only the description:"
   ]
  },
  {
   "cell_type": "code",
   "execution_count": null,
   "metadata": {},
   "outputs": [],
   "source": [
    "def cause_description(cause):\n",
    "    return cause.split('-')[-1].strip()"
   ]
  },
  {
   "cell_type": "code",
   "execution_count": null,
   "metadata": {},
   "outputs": [],
   "source": [
    "cause_description('2 - Equipment Use')"
   ]
  },
  {
   "cell_type": "markdown",
   "metadata": {},
   "source": [
    "Now we `.apply` the function to the `'cause'` column. We'll save it back to the table using `.assign`:"
   ]
  },
  {
   "cell_type": "code",
   "execution_count": null,
   "metadata": {},
   "outputs": [],
   "source": [
    "calfire.assign(\n",
    "    cause=calfire.get('cause').apply(cause_description)\n",
    ")"
   ]
  }
 ],
 "metadata": {
  "celltoolbar": "Tags",
  "kernelspec": {
   "display_name": "Python 3",
   "language": "python",
   "name": "python3"
  },
  "language_info": {
   "codemirror_mode": {
    "name": "ipython",
    "version": 3
   },
   "file_extension": ".py",
   "mimetype": "text/x-python",
   "name": "python",
   "nbconvert_exporter": "python",
   "pygments_lexer": "ipython3",
   "version": "3.7.3"
  }
 },
 "nbformat": 4,
 "nbformat_minor": 4
}
