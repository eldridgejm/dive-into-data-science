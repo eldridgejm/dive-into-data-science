{
 "cells": [
  {
   "cell_type": "markdown",
   "metadata": {},
   "source": [
    "## Merge"
   ]
  },
  {
   "cell_type": "markdown",
   "metadata": {},
   "source": [
    "We often find the need to work with data from multiple tables, even when that data is about the same topic! For example, both our wildfire data and our climate data had rows about 2019, or in a separate setting a store might keep track of their sales in one table but keep info on each item sold in a separate table. In either case, we'll likely find it useful to combine the tables and put the data in one place so that we can conduct our analysis. This is called 'merging' or 'joining'.\n",
    "\n",
    "Let's entertain the second example in order to see how merging works. Suppose we're a paint retailer, and we keep a table of transactions and a separate table of the paints we sell."
   ]
  },
  {
   "cell_type": "code",
   "execution_count": null,
   "metadata": {},
   "outputs": [],
   "source": [
    "import babypandas as bpd"
   ]
  },
  {
   "cell_type": "code",
   "execution_count": null,
   "metadata": {},
   "outputs": [],
   "source": [
    "orders = bpd.DataFrame().assign(\n",
    "    order_number=range(111,111+5),\n",
    "    item=['BEHR-N2', 'BEHR-N2', 'KM-D4', 'SW-K3', 'VALS-N2'],\n",
    "    sale=[35.98, 31.08, 28.99, 35.98, 39.77]\n",
    ")\n",
    "orders"
   ]
  },
  {
   "cell_type": "code",
   "execution_count": null,
   "metadata": {},
   "outputs": [],
   "source": [
    "paints = bpd.DataFrame().assign(\n",
    "    item_id=['BEHR-N2', 'KM-D4', 'SW-K3', 'SW-Q0', 'VALS-N2'],\n",
    "    brand=['Behr', 'Kelley-Moore', 'Sherwin-Williams', 'Sherwin-Williams', 'Valspar'],\n",
    "    color=['blue', 'red', 'green', 'black', 'blue'],\n",
    "    weight=[11.4, 8.9, 10.0, 10.1, 9.2]\n",
    ")\n",
    "paints"
   ]
  },
  {
   "cell_type": "markdown",
   "metadata": {},
   "source": [
    "A logical course of inquiry would be to figure out what kind of paint our customers like to buy, so that we can prioritize marketing and stocking that paint. Congrats, you've just discovered the field of business analytics! You've also discovered the need to merge these two tables.\n",
    "\n",
    "Currently we don't know how to write code that would calculate which color of paint sells the most. However, notice that each table has a column with the paints' serial number. We can utilize this to join the tables such that every time a serial number shows up in `orders`, we also include the columns from `paints`.\n",
    "\n",
    "We accomplish this with the `.merge` method, and just need to specify the names of the shared column."
   ]
  },
  {
   "cell_type": "code",
   "execution_count": null,
   "metadata": {},
   "outputs": [],
   "source": [
    "merged = orders.merge(paints, left_on='item', right_on='item_id')\n",
    "merged"
   ]
  },
  {
   "cell_type": "markdown",
   "metadata": {},
   "source": [
    "In calling this method, we're telling Babypandas to take a 'left' and 'right' table and merge the two tables based on shared values in a specific column.\n",
    "\n",
    "![](merging.jpg)\n",
    "\n",
    "Notice that an item only shows up in this merged table if it shows up in *both* tables. And an item can show up multiple times if either table has multiple entries for it."
   ]
  },
  {
   "cell_type": "markdown",
   "metadata": {},
   "source": [
    "```{margin}\n",
    "The technical term for this type of merge, where data only shows up if its in both tables, is called an 'inner join'.\n",
    "```"
   ]
  },
  {
   "cell_type": "markdown",
   "metadata": {},
   "source": [
    "Since this table join looks at both tables to decide whether to include a row, it doesn't actually matter which table we use as the left versus the right. The only thing that will change is the order of our columns."
   ]
  },
  {
   "cell_type": "code",
   "execution_count": null,
   "metadata": {},
   "outputs": [],
   "source": [
    "paints.merge(orders, left_on='item_id', right_on='item')"
   ]
  },
  {
   "cell_type": "markdown",
   "metadata": {},
   "source": [
    "With the table merge complete, we can easily perform calculations which rely on features from both `orders` and `paints`, such as the distribution of orders across each color of paint, or the average price-per-pound of the paints in our store."
   ]
  },
  {
   "cell_type": "markdown",
   "metadata": {},
   "source": [
    "````{hiddenanswer}\n",
    "---\n",
    "question: What code could you write to plot the categorical distribution of orders of each paint color?\n",
    "answer: |\n",
    "    ```python\n",
    "    merged.groupby('color').count().plot(kind='bar', y='order_number')\n",
    "    ```\n",
    "````"
   ]
  },
  {
   "cell_type": "markdown",
   "metadata": {},
   "source": [
    "If we're following good table practices, we should really be setting the indices of our tables. So, orders would be indexed by order_number, and paints would be indexed by item_id."
   ]
  },
  {
   "cell_type": "code",
   "execution_count": null,
   "metadata": {},
   "outputs": [],
   "source": [
    "orders = orders.set_index('order_number')\n",
    "orders"
   ]
  },
  {
   "cell_type": "code",
   "execution_count": null,
   "metadata": {},
   "outputs": [],
   "source": [
    "paints = paints.set_index('item_id')\n",
    "paints"
   ]
  },
  {
   "cell_type": "markdown",
   "metadata": {},
   "source": [
    "In this case, we'd need to merge using the 'item' column from `orders`, but the *index* of `paints`. To merge on an index, instead of specifying `left_on` or `right_on` we just specify `left_index=True` or `right_index=True`."
   ]
  },
  {
   "cell_type": "code",
   "execution_count": null,
   "metadata": {},
   "outputs": [],
   "source": [
    "orders.merge(paints, left_on='item', right_index=True)"
   ]
  },
  {
   "cell_type": "markdown",
   "metadata": {},
   "source": [
    "Merging is an integral part of data management, and serves as an intermediate step in our analysis. By aggregating data from multiple tables into a single table, we can feel confident in our ability to work with organized data, or even pull in and combine data from various sources!"
   ]
  }
 ],
 "metadata": {
  "kernelspec": {
   "display_name": "Python 3",
   "language": "python",
   "name": "python3"
  },
  "language_info": {
   "codemirror_mode": {
    "name": "ipython",
    "version": 3
   },
   "file_extension": ".py",
   "mimetype": "text/x-python",
   "name": "python",
   "nbconvert_exporter": "python",
   "pygments_lexer": "ipython3",
   "version": "3.8.3"
  }
 },
 "nbformat": 4,
 "nbformat_minor": 4
}
