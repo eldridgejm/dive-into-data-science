{
 "cells": [
  {
   "cell_type": "markdown",
   "metadata": {},
   "source": [
    "# Hypothesis Tests for Parameters using Confidence Intervals"
   ]
  },
  {
   "cell_type": "markdown",
   "metadata": {},
   "source": [
    "In the previous chapter we discovered that we can set up Hypothesis Tests about assumptions of certain characteristics of our population distribution -- like it's shape, or the value of one of its parameters.\n",
    "\n",
    "In this chapter we've introduce a way to estimate a population parameter using sampling distributions and confidence intervals, sometimes even in the absence of assumptions.\n",
    "\n",
    "Turns out, we can combine the two and use confidence intervals to test assumptions about parameters!"
   ]
  },
  {
   "cell_type": "markdown",
   "metadata": {},
   "source": [
    "## Chances of containing a parameter"
   ]
  },
  {
   "cell_type": "markdown",
   "metadata": {},
   "source": [
    "Remember that a process which generates 95% confidence intervals will generate an interval containing the true population parameter 95% of the time. We looked at this using a cool visualization of a bunch of bootstrapped confidence intervals.\n",
    "\n",
    "![](confidence-interval-containment.png)\n",
    "\n",
    "Another way to think about this is that it's *pretty rare* that we could generate a confidence interval which *doesn't* contain the true population parameter... With a 95% confidence interval this only theoretically happens 5% of the time. If we were using a 99% confidence interval, we'd expect to ever randomly compute an interval not containing the true parameter only 1% of the time -- a very unlikely event!\n",
    "\n",
    "Do you see where we're heading with this?"
   ]
  },
  {
   "cell_type": "markdown",
   "metadata": {},
   "source": [
    "## Matching error probabilities"
   ]
  },
  {
   "cell_type": "markdown",
   "metadata": {},
   "source": [
    "Suppose we're testing if a coin is fair, so our null hypothesis is that the coin is fair, $P(Heads) = 0.5$, and our alternative hypothesis is that it isn't fair. We don't have access to the entire population of coin flips (that's infinite!) but we do have access to a sample of 100 flips."
   ]
  },
  {
   "cell_type": "code",
   "execution_count": null,
   "metadata": {},
   "outputs": [],
   "source": [
    "import babypandas as bpd\n",
    "import numpy as np\n",
    "import matplotlib.pyplot as plt\n",
    "\n",
    "np.random.seed(456)\n",
    "heads_probability = np.random.random()\n",
    "\n",
    "sample = bpd.DataFrame().assign(\n",
    "    trial=np.arange(1,100+1),\n",
    "    outcome=np.random.choice(\n",
    "        ['Heads', 'Tails'],\n",
    "        p=[heads_probability, 1-heads_probability],\n",
    "        size=100\n",
    "    )\n",
    ")\n",
    "\n",
    "sample_props = sample.groupby('outcome').count().get('trial') / 100\n",
    "sample_props.plot(kind='bar')\n",
    "\n",
    "plt.axhline(y=0.5, c='k', linestyle='dashed')"
   ]
  },
  {
   "cell_type": "markdown",
   "metadata": {},
   "source": [
    "Since we're about to start a test, we should specify our level of significance, $\\alpha$. If we wrongly accuse our friend of using a coin where the chance of Heads isn't 50%, we could end the friendship! So, we want to be very cautious about rejecting our null -- let's use a very small level of significance of $0.01$ (this means we'll make decisions about the null when we have less than a $1\\%$ chance of wrongly accusing our friend).\n",
    "\n",
    "The main leap in logic comes here: If we compute a $99\\%$ confidence interval for the probability of seeing Heads, then the chance that our interval incorrectly excludes the true population parameter is $1\\%$. So **if the null parameter is true, then an $x\\%$ confidence interval should only exclude it $100-x\\%$ of the time.**"
   ]
  },
  {
   "cell_type": "markdown",
   "metadata": {},
   "source": [
    "## Conducting an HT with a CI"
   ]
  },
  {
   "cell_type": "markdown",
   "metadata": {},
   "source": [
    "The structure is as follows:\n",
    "- Define the null hypothesis and alternative hypothesis for a parameter value\n",
    "- Define the level of significance, $\\alpha$\n",
    "- Generate a $100-\\alpha\\%$ confidence interval for the true parameter\n",
    "- **If our interval excludes the null parameter** it suggests that there's a less than $\\alpha\\%$ chance of this happening if the population parameter were truly the null. Since this is really unlikely, we **reject** the null.\n",
    "- **If our interval includes the null parameter** then we believe that the true parameter is somewhere within that interval, so it could be the null parameter. Thus, we **fail to reject** the null."
   ]
  },
  {
   "cell_type": "markdown",
   "metadata": {},
   "source": [
    "Let's try it out with our coin flip example!\n",
    "\n",
    "We've already determined our hypotheses:\n",
    "- $H_0$: The true $P(Heads)$ for the coin is $0.5$\n",
    "- $H_1$: The true $P(Heads) \\neq 0.5$.\n",
    "\n",
    "And we don't want to falsely accuse our friend so we're using a low level of significance $\\alpha = 1\\%$.\n",
    "\n",
    "Now it's time to generate some $100-\\alpha\\%=99\\%$ confidence intervals for the probability of Heads. We'll do so by bootstrapping the proportion of Heads in our sample."
   ]
  },
  {
   "cell_type": "code",
   "execution_count": null,
   "metadata": {},
   "outputs": [],
   "source": [
    "def bootstrap_proportions(sample, trials):\n",
    "    \"\"\"\n",
    "    Generates bootstrapped proportions of Heads estimates from a sample.\n",
    "    \"\"\"\n",
    "    bootstrapped_proportions = []\n",
    "    for i in range(trials):\n",
    "        resample = sample.sample(sample.shape[0], replace=True)\n",
    "        boot_prop_heads = (resample.get('outcome') == 'Heads').mean()\n",
    "        bootstrapped_proportions.append(boot_prop_heads)\n",
    "    return bootstrapped_proportions"
   ]
  },
  {
   "cell_type": "markdown",
   "metadata": {},
   "source": [
    "And we build our confidence interval and plot it.\n",
    "\n",
    "Let's also plot our null parameter so we can see if our interval contains it or not."
   ]
  },
  {
   "cell_type": "code",
   "execution_count": null,
   "metadata": {},
   "outputs": [],
   "source": [
    "# Use bootstrapping to estimate a sampling distribution using our sample\n",
    "boot_props = bootstrap_proportions(sample, 1000)\n",
    "\n",
    "plt.hist(boot_props, density=True)\n",
    "\n",
    "lower = np.percentile(boot_props, 0.5)\n",
    "upper = np.percentile(boot_props, 99.5)\n",
    "plt.plot([lower, upper], [0, 0], c='gold', lw=8, label='99% CI')\n",
    "\n",
    "null_proportion = 0.5\n",
    "plt.axvline(null_proportion, c='k', linestyle='dashed', label='Null proportion')\n",
    "\n",
    "plt.title('Distribution of resample proportions')\n",
    "plt.xlabel('Bootstrap P(Heads)')\n",
    "\n",
    "plt.legend();"
   ]
  },
  {
   "cell_type": "markdown",
   "metadata": {},
   "source": [
    "It looks like our $99\\%$ confidence interval didn't contain $0.5$.\n",
    "\n",
    "So, *if* the actual probability of flipping a Heads with this coin *truly was* $0.5$, then we have only a $1\\%$ chance of managing to create the confidence interval we just did -- one which manages to not contain the 'true' parameter.\n",
    "\n",
    "That seems pretty unlikely (less than a $1\\%$ chance), so it looks like we're going to need to reject the null hypothesis and decide that our friend is using an unfair coin!"
   ]
  }
 ],
 "metadata": {
  "kernelspec": {
   "display_name": "Python 3",
   "language": "python",
   "name": "python3"
  },
  "language_info": {
   "codemirror_mode": {
    "name": "ipython",
    "version": 3
   },
   "file_extension": ".py",
   "mimetype": "text/x-python",
   "name": "python",
   "nbconvert_exporter": "python",
   "pygments_lexer": "ipython3",
   "version": "3.8.3"
  }
 },
 "nbformat": 4,
 "nbformat_minor": 4
}
