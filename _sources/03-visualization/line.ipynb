{
 "cells": [
  {
   "cell_type": "code",
   "execution_count": null,
   "metadata": {
    "tags": [
     "remove-cell"
    ]
   },
   "outputs": [],
   "source": [
    "import babypandas as bpd\n",
    "import numpy as np\n",
    "import matplotlib.pyplot as plt\n",
    "\n",
    "plt.style.use('ggplot')\n",
    "\n",
    "climate = bpd.read_csv('../../data/climate.csv')"
   ]
  },
  {
   "cell_type": "markdown",
   "metadata": {},
   "source": [
    "# Line graphs"
   ]
  },
  {
   "cell_type": "markdown",
   "metadata": {},
   "source": [
    "Like scatter plots, {dterm}`line graphs` are useful for visualizing the relationship between two numerical variables. Unlike scatter plots, however, line graphs assume that for any given \"x\" value, there is a unique \"y\" value. We often use line graphs for visualizing how a numerical variable changes over time.\n",
    "\n",
    "Line graphs are constructed similarly to scatter plots. We start by choosing \"x\" and \"y\" variables and plot each (x, y) pair as a point. We then draw line segments between each consecutive pair of points when ordered by their \"x\" values. The straight line segments have the effect of emphasizing the trend in \"y\" as \"x\" increases."
   ]
  },
  {
   "cell_type": "markdown",
   "metadata": {},
   "source": [
    "## Trends over time"
   ]
  },
  {
   "cell_type": "markdown",
   "metadata": {},
   "source": [
    "It is well known that the global climate is changing, and many regions are experiencing warmer average temperatures today than they did a century ago. We can see just how temperatures in the United States have changed with a simple line graph.\n",
    "\n",
    "Our goal is to plot the average temperature per year since 1898. To do so, we'll first need to group by year and aggregate using `.mean()`:"
   ]
  },
  {
   "cell_type": "code",
   "execution_count": null,
   "metadata": {},
   "outputs": [],
   "source": [
    "average_temperatures_by_year = climate.groupby('year').mean()\n",
    "average_temperatures_by_year"
   ]
  },
  {
   "cell_type": "markdown",
   "metadata": {},
   "source": [
    "While this table contains all of the information we're interested in, it is hard to identify any trends. Let's instead use a line graph to visualize the data. To create a line graph, we use the `.plot()` method with `kind='line'`. We'll use the temperature as the \"y\" variable, and the year as the \"x\" variable. Note, however, that the year is actually in the table's *index*, which is not a column. If we want to use the index as our \"x\" variable, we write `x=None`, as below:"
   ]
  },
  {
   "cell_type": "code",
   "execution_count": null,
   "metadata": {},
   "outputs": [],
   "source": [
    "average_temperatures_by_year.plot(kind='line', x=None, y='temperature');"
   ]
  },
  {
   "cell_type": "markdown",
   "metadata": {},
   "source": [
    "In fact, the default behavior of `.plot` is to use the index as the \"x\" value. This means that we can omit the `x=` keyword argument entirely and the index will be used:"
   ]
  },
  {
   "cell_type": "code",
   "execution_count": null,
   "metadata": {},
   "outputs": [],
   "source": [
    "average_temperatures_by_year.plot(kind='line', y='temperature');"
   ]
  },
  {
   "cell_type": "markdown",
   "metadata": {},
   "source": [
    "```{warning}\n",
    "Note that omitting the `x=` keyword argument does *not* work for scatter plots. It works on most other types of plots, though!\n",
    "```"
   ]
  },
  {
   "cell_type": "markdown",
   "metadata": {},
   "source": [
    "These plots show that the unfortunate trend: temperatures have been steadily increasing over the last few decades, at least."
   ]
  },
  {
   "cell_type": "markdown",
   "metadata": {},
   "source": [
    "```{margin}\n",
    "In the last section we argued against including all of the climate regions in one visualization, since they are so different. Why is it OK to do so here? You can verify that the same warming trend occurs in *every* climate region, and therefore it is not misleading to show the overall trend.\n",
    "```"
   ]
  },
  {
   "cell_type": "markdown",
   "metadata": {},
   "source": [
    "## Misleading scales\n",
    "\n",
    "When interpreting a visualization, you should always pay special attention to the *scale* of the x- and y-axes. By manipulating these scales, it is possible to make trends appear and disappear.\n",
    "\n",
    "Consider the plot above. The default behavior of pandas is to choose the scale of the y-axis so as to minimize empty space. In this case, the default axis ranges from 49 degrees to about 55 degrees. As a consequence, the line is more than *twice* as high in 2010 as it was in 1900. Of course, this doesn't mean that the temperature is twice as high as it was in 1900! Still, if our goal was to make the change in temperature appear as large as possible, this would be the scale we would use.\n",
    "\n",
    "On the other hand, if we wished to *downplay* the change in temperature over the last century, we might change the y-axis so that it starts at zero and ends at 100. This \"fixes\" the issue with the line doubling in height, but it has the effect of obscuring the warming trend. We can see this by re-creating the plot above, this time with `ylim=(0, 100)`, which makes the lower and upper limits of the y-axis 0 degrees and 100 degrees, respectively."
   ]
  },
  {
   "cell_type": "code",
   "execution_count": null,
   "metadata": {},
   "outputs": [],
   "source": [
    "average_temperatures_by_year.plot(kind='line', y='temperature', ylim=(0, 100));"
   ]
  },
  {
   "cell_type": "markdown",
   "metadata": {},
   "source": [
    "There isn't necessarily a single \"correct\" scale for a particular visualization. Therefore, when reading any type of graph, make sure you take a look at the scale of each axis before drawing conclusions!"
   ]
  }
 ],
 "metadata": {
  "kernelspec": {
   "display_name": "Python 3",
   "language": "python",
   "name": "python3"
  },
  "language_info": {
   "codemirror_mode": {
    "name": "ipython",
    "version": 3
   },
   "file_extension": ".py",
   "mimetype": "text/x-python",
   "name": "python",
   "nbconvert_exporter": "python",
   "pygments_lexer": "ipython3",
   "version": "3.7.3"
  }
 },
 "nbformat": 4,
 "nbformat_minor": 4
}
